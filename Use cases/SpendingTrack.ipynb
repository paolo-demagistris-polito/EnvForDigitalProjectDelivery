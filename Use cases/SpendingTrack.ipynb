{
 "cells": [
  {
   "cell_type": "markdown",
   "id": "ef73024b-e0d9-4141-9580-88d82ca5b2df",
   "metadata": {},
   "source": [
    "# smart book for tracking spending"
   ]
  },
  {
   "cell_type": "markdown",
   "id": "6f5aed3c-5cdd-4e12-a3e2-9bc1ea3908bd",
   "metadata": {},
   "source": [
    "Purpose of this notebook is to interface with django modules, through python directly.\n",
    "\n",
    "This notebook relates to user story As a Project controller I must track spending\n",
    "\n",
    "Spending for the sake of this eschema is the sum of agreed transactions. Basically its about recording a commitment to pay somebody, ie a contract.\n",
    "\n",
    "Contract can be internal, and refers to paytoll for direct spending, so belongs to project.resources\n",
    "\n",
    "If the contract is with another party we use project.procurement\n",
    "\n"
   ]
  },
  {
   "cell_type": "code",
   "execution_count": null,
   "id": "dda53eba-0e20-462b-9bb3-e549e9b73906",
   "metadata": {},
   "outputs": [],
   "source": [
    "# this python call assumes that there is a django project implemented and ipython can access it\n",
    "# this code is schematic of the instructions\n",
    "from django import models\n",
    "# django provides persistance to our ProjectManagementInformationSystem (PIMS)\n",
    "\n",
    "# if using a REST api this is GET\n",
    "\n",
    "from django import auth\n",
    "# use auth methods on django\n",
    "\n",
    "if auth.canedit\n",
    "\n",
    "    project = models.integration.project(\"test\")\n",
    "    \n",
    "    resources = project.resources\n",
    "    \n",
    "    print(resources)\n",
    "        [\"technician\",\"engineer\",\"purchase officer\"]\n",
    "    \n",
    "    print(resources.cost)\n",
    "        \n",
    "    # assignment is related to schedule, assign resources, number of hours to each task\n",
    "    for resource in resources\n",
    "        res_spending += resource.cost*resource.assignment\n",
    "        \n",
    "    print(res-spending)\n",
    "        155000\n",
    "        \n",
    "    contract = project.procurement.contracts\n",
    "    \n",
    "    for contract in contracts\n",
    "        contract_spending += contract.total_price\n",
    "    \n",
    "        \n",
    "    \n",
    "    \n",
    "    \n",
    "    \n",
    "    print(forecast_assignments)\n",
    "    \n",
    "    \n",
    "\n",
    "    budget = [{\"year\": 2021, \"budget\": 25000},{\"year\": 2022, \"budget\": 125000},{\"year\": 2023, \"budget\": 325000}]\n",
    "    project.integration.charter.budget = budget\n",
    "    print(project.integration.charter.budget)\n",
    "\n",
    "    [{\"year\": 2021, \"budget\": 25000},{\"year\": 2022, \"budget\": 125000},{\"year\": 2023, \"budget\": 325000}]\n",
    "\n",
    "else\n",
    "    print(\"notAuth\")\n",
    "# we can use pandas to have represent a datagrid\n"
   ]
  }
 ],
 "metadata": {
  "kernelspec": {
   "display_name": "Python 3 (ipykernel)",
   "language": "python",
   "name": "python3"
  },
  "language_info": {
   "codemirror_mode": {
    "name": "ipython",
    "version": 3
   },
   "file_extension": ".py",
   "mimetype": "text/x-python",
   "name": "python",
   "nbconvert_exporter": "python",
   "pygments_lexer": "ipython3",
   "version": "3.8.12"
  }
 },
 "nbformat": 4,
 "nbformat_minor": 5
}
