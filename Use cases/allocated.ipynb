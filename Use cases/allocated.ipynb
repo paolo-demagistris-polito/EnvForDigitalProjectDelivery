{
 "cells": [
  {
   "cell_type": "markdown",
   "id": "ef73024b-e0d9-4141-9580-88d82ca5b2df",
   "metadata": {},
   "source": [
    "# smart book for visibilty on allocated budget"
   ]
  },
  {
   "cell_type": "markdown",
   "id": "6f5aed3c-5cdd-4e12-a3e2-9bc1ea3908bd",
   "metadata": {},
   "source": [
    "Purpose of this notebook is to interface with django modules, through python directly"
   ]
  },
  {
   "cell_type": "code",
   "execution_count": null,
   "id": "dda53eba-0e20-462b-9bb3-e549e9b73906",
   "metadata": {},
   "outputs": [],
   "source": [
    "# this python call assumes that there is a django project implemented and ipython can access it\n",
    "# this code is schematic of the instructions\n",
    "from django import models\n",
    "# django provides persistance to our ProjectManagementInformationSystem (\n",
    "\n",
    "project = models.integration.project(\"test\")\n",
    "\n",
    "budget = project.integration.charter.budget\n",
    "print(budget)\n",
    "\n",
    "{\"year\": 2021, \"BCWS\": 25000}\n",
    "\n",
    "# we can use pandas to have represent a datagrid\n"
   ]
  }
 ],
 "metadata": {
  "kernelspec": {
   "display_name": "Python 3 (ipykernel)",
   "language": "python",
   "name": "python3"
  },
  "language_info": {
   "codemirror_mode": {
    "name": "ipython",
    "version": 3
   },
   "file_extension": ".py",
   "mimetype": "text/x-python",
   "name": "python",
   "nbconvert_exporter": "python",
   "pygments_lexer": "ipython3",
   "version": "3.8.12"
  }
 },
 "nbformat": 4,
 "nbformat_minor": 5
}
