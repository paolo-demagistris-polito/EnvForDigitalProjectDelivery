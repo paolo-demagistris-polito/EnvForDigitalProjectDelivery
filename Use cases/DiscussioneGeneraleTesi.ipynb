{
 "cells": [
  {
   "cell_type": "markdown",
   "metadata": {},
   "source": [
    "Today we met to define the  \"scope\" of Simone Ranno's thesis.\n",
    "We created a document that is bound to a project"
   ]
  },
  {
   "cell_type": "code",
   "execution_count": null,
   "metadata": {},
   "outputs": [],
   "source": [
    "tipo_documento=\"project brief\"\n",
    "# suppose I have the PM library that is \n",
    "import digitalPM\n",
    "\n",
    "project = digitalPM.project.add(\"Tesi Ranno\")\n",
    "print(project)"
   ]
  },
  {
   "cell_type": "markdown",
   "metadata": {},
   "source": [
    "Per prima cosa definiamo il Business case di riferimento cioe il \"Research Case Digital PM\" e instanziamo anche gli altri input del project charter\n"
   ]
  },
  {
   "cell_type": "markdown",
   "metadata": {},
   "source": [
    "![](DevelopProjectCharter.png)  "
   ]
  },
  {
   "cell_type": "markdown",
   "metadata": {
    "tags": []
   },
   "source": [
    "[see standard thesis Outline](./ThesisOutline.md)"
   ]
  },
  {
   "cell_type": "code",
   "execution_count": null,
   "metadata": {},
   "outputs": [],
   "source": [
    "bus_case = digitalPM.project(\"Tesi Ranno\").integration.business_case.add(\"Research Case Digital PM\") \n",
    "contract = digitalPM.project(\"Tesi Ranno\").integration.contract.add(\"Guida Studente DIGEP per la tesi\")\n",
    "statement_of_work = digitalPM.project(\"Tesi Ranno\").integration.SOW.add(\"standard thesis outline\")"
   ]
  },
  {
   "cell_type": "markdown",
   "metadata": {},
   "source": [
    "We still have issues with the BusCase SWOT. \n",
    "Let's add some highlights"
   ]
  },
  {
   "cell_type": "code",
   "execution_count": null,
   "metadata": {},
   "outputs": [],
   "source": [
    "issue = digitalPM.project(\"Tesi Ranno\").integration.business_case(\"Research Case Digital PM\").opportunity.add(\"Very small legacy in PIMS\")\n",
    "issue = digitalPM.project(\"Tesi Ranno\").integration.business_case(\"Research Case Digital PM\").opportunity.add(\"A standard for PM exists\")\n",
    "issue = digitalPM.project(\"Tesi Ranno\").integration.business_case(\"Research Case Digital PM\").weak.add(\"Front ends must be custom built according to corporate paractices and back end constraints\")"
   ]
  }
 ],
 "metadata": {
  "kernelspec": {
   "display_name": "Python 3 (ipykernel)",
   "language": "python",
   "name": "python3"
  },
  "language_info": {
   "codemirror_mode": {
    "name": "ipython",
    "version": 3
   },
   "file_extension": ".py",
   "mimetype": "text/x-python",
   "name": "python",
   "nbconvert_exporter": "python",
   "pygments_lexer": "ipython3",
   "version": "3.8.12"
  }
 },
 "nbformat": 4,
 "nbformat_minor": 4
}
