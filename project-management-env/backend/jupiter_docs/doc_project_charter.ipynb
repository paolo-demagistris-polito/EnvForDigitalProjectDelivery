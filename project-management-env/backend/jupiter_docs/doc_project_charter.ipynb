{
 "cells": [
  {
   "cell_type": "code",
   "execution_count": 1,
   "id": "7e29488d",
   "metadata": {},
   "outputs": [],
   "source": [
    "# setup django project in jupiter\n",
    "from django_for_jupyter import init_django\n",
    "init_django(\"dpm_env\")"
   ]
  },
  {
   "cell_type": "code",
   "execution_count": 2,
   "id": "f9e223a7",
   "metadata": {},
   "outputs": [],
   "source": [
    "# libraries\n",
    "import requests as req\n",
    "from django.urls import reverse\n",
    "import json\n",
    "from accounts import views as account_view\n",
    "from project import views as project_view\n",
    "from project_charter import views as project_charter_view\n",
    "from project_budget import views as project_budget_view\n",
    "import pandas as pd\n",
    "import matplotlib.pyplot as plt"
   ]
  },
  {
   "cell_type": "code",
   "execution_count": 23,
   "id": "86bddeca",
   "metadata": {},
   "outputs": [],
   "source": [
    "# user login details\n",
    "user_pmo = {\"email\": \"pmo@email.com\", \"password\": \"pmo12345\"}\n",
    "user_pm  = {\"email\": \"pm@email.com\", \"password\": \"pm123456\"}"
   ]
  },
  {
   "cell_type": "code",
   "execution_count": 28,
   "id": "935c43d6",
   "metadata": {},
   "outputs": [],
   "source": [
    "# http requests\n",
    "base_url = \"http://localhost:8000\"\n",
    "\n",
    "def post_request(data, route, auth_token=None, path_param=None, type_json=False):\n",
    "    headers = {}\n",
    "    if path_param:\n",
    "        path = reverse(route, None, {path_param})\n",
    "    else:\n",
    "        path = reverse(route)\n",
    "    if type_json:\n",
    "        headers = dict(headers, **{'Content-Type': 'application/json'})\n",
    "    if auth_token:\n",
    "        headers = dict(headers, **{'Authorization': f'token {auth_token}'})\n",
    "    if isinstance(data, list):\n",
    "        data = json.dumps(data)\n",
    "    url = base_url + path\n",
    "    \n",
    "    return req.post(url, headers=headers, data=data)\n",
    "\n",
    "\n",
    "def get_request(route, auth_token=None, path_param=None):\n",
    "    headers = {}\n",
    "    if path_param:\n",
    "        path = reverse(route, None, {path_param})\n",
    "    else:\n",
    "        path = reverse(route)\n",
    "    if auth_token:\n",
    "        headers = {'Authorization': f'token {auth_token}'}\n",
    "    url = base_url + path\n",
    "    \n",
    "    return req.get(url, headers=headers)"
   ]
  },
  {
   "cell_type": "code",
   "execution_count": 29,
   "id": "0c280dca",
   "metadata": {},
   "outputs": [
    {
     "data": {
      "text/html": [
       "<div>\n",
       "<style scoped>\n",
       "    .dataframe tbody tr th:only-of-type {\n",
       "        vertical-align: middle;\n",
       "    }\n",
       "\n",
       "    .dataframe tbody tr th {\n",
       "        vertical-align: top;\n",
       "    }\n",
       "\n",
       "    .dataframe thead th {\n",
       "        text-align: right;\n",
       "    }\n",
       "</style>\n",
       "<table border=\"1\" class=\"dataframe\">\n",
       "  <thead>\n",
       "    <tr style=\"text-align: right;\">\n",
       "      <th></th>\n",
       "      <th>id</th>\n",
       "      <th>first_name</th>\n",
       "      <th>last_name</th>\n",
       "      <th>email</th>\n",
       "      <th>user_role</th>\n",
       "      <th>is_active</th>\n",
       "    </tr>\n",
       "  </thead>\n",
       "  <tbody>\n",
       "    <tr>\n",
       "      <th>0</th>\n",
       "      <td>9</td>\n",
       "      <td>Luca</td>\n",
       "      <td>Verdi</td>\n",
       "      <td>pmo@email.com</td>\n",
       "      <td>PMO</td>\n",
       "      <td>True</td>\n",
       "    </tr>\n",
       "    <tr>\n",
       "      <th>1</th>\n",
       "      <td>11</td>\n",
       "      <td>Antonio</td>\n",
       "      <td>Bruno</td>\n",
       "      <td>pm@email.com</td>\n",
       "      <td>PM</td>\n",
       "      <td>True</td>\n",
       "    </tr>\n",
       "  </tbody>\n",
       "</table>\n",
       "</div>"
      ],
      "text/plain": [
       "   id first_name last_name          email user_role  is_active\n",
       "0   9       Luca     Verdi  pmo@email.com       PMO       True\n",
       "1  11    Antonio     Bruno   pm@email.com        PM       True"
      ]
     },
     "execution_count": 29,
     "metadata": {},
     "output_type": "execute_result"
    }
   ],
   "source": [
    "# login api\n",
    "route = account_view.LoginAPI.name\n",
    "response = post_request(data=user_pmo, route=route).json()\n",
    "stakeholder_pmo = response.get('user')\n",
    "token_pmo = response.get('auth_token')\n",
    "\n",
    "response = post_request(data=user_pm, route=route).json()\n",
    "stakeholder_pm = response.get('user')\n",
    "token_pm = response.get('auth_token')\n",
    "\n",
    "df = pd.json_normalize([stakeholder_pmo, stakeholder_pm])\n",
    "df"
   ]
  },
  {
   "cell_type": "code",
   "execution_count": 30,
   "id": "c7003cc8",
   "metadata": {},
   "outputs": [
    {
     "name": "stdout",
     "output_type": "stream",
     "text": [
      "Result:  Project created successfully.\n",
      "Project:\n"
     ]
    },
    {
     "data": {
      "text/html": [
       "<div>\n",
       "<style scoped>\n",
       "    .dataframe tbody tr th:only-of-type {\n",
       "        vertical-align: middle;\n",
       "    }\n",
       "\n",
       "    .dataframe tbody tr th {\n",
       "        vertical-align: top;\n",
       "    }\n",
       "\n",
       "    .dataframe thead th {\n",
       "        text-align: right;\n",
       "    }\n",
       "</style>\n",
       "<table border=\"1\" class=\"dataframe\">\n",
       "  <thead>\n",
       "    <tr style=\"text-align: right;\">\n",
       "      <th></th>\n",
       "      <th>id</th>\n",
       "      <th>project_name</th>\n",
       "      <th>author</th>\n",
       "      <th>created</th>\n",
       "    </tr>\n",
       "  </thead>\n",
       "  <tbody>\n",
       "    <tr>\n",
       "      <th>0</th>\n",
       "      <td>82</td>\n",
       "      <td>Tesi Ranno</td>\n",
       "      <td>9</td>\n",
       "      <td>2022-04-26T15:10:23.251380Z</td>\n",
       "    </tr>\n",
       "  </tbody>\n",
       "</table>\n",
       "</div>"
      ],
      "text/plain": [
       "   id project_name  author                      created\n",
       "0  82   Tesi Ranno       9  2022-04-26T15:10:23.251380Z"
      ]
     },
     "execution_count": 30,
     "metadata": {},
     "output_type": "execute_result"
    }
   ],
   "source": [
    "# create a new project as PMO\n",
    "author = stakeholder_pmo.get('id')\n",
    "project = {\n",
    "    \"project_name\": \"Tesi Ranno\",\n",
    "    \"author\": author\n",
    "}\n",
    "\n",
    "route = project_view.ProjectAPI.name\n",
    "response = post_request(data=project, route=route, auth_token=token_pmo).json()\n",
    "result = response.get('detail')\n",
    "result_project = response.get('project')\n",
    "\n",
    "print(\"Result: \", result)\n",
    "print(\"Project:\")\n",
    "result_project.pop('project_charter')\n",
    "\n",
    "df = pd.json_normalize(result_project)\n",
    "df"
   ]
  },
  {
   "cell_type": "code",
   "execution_count": 31,
   "id": "28af26b6",
   "metadata": {},
   "outputs": [
    {
     "name": "stdout",
     "output_type": "stream",
     "text": [
      "Result:  Project charter created successfully.\n",
      "Project_Charter:\n"
     ]
    },
    {
     "data": {
      "text/html": [
       "<div>\n",
       "<style scoped>\n",
       "    .dataframe tbody tr th:only-of-type {\n",
       "        vertical-align: middle;\n",
       "    }\n",
       "\n",
       "    .dataframe tbody tr th {\n",
       "        vertical-align: top;\n",
       "    }\n",
       "\n",
       "    .dataframe thead th {\n",
       "        text-align: right;\n",
       "    }\n",
       "</style>\n",
       "<table border=\"1\" class=\"dataframe\">\n",
       "  <thead>\n",
       "    <tr style=\"text-align: right;\">\n",
       "      <th></th>\n",
       "      <th>id</th>\n",
       "      <th>project</th>\n",
       "      <th>author</th>\n",
       "      <th>created</th>\n",
       "      <th>last_updated</th>\n",
       "      <th>sow</th>\n",
       "      <th>contract</th>\n",
       "      <th>business_case</th>\n",
       "    </tr>\n",
       "  </thead>\n",
       "  <tbody>\n",
       "    <tr>\n",
       "      <th>0</th>\n",
       "      <td>56</td>\n",
       "      <td>82</td>\n",
       "      <td>11</td>\n",
       "      <td>2022-04-26T15:10:26.491175Z</td>\n",
       "      <td>2022-04-26T15:10:26.491175Z</td>\n",
       "      <td>standard thesis outline</td>\n",
       "      <td>Guida Studente DIGEP per la tesi</td>\n",
       "      <td>Research Case Digital PM</td>\n",
       "    </tr>\n",
       "  </tbody>\n",
       "</table>\n",
       "</div>"
      ],
      "text/plain": [
       "   id  project  author                      created  \\\n",
       "0  56       82      11  2022-04-26T15:10:26.491175Z   \n",
       "\n",
       "                  last_updated                      sow  \\\n",
       "0  2022-04-26T15:10:26.491175Z  standard thesis outline   \n",
       "\n",
       "                           contract             business_case  \n",
       "0  Guida Studente DIGEP per la tesi  Research Case Digital PM  "
      ]
     },
     "execution_count": 31,
     "metadata": {},
     "output_type": "execute_result"
    }
   ],
   "source": [
    "# prepare project charter as PM\n",
    "project = result_project.get('id')\n",
    "author = stakeholder_pm.get('id')\n",
    "project_charter = {\n",
    "    \"project\": project,\n",
    "    \"author\": author,\n",
    "    \"sow\": \"standard thesis outline\",\n",
    "    \"contract\": \"Guida Studente DIGEP per la tesi\",\n",
    "    \"business_case\": \"Research Case Digital PM\"\n",
    "}\n",
    "\n",
    "route = project_charter_view.ProjectCharterAPI.name\n",
    "response = post_request(data=project_charter, route=route, auth_token=token_pm).json()\n",
    "result = response.get('detail')\n",
    "result_project_charter = response.get('project_charter')\n",
    "\n",
    "print(\"Result: \", result)\n",
    "print(\"Project_Charter:\")\n",
    "result_project_charter.pop('bus_case_swot')\n",
    "result_project_charter.pop('project_budget')\n",
    "\n",
    "df = pd.json_normalize(result_project_charter)\n",
    "df"
   ]
  },
  {
   "cell_type": "code",
   "execution_count": 32,
   "id": "24a69703",
   "metadata": {},
   "outputs": [
    {
     "name": "stdout",
     "output_type": "stream",
     "text": [
      "Result:  Business case swot added successfully.\n"
     ]
    },
    {
     "data": {
      "text/html": [
       "<div>\n",
       "<style scoped>\n",
       "    .dataframe tbody tr th:only-of-type {\n",
       "        vertical-align: middle;\n",
       "    }\n",
       "\n",
       "    .dataframe tbody tr th {\n",
       "        vertical-align: top;\n",
       "    }\n",
       "\n",
       "    .dataframe thead th {\n",
       "        text-align: right;\n",
       "    }\n",
       "</style>\n",
       "<table border=\"1\" class=\"dataframe\">\n",
       "  <thead>\n",
       "    <tr style=\"text-align: right;\">\n",
       "      <th></th>\n",
       "      <th>swot_type</th>\n",
       "      <th>content</th>\n",
       "    </tr>\n",
       "  </thead>\n",
       "  <tbody>\n",
       "    <tr>\n",
       "      <th>0</th>\n",
       "      <td>opportunity</td>\n",
       "      <td>Very small legacy in PIMS</td>\n",
       "    </tr>\n",
       "    <tr>\n",
       "      <th>1</th>\n",
       "      <td>opportunity</td>\n",
       "      <td>A standard for PM exists</td>\n",
       "    </tr>\n",
       "    <tr>\n",
       "      <th>2</th>\n",
       "      <td>weakness</td>\n",
       "      <td>Front ends must be custom built according to c...</td>\n",
       "    </tr>\n",
       "  </tbody>\n",
       "</table>\n",
       "</div>"
      ],
      "text/plain": [
       "     swot_type                                            content\n",
       "0  opportunity                          Very small legacy in PIMS\n",
       "1  opportunity                           A standard for PM exists\n",
       "2     weakness  Front ends must be custom built according to c..."
      ]
     },
     "execution_count": 32,
     "metadata": {},
     "output_type": "execute_result"
    }
   ],
   "source": [
    "# Add BusCase SWOT\n",
    "project_charter = result_project_charter.get('id')\n",
    "\n",
    "# swot 1\n",
    "swot = {\n",
    "    \"project_charter\": project_charter,\n",
    "    \"swot_type\": \"opportunity\",\n",
    "    \"content\": \"Very small legacy in PIMS\"\n",
    "}\n",
    "\n",
    "route = project_charter_view.BusinessCaseSWOTAPI.name\n",
    "response = post_request(data=swot, route=route, auth_token=token_pm).json()\n",
    "result = response.get('detail')\n",
    "result_swot = response.get('swot')\n",
    "\n",
    "result_swot.pop('project_charter')\n",
    "result_swot.pop('id')\n",
    "data = [result_swot]\n",
    "\n",
    "# swot2\n",
    "swot = {\n",
    "    \"project_charter\": project_charter,\n",
    "    \"swot_type\": \"opportunity\",\n",
    "    \"content\": \"A standard for PM exists\"\n",
    "}\n",
    "\n",
    "response = post_request(data=swot, route=route, auth_token=token_pm).json()\n",
    "result = response.get('detail')\n",
    "result_swot = response.get('swot')\n",
    "\n",
    "result_swot.pop('project_charter')\n",
    "result_swot.pop('id')\n",
    "data.append(result_swot)\n",
    "\n",
    "# swot 3\n",
    "swot = {\n",
    "    \"project_charter\": project_charter,\n",
    "    \"swot_type\": \"weakness\",\n",
    "    \"content\": \"Front ends must be custom built according to corporate paractices and back end constraints\"\n",
    "}\n",
    "\n",
    "response = post_request(data=swot, route=route, auth_token=token_pm).json()\n",
    "result = response.get('detail')\n",
    "result_swot = response.get('swot')\n",
    "\n",
    "print(\"Result: \", result)\n",
    "result_swot.pop('project_charter')\n",
    "result_swot.pop('id')\n",
    "data.append(result_swot)\n",
    "\n",
    "df = pd.json_normalize(data)\n",
    "df"
   ]
  },
  {
   "cell_type": "code",
   "execution_count": 33,
   "id": "03be8b19",
   "metadata": {},
   "outputs": [
    {
     "data": {
      "image/png": "[encoded data removed]",
      "text/plain": [
       "<Figure size 432x288 with 1 Axes>"
      ]
     },
     "metadata": {
      "needs_background": "light"
     },
     "output_type": "display_data"
    }
   ],
   "source": [
    "# Allocate project budget\n",
    "budget = [{\"year\": 2021, \"budget\": 25000}, {\"year\": 2022, \"budget\": 125000}, {\"year\": 2023, \"budget\": 325000}]\n",
    "\n",
    "route = project_budget_view.ProjectBudgetAPI.name\n",
    "response = post_request(data=budget, route=route, auth_token=token_pm, path_param=project_charter, type_json=True).json()\n",
    "\n",
    "years = []\n",
    "budgets = []\n",
    "for elem in response:\n",
    "    years.append(elem.get('year')) \n",
    "    budgets.append(elem.get('budget'))\n",
    "\n",
    "df = pd.DataFrame({'year': years, 'budget': budgets})\n",
    "ax = df.plot.bar(x='year', y='budget', rot=0)"
   ]
  },
  {
   "cell_type": "code",
   "execution_count": 34,
   "id": "d512e02e",
   "metadata": {},
   "outputs": [
    {
     "data": {
      "image/png": "[encoded data removed]",
      "text/plain": [
       "<Figure size 432x288 with 1 Axes>"
      ]
     },
     "metadata": {
      "needs_background": "light"
     },
     "output_type": "display_data"
    }
   ],
   "source": [
    "# Allocated budget\n",
    "route = project_view.ProjectDetailsAPI.name\n",
    "response = get_request(route=route, auth_token=token_pm, path_param=project).json()\n",
    "budget = response.get('project_charter').get('project_budget')\n",
    "\n",
    "years = []\n",
    "budgets = []\n",
    "for elem in budget:\n",
    "    years.append(elem.get('year')) \n",
    "    budgets.append(elem.get('budget'))\n",
    "\n",
    "df = pd.DataFrame({'year': years, 'budget': budgets})\n",
    "ax = df.plot.bar(x='year', y='budget', rot=0)"
   ]
  },
  {
   "cell_type": "code",
   "execution_count": null,
   "id": "15ae67fc",
   "metadata": {},
   "outputs": [],
   "source": []
  }
 ],
 "metadata": {
  "kernelspec": {
   "display_name": "Python 3 (ipykernel)",
   "language": "python",
   "name": "python3"
  },
  "language_info": {
   "codemirror_mode": {
    "name": "ipython",
    "version": 3
   },
   "file_extension": ".py",
   "mimetype": "text/x-python",
   "name": "python",
   "nbconvert_exporter": "python",
   "pygments_lexer": "ipython3",
   "version": "3.10.2"
  }
 },
 "nbformat": 4,
 "nbformat_minor": 5
}
