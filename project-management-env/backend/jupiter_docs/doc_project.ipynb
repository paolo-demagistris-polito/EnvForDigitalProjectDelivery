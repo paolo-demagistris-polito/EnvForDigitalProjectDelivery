{
 "cells": [
  {
   "cell_type": "code",
   "execution_count": 1,
   "id": "7e29488d",
   "metadata": {},
   "outputs": [],
   "source": [
    "# setup django project in jupiter\n",
    "from django_for_jupyter import init_django\n",
    "init_django(\"dpm_env\")"
   ]
  },
  {
   "cell_type": "code",
   "execution_count": 2,
   "id": "f9e223a7",
   "metadata": {},
   "outputs": [],
   "source": [
    "# libraries\n",
    "import requests as req\n",
    "from django.urls import reverse\n",
    "import json\n",
    "from accounts import views as account_view\n",
    "from projects import views as project_view\n",
    "from project_charter import views as project_charter_view\n",
    "from project_budget import views as project_budget_view\n",
    "from project_resources import views as project_resources_view\n",
    "from project_procurements import views as project_procurements_view\n",
    "import pandas as pd\n",
    "import matplotlib.pyplot as plt\n",
    "from IPython.display import display\n",
    "from datetime import datetime"
   ]
  },
  {
   "cell_type": "code",
   "execution_count": 3,
   "id": "86bddeca",
   "metadata": {},
   "outputs": [],
   "source": [
    "# user login details\n",
    "user_pmo = {\"email\": \"pmo@email.com\", \"password\": \"pmo12345\"}\n",
    "user_pm  = {\"email\": \"pm@email.com\", \"password\": \"pm123456\"}\n",
    "user_ps  = {\"email\": \"ps@email.com\", \"password\": \"ps123456\"}\n",
    "user_pc  = {\"email\": \"pc@email.com\", \"password\": \"pc123456\"}"
   ]
  },
  {
   "cell_type": "code",
   "execution_count": 4,
   "id": "935c43d6",
   "metadata": {},
   "outputs": [],
   "source": [
    "# some methods for http requests\n",
    "base_url = \"http://localhost:8000\"\n",
    "\n",
    "def post_request(data, route, auth_token=None, path_param=None, type_json=False):\n",
    "    headers = {}\n",
    "    if path_param:\n",
    "        path = reverse(route, None, path_param)\n",
    "    else:\n",
    "        path = reverse(route)\n",
    "    if type_json:\n",
    "        headers = dict(headers, **{'Content-Type': 'application/json'})\n",
    "    if auth_token:\n",
    "        headers = dict(headers, **{'Authorization': f'token {auth_token}'})\n",
    "    data = json.dumps(data)\n",
    "    url = base_url + path\n",
    "    \n",
    "    return req.post(url, headers=headers, data=data)\n",
    "\n",
    "\n",
    "def patch_request(data, route, auth_token=None, path_param=None, type_json=False):\n",
    "    headers = {}\n",
    "    if path_param:\n",
    "        path = reverse(route, None, path_param)\n",
    "    else:\n",
    "        path = reverse(route)\n",
    "    if type_json:\n",
    "        headers = dict(headers, **{'Content-Type': 'application/json'})\n",
    "    if auth_token:\n",
    "        headers = dict(headers, **{'Authorization': f'token {auth_token}'})\n",
    "    data = json.dumps(data)\n",
    "    url = base_url + path\n",
    "    \n",
    "    return req.patch(url, data=data, headers=headers)\n",
    "\n",
    "\n",
    "def get_request(route, auth_token=None, path_param=None):\n",
    "    headers = {}\n",
    "    if path_param:\n",
    "        path = reverse(route, None, path_param)\n",
    "    else:\n",
    "        path = reverse(route)\n",
    "    if auth_token:\n",
    "        headers = {'Authorization': f'token {auth_token}'}\n",
    "    url = base_url + path\n",
    "    \n",
    "    return req.get(url, headers=headers)\n",
    "\n",
    "def delete_request(route, auth_token=None, path_param=None):\n",
    "    headers = {}\n",
    "    path = reverse(route, None, path_param)\n",
    "    headers = {'Authorization': f'token {auth_token}'}\n",
    "    url = base_url + path\n",
    "    \n",
    "    return req.delete(url, headers=headers)"
   ]
  },
  {
   "cell_type": "code",
   "execution_count": 5,
   "id": "0c280dca",
   "metadata": {},
   "outputs": [
    {
     "data": {
      "text/html": [
       "<div>\n",
       "<style scoped>\n",
       "    .dataframe tbody tr th:only-of-type {\n",
       "        vertical-align: middle;\n",
       "    }\n",
       "\n",
       "    .dataframe tbody tr th {\n",
       "        vertical-align: top;\n",
       "    }\n",
       "\n",
       "    .dataframe thead th {\n",
       "        text-align: right;\n",
       "    }\n",
       "</style>\n",
       "<table border=\"1\" class=\"dataframe\">\n",
       "  <thead>\n",
       "    <tr style=\"text-align: right;\">\n",
       "      <th></th>\n",
       "      <th>id</th>\n",
       "      <th>first_name</th>\n",
       "      <th>last_name</th>\n",
       "      <th>email</th>\n",
       "      <th>user_role</th>\n",
       "      <th>is_active</th>\n",
       "    </tr>\n",
       "  </thead>\n",
       "  <tbody>\n",
       "    <tr>\n",
       "      <th>0</th>\n",
       "      <td>36</td>\n",
       "      <td>Luca</td>\n",
       "      <td>Verdi</td>\n",
       "      <td>pmo@email.com</td>\n",
       "      <td>PMO</td>\n",
       "      <td>True</td>\n",
       "    </tr>\n",
       "    <tr>\n",
       "      <th>1</th>\n",
       "      <td>37</td>\n",
       "      <td>Lucas</td>\n",
       "      <td>Andos</td>\n",
       "      <td>pm@email.com</td>\n",
       "      <td>PM</td>\n",
       "      <td>True</td>\n",
       "    </tr>\n",
       "    <tr>\n",
       "      <th>2</th>\n",
       "      <td>38</td>\n",
       "      <td>Giovanni</td>\n",
       "      <td>Valdieri</td>\n",
       "      <td>ps@email.com</td>\n",
       "      <td>PS</td>\n",
       "      <td>True</td>\n",
       "    </tr>\n",
       "    <tr>\n",
       "      <th>3</th>\n",
       "      <td>39</td>\n",
       "      <td>Maria</td>\n",
       "      <td>Lilla</td>\n",
       "      <td>pc@email.com</td>\n",
       "      <td>PC</td>\n",
       "      <td>True</td>\n",
       "    </tr>\n",
       "  </tbody>\n",
       "</table>\n",
       "</div>"
      ],
      "text/plain": [
       "   id first_name last_name          email user_role  is_active\n",
       "0  36       Luca     Verdi  pmo@email.com       PMO       True\n",
       "1  37      Lucas     Andos   pm@email.com        PM       True\n",
       "2  38   Giovanni  Valdieri   ps@email.com        PS       True\n",
       "3  39      Maria     Lilla   pc@email.com        PC       True"
      ]
     },
     "execution_count": 5,
     "metadata": {},
     "output_type": "execute_result"
    }
   ],
   "source": [
    "# login api\n",
    "route = account_view.LoginAPI.name\n",
    "# login as 'project management office'\n",
    "response = post_request(data=user_pmo, route=route, type_json=True).json()\n",
    "stakeholder_pmo = response.get('user')\n",
    "token_pmo = response.get('auth_token')\n",
    "\n",
    "# login as 'project manager'\n",
    "response = post_request(data=user_pm, route=route, type_json=True).json()\n",
    "stakeholder_pm = response.get('user')\n",
    "token_pm = response.get('auth_token')\n",
    "\n",
    "# login as 'project sponsor'\n",
    "response = post_request(data=user_ps, route=route, type_json=True).json()\n",
    "stakeholder_ps = response.get('user')\n",
    "token_ps = response.get('auth_token')\n",
    "\n",
    "# login as 'project controller'\n",
    "response = post_request(data=user_pc, route=route, type_json=True).json()\n",
    "stakeholder_pc = response.get('user')\n",
    "token_pc = response.get('auth_token')\n",
    "\n",
    "df = pd.json_normalize([stakeholder_pmo, stakeholder_pm, stakeholder_ps, stakeholder_pc])\n",
    "df"
   ]
  },
  {
   "cell_type": "code",
   "execution_count": 6,
   "id": "c7003cc8",
   "metadata": {},
   "outputs": [
    {
     "name": "stdout",
     "output_type": "stream",
     "text": [
      "Result:  Project created successfully.\n",
      "Project:\n"
     ]
    },
    {
     "data": {
      "text/html": [
       "<div>\n",
       "<style scoped>\n",
       "    .dataframe tbody tr th:only-of-type {\n",
       "        vertical-align: middle;\n",
       "    }\n",
       "\n",
       "    .dataframe tbody tr th {\n",
       "        vertical-align: top;\n",
       "    }\n",
       "\n",
       "    .dataframe thead th {\n",
       "        text-align: right;\n",
       "    }\n",
       "</style>\n",
       "<table border=\"1\" class=\"dataframe\">\n",
       "  <thead>\n",
       "    <tr style=\"text-align: right;\">\n",
       "      <th></th>\n",
       "      <th>id</th>\n",
       "      <th>project_name</th>\n",
       "      <th>created</th>\n",
       "    </tr>\n",
       "  </thead>\n",
       "  <tbody>\n",
       "    <tr>\n",
       "      <th>0</th>\n",
       "      <td>52</td>\n",
       "      <td>Tesi Ranno</td>\n",
       "      <td>2022-06-05 14:49:19</td>\n",
       "    </tr>\n",
       "  </tbody>\n",
       "</table>\n",
       "</div>"
      ],
      "text/plain": [
       "   id project_name             created\n",
       "0  52   Tesi Ranno 2022-06-05 14:49:19"
      ]
     },
     "metadata": {},
     "output_type": "display_data"
    },
    {
     "name": "stdout",
     "output_type": "stream",
     "text": [
      "Author of the project:\n"
     ]
    },
    {
     "data": {
      "text/html": [
       "<div>\n",
       "<style scoped>\n",
       "    .dataframe tbody tr th:only-of-type {\n",
       "        vertical-align: middle;\n",
       "    }\n",
       "\n",
       "    .dataframe tbody tr th {\n",
       "        vertical-align: top;\n",
       "    }\n",
       "\n",
       "    .dataframe thead th {\n",
       "        text-align: right;\n",
       "    }\n",
       "</style>\n",
       "<table border=\"1\" class=\"dataframe\">\n",
       "  <thead>\n",
       "    <tr style=\"text-align: right;\">\n",
       "      <th></th>\n",
       "      <th>id</th>\n",
       "      <th>first_name</th>\n",
       "      <th>last_name</th>\n",
       "      <th>email</th>\n",
       "      <th>user_role</th>\n",
       "    </tr>\n",
       "  </thead>\n",
       "  <tbody>\n",
       "    <tr>\n",
       "      <th>0</th>\n",
       "      <td>36</td>\n",
       "      <td>Luca</td>\n",
       "      <td>Verdi</td>\n",
       "      <td>pmo@email.com</td>\n",
       "      <td>PMO</td>\n",
       "    </tr>\n",
       "  </tbody>\n",
       "</table>\n",
       "</div>"
      ],
      "text/plain": [
       "   id first_name last_name          email user_role\n",
       "0  36       Luca     Verdi  pmo@email.com       PMO"
      ]
     },
     "metadata": {},
     "output_type": "display_data"
    },
    {
     "name": "stdout",
     "output_type": "stream",
     "text": [
      "Stakeholders of the project:\n"
     ]
    },
    {
     "data": {
      "text/html": [
       "<div>\n",
       "<style scoped>\n",
       "    .dataframe tbody tr th:only-of-type {\n",
       "        vertical-align: middle;\n",
       "    }\n",
       "\n",
       "    .dataframe tbody tr th {\n",
       "        vertical-align: top;\n",
       "    }\n",
       "\n",
       "    .dataframe thead th {\n",
       "        text-align: right;\n",
       "    }\n",
       "</style>\n",
       "<table border=\"1\" class=\"dataframe\">\n",
       "  <thead>\n",
       "    <tr style=\"text-align: right;\">\n",
       "      <th></th>\n",
       "      <th>id</th>\n",
       "      <th>first_name</th>\n",
       "      <th>last_name</th>\n",
       "      <th>email</th>\n",
       "      <th>user_role</th>\n",
       "    </tr>\n",
       "  </thead>\n",
       "  <tbody>\n",
       "    <tr>\n",
       "      <th>0</th>\n",
       "      <td>36</td>\n",
       "      <td>Luca</td>\n",
       "      <td>Verdi</td>\n",
       "      <td>pmo@email.com</td>\n",
       "      <td>PMO</td>\n",
       "    </tr>\n",
       "  </tbody>\n",
       "</table>\n",
       "</div>"
      ],
      "text/plain": [
       "   id first_name last_name          email user_role\n",
       "0  36       Luca     Verdi  pmo@email.com       PMO"
      ]
     },
     "metadata": {},
     "output_type": "display_data"
    }
   ],
   "source": [
    "# As 'project management office'\n",
    "# create a new project\n",
    "author = stakeholder_pmo.get('id')\n",
    "project = {\n",
    "    \"project_name\": \"Tesi Ranno\",\n",
    "    \"author\": author\n",
    "}\n",
    "\n",
    "route = project_view.ProjectAPI.name\n",
    "response = post_request(data=project, route=route, auth_token=token_pmo, type_json=True).json()\n",
    "result = response.get('detail')\n",
    "result_project = response.get('project')\n",
    "result_project[\"created\"] = datetime.strptime(result_project.get(\"created\"), '%Y-%m-%dT%H:%M:%S.%fZ').replace(microsecond=0)\n",
    "author = result_project.get(\"author\")\n",
    "stakeholders = result_project.get(\"stakeholders\")\n",
    "result_project.pop('project_charter')\n",
    "result_project.pop('author')\n",
    "result_project.pop('stakeholders')\n",
    "\n",
    "print(\"Result: \", result)\n",
    "print(\"Project:\")\n",
    "display(pd.json_normalize(result_project))\n",
    "print(\"Author of the project:\")\n",
    "display(pd.json_normalize(author))\n",
    "print(\"Stakeholders of the project:\")\n",
    "display(pd.json_normalize(stakeholders))"
   ]
  },
  {
   "cell_type": "code",
   "execution_count": 7,
   "id": "76190d27",
   "metadata": {},
   "outputs": [
    {
     "name": "stdout",
     "output_type": "stream",
     "text": [
      "Result:  Project name updated successfully\n"
     ]
    }
   ],
   "source": [
    "# As 'project management office'\n",
    "# edit a project\n",
    "project_id = result_project.get('id')\n",
    "project = {\n",
    "    \"project_name\": \"Thesis project\"\n",
    "}\n",
    "\n",
    "route = project_view.EditProjectAPI.name\n",
    "response = patch_request(data=project, route=route, auth_token=token_pmo, path_param=[project_id], type_json=True).json()\n",
    "result = response.get('detail')\n",
    "print(\"Result: \", result)"
   ]
  },
  {
   "cell_type": "code",
   "execution_count": 8,
   "id": "f68aac63",
   "metadata": {},
   "outputs": [
    {
     "name": "stdout",
     "output_type": "stream",
     "text": [
      "Project:\n"
     ]
    },
    {
     "data": {
      "text/html": [
       "<div>\n",
       "<style scoped>\n",
       "    .dataframe tbody tr th:only-of-type {\n",
       "        vertical-align: middle;\n",
       "    }\n",
       "\n",
       "    .dataframe tbody tr th {\n",
       "        vertical-align: top;\n",
       "    }\n",
       "\n",
       "    .dataframe thead th {\n",
       "        text-align: right;\n",
       "    }\n",
       "</style>\n",
       "<table border=\"1\" class=\"dataframe\">\n",
       "  <thead>\n",
       "    <tr style=\"text-align: right;\">\n",
       "      <th></th>\n",
       "      <th>id</th>\n",
       "      <th>project_name</th>\n",
       "      <th>created</th>\n",
       "    </tr>\n",
       "  </thead>\n",
       "  <tbody>\n",
       "    <tr>\n",
       "      <th>0</th>\n",
       "      <td>52</td>\n",
       "      <td>Thesis project</td>\n",
       "      <td>2022-06-05 14:49:19</td>\n",
       "    </tr>\n",
       "  </tbody>\n",
       "</table>\n",
       "</div>"
      ],
      "text/plain": [
       "   id    project_name             created\n",
       "0  52  Thesis project 2022-06-05 14:49:19"
      ]
     },
     "metadata": {},
     "output_type": "display_data"
    },
    {
     "name": "stdout",
     "output_type": "stream",
     "text": [
      "Author of the project:\n"
     ]
    },
    {
     "data": {
      "text/html": [
       "<div>\n",
       "<style scoped>\n",
       "    .dataframe tbody tr th:only-of-type {\n",
       "        vertical-align: middle;\n",
       "    }\n",
       "\n",
       "    .dataframe tbody tr th {\n",
       "        vertical-align: top;\n",
       "    }\n",
       "\n",
       "    .dataframe thead th {\n",
       "        text-align: right;\n",
       "    }\n",
       "</style>\n",
       "<table border=\"1\" class=\"dataframe\">\n",
       "  <thead>\n",
       "    <tr style=\"text-align: right;\">\n",
       "      <th></th>\n",
       "      <th>id</th>\n",
       "      <th>first_name</th>\n",
       "      <th>last_name</th>\n",
       "      <th>email</th>\n",
       "      <th>user_role</th>\n",
       "    </tr>\n",
       "  </thead>\n",
       "  <tbody>\n",
       "    <tr>\n",
       "      <th>0</th>\n",
       "      <td>36</td>\n",
       "      <td>Luca</td>\n",
       "      <td>Verdi</td>\n",
       "      <td>pmo@email.com</td>\n",
       "      <td>PMO</td>\n",
       "    </tr>\n",
       "  </tbody>\n",
       "</table>\n",
       "</div>"
      ],
      "text/plain": [
       "   id first_name last_name          email user_role\n",
       "0  36       Luca     Verdi  pmo@email.com       PMO"
      ]
     },
     "metadata": {},
     "output_type": "display_data"
    },
    {
     "name": "stdout",
     "output_type": "stream",
     "text": [
      "Stakeholders of the project:\n"
     ]
    },
    {
     "data": {
      "text/html": [
       "<div>\n",
       "<style scoped>\n",
       "    .dataframe tbody tr th:only-of-type {\n",
       "        vertical-align: middle;\n",
       "    }\n",
       "\n",
       "    .dataframe tbody tr th {\n",
       "        vertical-align: top;\n",
       "    }\n",
       "\n",
       "    .dataframe thead th {\n",
       "        text-align: right;\n",
       "    }\n",
       "</style>\n",
       "<table border=\"1\" class=\"dataframe\">\n",
       "  <thead>\n",
       "    <tr style=\"text-align: right;\">\n",
       "      <th></th>\n",
       "      <th>id</th>\n",
       "      <th>first_name</th>\n",
       "      <th>last_name</th>\n",
       "      <th>email</th>\n",
       "      <th>user_role</th>\n",
       "    </tr>\n",
       "  </thead>\n",
       "  <tbody>\n",
       "    <tr>\n",
       "      <th>0</th>\n",
       "      <td>36</td>\n",
       "      <td>Luca</td>\n",
       "      <td>Verdi</td>\n",
       "      <td>pmo@email.com</td>\n",
       "      <td>PMO</td>\n",
       "    </tr>\n",
       "  </tbody>\n",
       "</table>\n",
       "</div>"
      ],
      "text/plain": [
       "   id first_name last_name          email user_role\n",
       "0  36       Luca     Verdi  pmo@email.com       PMO"
      ]
     },
     "metadata": {},
     "output_type": "display_data"
    }
   ],
   "source": [
    "# As 'project management office'\n",
    "# get updated project instance\n",
    "route = project_view.ProjectDetailsAPI.name\n",
    "response = get_request(route=route, auth_token=token_pmo, path_param=[project_id]).json()\n",
    "\n",
    "response[\"created\"] = datetime.strptime(response.get(\"created\"), '%Y-%m-%dT%H:%M:%S.%fZ').replace(microsecond=0)\n",
    "author = response.get(\"author\")\n",
    "stakeholders = response.get(\"stakeholders\")\n",
    "response.pop('project_charter')\n",
    "response.pop('author')\n",
    "response.pop('stakeholders')\n",
    "\n",
    "print(\"Project:\")\n",
    "display(pd.json_normalize(response))\n",
    "print(\"Author of the project:\")\n",
    "display(pd.json_normalize(author))\n",
    "print(\"Stakeholders of the project:\")\n",
    "display(pd.json_normalize(stakeholders))"
   ]
  },
  {
   "cell_type": "code",
   "execution_count": 9,
   "id": "95b29d4f",
   "metadata": {},
   "outputs": [],
   "source": [
    "# method to get all stakeholders of a project\n",
    "def get_all_stakeholders_of_project(project):\n",
    "    route = project_view.GetStakeholdersOfProjectAPI.name\n",
    "    response = get_request(route=route, auth_token=token_pmo, path_param=[project]).json()\n",
    "\n",
    "    df = pd.DataFrame (response['stakeholders'], columns = ['id', 'first_name', 'last_name', 'email', 'user_role'])\n",
    "    return df"
   ]
  },
  {
   "cell_type": "code",
   "execution_count": 10,
   "id": "103218cb",
   "metadata": {
    "scrolled": true
   },
   "outputs": [
    {
     "name": "stdout",
     "output_type": "stream",
     "text": [
      "Result:  Stakeholders added successfully\n"
     ]
    }
   ],
   "source": [
    "# As 'an author of the project' and 'project management office'\n",
    "# add a new stakeholder to the project\n",
    "project = result_project.get('id')\n",
    "pm = stakeholder_pm.get('id')\n",
    "ps = stakeholder_ps.get('id')\n",
    "pc = stakeholder_pc.get('id')\n",
    "stakeholders = { \n",
    "    \"stakeholders\": [pm, ps, pc]\n",
    "}\n",
    "route = project_view.AddStakeholdersToProjectAPI.name\n",
    "response = patch_request(data=stakeholders, route=route, auth_token=token_pmo, path_param=[project], type_json=True).json()\n",
    "result = response.get('detail')\n",
    "print(\"Result: \", result)"
   ]
  },
  {
   "cell_type": "code",
   "execution_count": 11,
   "id": "dc41b555",
   "metadata": {},
   "outputs": [
    {
     "name": "stdout",
     "output_type": "stream",
     "text": [
      "Stakeholders after adding new one:\n"
     ]
    },
    {
     "data": {
      "text/html": [
       "<div>\n",
       "<style scoped>\n",
       "    .dataframe tbody tr th:only-of-type {\n",
       "        vertical-align: middle;\n",
       "    }\n",
       "\n",
       "    .dataframe tbody tr th {\n",
       "        vertical-align: top;\n",
       "    }\n",
       "\n",
       "    .dataframe thead th {\n",
       "        text-align: right;\n",
       "    }\n",
       "</style>\n",
       "<table border=\"1\" class=\"dataframe\">\n",
       "  <thead>\n",
       "    <tr style=\"text-align: right;\">\n",
       "      <th></th>\n",
       "      <th>id</th>\n",
       "      <th>first_name</th>\n",
       "      <th>last_name</th>\n",
       "      <th>email</th>\n",
       "      <th>user_role</th>\n",
       "    </tr>\n",
       "  </thead>\n",
       "  <tbody>\n",
       "    <tr>\n",
       "      <th>0</th>\n",
       "      <td>36</td>\n",
       "      <td>Luca</td>\n",
       "      <td>Verdi</td>\n",
       "      <td>pmo@email.com</td>\n",
       "      <td>PMO</td>\n",
       "    </tr>\n",
       "    <tr>\n",
       "      <th>1</th>\n",
       "      <td>37</td>\n",
       "      <td>Lucas</td>\n",
       "      <td>Andos</td>\n",
       "      <td>pm@email.com</td>\n",
       "      <td>PM</td>\n",
       "    </tr>\n",
       "    <tr>\n",
       "      <th>2</th>\n",
       "      <td>38</td>\n",
       "      <td>Giovanni</td>\n",
       "      <td>Valdieri</td>\n",
       "      <td>ps@email.com</td>\n",
       "      <td>PS</td>\n",
       "    </tr>\n",
       "    <tr>\n",
       "      <th>3</th>\n",
       "      <td>39</td>\n",
       "      <td>Maria</td>\n",
       "      <td>Lilla</td>\n",
       "      <td>pc@email.com</td>\n",
       "      <td>PC</td>\n",
       "    </tr>\n",
       "  </tbody>\n",
       "</table>\n",
       "</div>"
      ],
      "text/plain": [
       "   id first_name last_name          email user_role\n",
       "0  36       Luca     Verdi  pmo@email.com       PMO\n",
       "1  37      Lucas     Andos   pm@email.com        PM\n",
       "2  38   Giovanni  Valdieri   ps@email.com        PS\n",
       "3  39      Maria     Lilla   pc@email.com        PC"
      ]
     },
     "execution_count": 11,
     "metadata": {},
     "output_type": "execute_result"
    }
   ],
   "source": [
    "# demonstrate stakeholder list after adding new one\n",
    "print(\"Stakeholders after adding new one:\")\n",
    "get_all_stakeholders_of_project(project)"
   ]
  },
  {
   "cell_type": "code",
   "execution_count": 12,
   "id": "a943ae28",
   "metadata": {},
   "outputs": [
    {
     "name": "stdout",
     "output_type": "stream",
     "text": [
      "Result:  Stakeholders removed successfully\n"
     ]
    }
   ],
   "source": [
    "# remove a stakeholder from a project\n",
    "stakeholders = { \n",
    "    \"stakeholders\": [ps]\n",
    "}\n",
    "route = project_view.RemoveStakeholdersFromProjectAPI.name\n",
    "response = patch_request(data=stakeholders, route=route, auth_token=token_pmo, path_param=[project], type_json=True).json()\n",
    "result = response.get('detail')\n",
    "print(\"Result: \", result)"
   ]
  },
  {
   "cell_type": "code",
   "execution_count": 13,
   "id": "f7eb48fa",
   "metadata": {},
   "outputs": [
    {
     "name": "stdout",
     "output_type": "stream",
     "text": [
      "Stakeholders after removing one:\n"
     ]
    },
    {
     "data": {
      "text/html": [
       "<div>\n",
       "<style scoped>\n",
       "    .dataframe tbody tr th:only-of-type {\n",
       "        vertical-align: middle;\n",
       "    }\n",
       "\n",
       "    .dataframe tbody tr th {\n",
       "        vertical-align: top;\n",
       "    }\n",
       "\n",
       "    .dataframe thead th {\n",
       "        text-align: right;\n",
       "    }\n",
       "</style>\n",
       "<table border=\"1\" class=\"dataframe\">\n",
       "  <thead>\n",
       "    <tr style=\"text-align: right;\">\n",
       "      <th></th>\n",
       "      <th>id</th>\n",
       "      <th>first_name</th>\n",
       "      <th>last_name</th>\n",
       "      <th>email</th>\n",
       "      <th>user_role</th>\n",
       "    </tr>\n",
       "  </thead>\n",
       "  <tbody>\n",
       "    <tr>\n",
       "      <th>0</th>\n",
       "      <td>36</td>\n",
       "      <td>Luca</td>\n",
       "      <td>Verdi</td>\n",
       "      <td>pmo@email.com</td>\n",
       "      <td>PMO</td>\n",
       "    </tr>\n",
       "    <tr>\n",
       "      <th>1</th>\n",
       "      <td>37</td>\n",
       "      <td>Lucas</td>\n",
       "      <td>Andos</td>\n",
       "      <td>pm@email.com</td>\n",
       "      <td>PM</td>\n",
       "    </tr>\n",
       "    <tr>\n",
       "      <th>2</th>\n",
       "      <td>39</td>\n",
       "      <td>Maria</td>\n",
       "      <td>Lilla</td>\n",
       "      <td>pc@email.com</td>\n",
       "      <td>PC</td>\n",
       "    </tr>\n",
       "  </tbody>\n",
       "</table>\n",
       "</div>"
      ],
      "text/plain": [
       "   id first_name last_name          email user_role\n",
       "0  36       Luca     Verdi  pmo@email.com       PMO\n",
       "1  37      Lucas     Andos   pm@email.com        PM\n",
       "2  39      Maria     Lilla   pc@email.com        PC"
      ]
     },
     "execution_count": 13,
     "metadata": {},
     "output_type": "execute_result"
    }
   ],
   "source": [
    "# demonstrate stakeholder list after removing one\n",
    "print(\"Stakeholders after removing one:\")\n",
    "get_all_stakeholders_of_project(project)"
   ]
  },
  {
   "cell_type": "code",
   "execution_count": 14,
   "id": "0dd45041",
   "metadata": {},
   "outputs": [
    {
     "name": "stdout",
     "output_type": "stream",
     "text": [
      "Projects:\n"
     ]
    },
    {
     "data": {
      "text/html": [
       "<div>\n",
       "<style scoped>\n",
       "    .dataframe tbody tr th:only-of-type {\n",
       "        vertical-align: middle;\n",
       "    }\n",
       "\n",
       "    .dataframe tbody tr th {\n",
       "        vertical-align: top;\n",
       "    }\n",
       "\n",
       "    .dataframe thead th {\n",
       "        text-align: right;\n",
       "    }\n",
       "</style>\n",
       "<table border=\"1\" class=\"dataframe\">\n",
       "  <thead>\n",
       "    <tr style=\"text-align: right;\">\n",
       "      <th></th>\n",
       "      <th>id</th>\n",
       "      <th>project_name</th>\n",
       "      <th>created</th>\n",
       "      <th>author.id</th>\n",
       "      <th>author.first_name</th>\n",
       "      <th>author.last_name</th>\n",
       "      <th>author.email</th>\n",
       "      <th>author.user_role</th>\n",
       "    </tr>\n",
       "  </thead>\n",
       "  <tbody>\n",
       "    <tr>\n",
       "      <th>0</th>\n",
       "      <td>52</td>\n",
       "      <td>Thesis project</td>\n",
       "      <td>2022-06-05 14:49:19</td>\n",
       "      <td>36</td>\n",
       "      <td>Luca</td>\n",
       "      <td>Verdi</td>\n",
       "      <td>pmo@email.com</td>\n",
       "      <td>PMO</td>\n",
       "    </tr>\n",
       "  </tbody>\n",
       "</table>\n",
       "</div>"
      ],
      "text/plain": [
       "   id    project_name             created  author.id author.first_name  \\\n",
       "0  52  Thesis project 2022-06-05 14:49:19         36              Luca   \n",
       "\n",
       "  author.last_name   author.email author.user_role  \n",
       "0            Verdi  pmo@email.com              PMO  "
      ]
     },
     "execution_count": 14,
     "metadata": {},
     "output_type": "execute_result"
    }
   ],
   "source": [
    "# As 'an authorized stakeholder' \n",
    "# get my projects where I am a stakeholder\n",
    "route = project_view.GetProjectsOfStakeholderAPI.name\n",
    "response = get_request(route=route, auth_token=token_pm).json()\n",
    "for res in response:\n",
    "    res[\"created\"] = datetime.strptime(res.get(\"created\"), '%Y-%m-%dT%H:%M:%S.%fZ').replace(microsecond=0)\n",
    "\n",
    "print(\"Projects:\")\n",
    "df = pd.json_normalize(response)\n",
    "df"
   ]
  },
  {
   "cell_type": "code",
   "execution_count": 15,
   "id": "24386125",
   "metadata": {},
   "outputs": [],
   "source": [
    "# get permissions of a stakeholder for given project\n",
    "def get_all_permissions_of_stakeholder_over_project(stakeholder, project):\n",
    "    route = project_view.GetProjectPermissionsOfUserAPI.name\n",
    "    response = get_request(route=route, auth_token=token_pm, path_param=[stakeholder, project]).json()\n",
    "\n",
    "    if len(response['permissions']) > 0:\n",
    "        df = pd.DataFrame (response['permissions'], columns = ['permissions'])\n",
    "        return df\n",
    "    else:\n",
    "        print(\"There is not any assigned permission\")"
   ]
  },
  {
   "cell_type": "code",
   "execution_count": 16,
   "id": "57b21b50",
   "metadata": {},
   "outputs": [
    {
     "name": "stdout",
     "output_type": "stream",
     "text": [
      "Result: Permissions assigned\n",
      "HTTP status code:  201\n"
     ]
    }
   ],
   "source": [
    "# As 'an author of the project'\n",
    "# assign all project permissions to PM\n",
    "content = {\n",
    "    \"user_id\": pm,\n",
    "    \"project_id\": project\n",
    "}\n",
    "route = project_view.AssignAllProjectPermissionsToStakeholderAPI.name\n",
    "response = post_request(data=content, route=route, auth_token=token_pmo, type_json=True)\n",
    "if response.status_code == 201:\n",
    "    print(\"Result: Permissions assigned\")\n",
    "    print(\"HTTP status code: \", response.status_code)\n",
    "else: \n",
    "    print(\"Result: Permission assignment failed\")\n",
    "    print(\"HTTP status code: \", response.status_code)"
   ]
  },
  {
   "cell_type": "code",
   "execution_count": 17,
   "id": "99ea7047",
   "metadata": {},
   "outputs": [
    {
     "name": "stdout",
     "output_type": "stream",
     "text": [
      "Permissions:\n"
     ]
    },
    {
     "data": {
      "text/html": [
       "<div>\n",
       "<style scoped>\n",
       "    .dataframe tbody tr th:only-of-type {\n",
       "        vertical-align: middle;\n",
       "    }\n",
       "\n",
       "    .dataframe tbody tr th {\n",
       "        vertical-align: top;\n",
       "    }\n",
       "\n",
       "    .dataframe thead th {\n",
       "        text-align: right;\n",
       "    }\n",
       "</style>\n",
       "<table border=\"1\" class=\"dataframe\">\n",
       "  <thead>\n",
       "    <tr style=\"text-align: right;\">\n",
       "      <th></th>\n",
       "      <th>permissions</th>\n",
       "    </tr>\n",
       "  </thead>\n",
       "  <tbody>\n",
       "    <tr>\n",
       "      <th>0</th>\n",
       "      <td>add_project</td>\n",
       "    </tr>\n",
       "    <tr>\n",
       "      <th>1</th>\n",
       "      <td>add_project_charter</td>\n",
       "    </tr>\n",
       "    <tr>\n",
       "      <th>2</th>\n",
       "      <td>add_project_contract</td>\n",
       "    </tr>\n",
       "    <tr>\n",
       "      <th>3</th>\n",
       "      <td>add_project_resource</td>\n",
       "    </tr>\n",
       "    <tr>\n",
       "      <th>4</th>\n",
       "      <td>add_project_spendings</td>\n",
       "    </tr>\n",
       "    <tr>\n",
       "      <th>5</th>\n",
       "      <td>change_project</td>\n",
       "    </tr>\n",
       "    <tr>\n",
       "      <th>6</th>\n",
       "      <td>change_project_charter</td>\n",
       "    </tr>\n",
       "    <tr>\n",
       "      <th>7</th>\n",
       "      <td>change_project_contract</td>\n",
       "    </tr>\n",
       "    <tr>\n",
       "      <th>8</th>\n",
       "      <td>change_project_resource</td>\n",
       "    </tr>\n",
       "    <tr>\n",
       "      <th>9</th>\n",
       "      <td>change_project_spendings</td>\n",
       "    </tr>\n",
       "    <tr>\n",
       "      <th>10</th>\n",
       "      <td>delete_project</td>\n",
       "    </tr>\n",
       "    <tr>\n",
       "      <th>11</th>\n",
       "      <td>delete_project_charter</td>\n",
       "    </tr>\n",
       "    <tr>\n",
       "      <th>12</th>\n",
       "      <td>delete_project_contract</td>\n",
       "    </tr>\n",
       "    <tr>\n",
       "      <th>13</th>\n",
       "      <td>delete_project_resource</td>\n",
       "    </tr>\n",
       "    <tr>\n",
       "      <th>14</th>\n",
       "      <td>delete_project_spendings</td>\n",
       "    </tr>\n",
       "    <tr>\n",
       "      <th>15</th>\n",
       "      <td>view_project</td>\n",
       "    </tr>\n",
       "    <tr>\n",
       "      <th>16</th>\n",
       "      <td>view_project_charter</td>\n",
       "    </tr>\n",
       "    <tr>\n",
       "      <th>17</th>\n",
       "      <td>view_project_contract</td>\n",
       "    </tr>\n",
       "    <tr>\n",
       "      <th>18</th>\n",
       "      <td>view_project_resource</td>\n",
       "    </tr>\n",
       "    <tr>\n",
       "      <th>19</th>\n",
       "      <td>view_project_spendings</td>\n",
       "    </tr>\n",
       "  </tbody>\n",
       "</table>\n",
       "</div>"
      ],
      "text/plain": [
       "                 permissions\n",
       "0                add_project\n",
       "1        add_project_charter\n",
       "2       add_project_contract\n",
       "3       add_project_resource\n",
       "4      add_project_spendings\n",
       "5             change_project\n",
       "6     change_project_charter\n",
       "7    change_project_contract\n",
       "8    change_project_resource\n",
       "9   change_project_spendings\n",
       "10            delete_project\n",
       "11    delete_project_charter\n",
       "12   delete_project_contract\n",
       "13   delete_project_resource\n",
       "14  delete_project_spendings\n",
       "15              view_project\n",
       "16      view_project_charter\n",
       "17     view_project_contract\n",
       "18     view_project_resource\n",
       "19    view_project_spendings"
      ]
     },
     "execution_count": 17,
     "metadata": {},
     "output_type": "execute_result"
    }
   ],
   "source": [
    "# demonstrate a list of permissions of stakeholder over a project\n",
    "print(\"Permissions:\")\n",
    "get_all_permissions_of_stakeholder_over_project(pm, project)"
   ]
  },
  {
   "cell_type": "code",
   "execution_count": 18,
   "id": "c378ab28",
   "metadata": {},
   "outputs": [
    {
     "name": "stdout",
     "output_type": "stream",
     "text": [
      "Result: Main project permissions deleted successfully\n",
      "HTTP status code:  204\n"
     ]
    }
   ],
   "source": [
    "# As 'an author of the project'\n",
    "# delete main project permissions of a stakeholder\n",
    "content = {\n",
    "    \"user_id\": pm,\n",
    "    \"project_id\": project,\n",
    "    \"permissions\": [\"change_project\", \"add_project\", \"delete_project\", \"view_project\"]\n",
    "}\n",
    "route = project_view.DeleteProjectPermissionsOfUserAPI.name\n",
    "response = post_request(data=content, route=route, auth_token=token_pmo, type_json=True)\n",
    "if response.status_code == 204:\n",
    "    print(\"Result: Main project permissions deleted successfully\")\n",
    "    print(\"HTTP status code: \", response.status_code)\n",
    "else: \n",
    "    print(\"Result: Delete permissions request failed\")\n",
    "    print(\"HTTP status code: \", response.status_code)"
   ]
  },
  {
   "cell_type": "code",
   "execution_count": 19,
   "id": "beed183c",
   "metadata": {},
   "outputs": [
    {
     "name": "stdout",
     "output_type": "stream",
     "text": [
      "Permissions after deleting main project permissions:\n"
     ]
    },
    {
     "data": {
      "text/html": [
       "<div>\n",
       "<style scoped>\n",
       "    .dataframe tbody tr th:only-of-type {\n",
       "        vertical-align: middle;\n",
       "    }\n",
       "\n",
       "    .dataframe tbody tr th {\n",
       "        vertical-align: top;\n",
       "    }\n",
       "\n",
       "    .dataframe thead th {\n",
       "        text-align: right;\n",
       "    }\n",
       "</style>\n",
       "<table border=\"1\" class=\"dataframe\">\n",
       "  <thead>\n",
       "    <tr style=\"text-align: right;\">\n",
       "      <th></th>\n",
       "      <th>permissions</th>\n",
       "    </tr>\n",
       "  </thead>\n",
       "  <tbody>\n",
       "    <tr>\n",
       "      <th>0</th>\n",
       "      <td>add_project_charter</td>\n",
       "    </tr>\n",
       "    <tr>\n",
       "      <th>1</th>\n",
       "      <td>add_project_contract</td>\n",
       "    </tr>\n",
       "    <tr>\n",
       "      <th>2</th>\n",
       "      <td>add_project_resource</td>\n",
       "    </tr>\n",
       "    <tr>\n",
       "      <th>3</th>\n",
       "      <td>add_project_spendings</td>\n",
       "    </tr>\n",
       "    <tr>\n",
       "      <th>4</th>\n",
       "      <td>change_project_charter</td>\n",
       "    </tr>\n",
       "    <tr>\n",
       "      <th>5</th>\n",
       "      <td>change_project_contract</td>\n",
       "    </tr>\n",
       "    <tr>\n",
       "      <th>6</th>\n",
       "      <td>change_project_resource</td>\n",
       "    </tr>\n",
       "    <tr>\n",
       "      <th>7</th>\n",
       "      <td>change_project_spendings</td>\n",
       "    </tr>\n",
       "    <tr>\n",
       "      <th>8</th>\n",
       "      <td>delete_project_charter</td>\n",
       "    </tr>\n",
       "    <tr>\n",
       "      <th>9</th>\n",
       "      <td>delete_project_contract</td>\n",
       "    </tr>\n",
       "    <tr>\n",
       "      <th>10</th>\n",
       "      <td>delete_project_resource</td>\n",
       "    </tr>\n",
       "    <tr>\n",
       "      <th>11</th>\n",
       "      <td>delete_project_spendings</td>\n",
       "    </tr>\n",
       "    <tr>\n",
       "      <th>12</th>\n",
       "      <td>view_project_charter</td>\n",
       "    </tr>\n",
       "    <tr>\n",
       "      <th>13</th>\n",
       "      <td>view_project_contract</td>\n",
       "    </tr>\n",
       "    <tr>\n",
       "      <th>14</th>\n",
       "      <td>view_project_resource</td>\n",
       "    </tr>\n",
       "    <tr>\n",
       "      <th>15</th>\n",
       "      <td>view_project_spendings</td>\n",
       "    </tr>\n",
       "  </tbody>\n",
       "</table>\n",
       "</div>"
      ],
      "text/plain": [
       "                 permissions\n",
       "0        add_project_charter\n",
       "1       add_project_contract\n",
       "2       add_project_resource\n",
       "3      add_project_spendings\n",
       "4     change_project_charter\n",
       "5    change_project_contract\n",
       "6    change_project_resource\n",
       "7   change_project_spendings\n",
       "8     delete_project_charter\n",
       "9    delete_project_contract\n",
       "10   delete_project_resource\n",
       "11  delete_project_spendings\n",
       "12      view_project_charter\n",
       "13     view_project_contract\n",
       "14     view_project_resource\n",
       "15    view_project_spendings"
      ]
     },
     "execution_count": 19,
     "metadata": {},
     "output_type": "execute_result"
    }
   ],
   "source": [
    "# demonstrate a list of permissions of stakeholder over a project after deleting project permissions\n",
    "print(\"Permissions after deleting main project permissions:\")\n",
    "get_all_permissions_of_stakeholder_over_project(pm, project)"
   ]
  },
  {
   "cell_type": "code",
   "execution_count": 20,
   "id": "d28e5a84",
   "metadata": {},
   "outputs": [
    {
     "name": "stdout",
     "output_type": "stream",
     "text": [
      "Result: Project charter permissions deleted successfully\n",
      "HTTP status code:  204\n"
     ]
    }
   ],
   "source": [
    "# As 'an author of the project'\n",
    "# delete project charter permissions of a stakeholder\n",
    "content = {\n",
    "    \"user_id\": pm,\n",
    "    \"project_id\": project,\n",
    "    \"permissions\": [\"delete_project_charter\", \"change_project_charter\", \"add_project_charter\", \"view_project_charter\"]\n",
    "}\n",
    "route = project_charter_view.DeleteProjectCharterPermissionsOfUserAPI.name\n",
    "response = post_request(data=content, route=route, auth_token=token_pmo, type_json=True)\n",
    "if response.status_code == 204:\n",
    "    print(\"Result: Project charter permissions deleted successfully\")\n",
    "    print(\"HTTP status code: \", response.status_code)\n",
    "else: \n",
    "    print(\"Result: Delete permissions request failed\")\n",
    "    print(\"HTTP status code: \", response.status_code)"
   ]
  },
  {
   "cell_type": "code",
   "execution_count": 21,
   "id": "5232d804",
   "metadata": {},
   "outputs": [
    {
     "name": "stdout",
     "output_type": "stream",
     "text": [
      "Permissions after deleting project charter permissions:\n"
     ]
    },
    {
     "data": {
      "text/html": [
       "<div>\n",
       "<style scoped>\n",
       "    .dataframe tbody tr th:only-of-type {\n",
       "        vertical-align: middle;\n",
       "    }\n",
       "\n",
       "    .dataframe tbody tr th {\n",
       "        vertical-align: top;\n",
       "    }\n",
       "\n",
       "    .dataframe thead th {\n",
       "        text-align: right;\n",
       "    }\n",
       "</style>\n",
       "<table border=\"1\" class=\"dataframe\">\n",
       "  <thead>\n",
       "    <tr style=\"text-align: right;\">\n",
       "      <th></th>\n",
       "      <th>permissions</th>\n",
       "    </tr>\n",
       "  </thead>\n",
       "  <tbody>\n",
       "    <tr>\n",
       "      <th>0</th>\n",
       "      <td>add_project_contract</td>\n",
       "    </tr>\n",
       "    <tr>\n",
       "      <th>1</th>\n",
       "      <td>add_project_resource</td>\n",
       "    </tr>\n",
       "    <tr>\n",
       "      <th>2</th>\n",
       "      <td>add_project_spendings</td>\n",
       "    </tr>\n",
       "    <tr>\n",
       "      <th>3</th>\n",
       "      <td>change_project_contract</td>\n",
       "    </tr>\n",
       "    <tr>\n",
       "      <th>4</th>\n",
       "      <td>change_project_resource</td>\n",
       "    </tr>\n",
       "    <tr>\n",
       "      <th>5</th>\n",
       "      <td>change_project_spendings</td>\n",
       "    </tr>\n",
       "    <tr>\n",
       "      <th>6</th>\n",
       "      <td>delete_project_contract</td>\n",
       "    </tr>\n",
       "    <tr>\n",
       "      <th>7</th>\n",
       "      <td>delete_project_resource</td>\n",
       "    </tr>\n",
       "    <tr>\n",
       "      <th>8</th>\n",
       "      <td>delete_project_spendings</td>\n",
       "    </tr>\n",
       "    <tr>\n",
       "      <th>9</th>\n",
       "      <td>view_project_contract</td>\n",
       "    </tr>\n",
       "    <tr>\n",
       "      <th>10</th>\n",
       "      <td>view_project_resource</td>\n",
       "    </tr>\n",
       "    <tr>\n",
       "      <th>11</th>\n",
       "      <td>view_project_spendings</td>\n",
       "    </tr>\n",
       "  </tbody>\n",
       "</table>\n",
       "</div>"
      ],
      "text/plain": [
       "                 permissions\n",
       "0       add_project_contract\n",
       "1       add_project_resource\n",
       "2      add_project_spendings\n",
       "3    change_project_contract\n",
       "4    change_project_resource\n",
       "5   change_project_spendings\n",
       "6    delete_project_contract\n",
       "7    delete_project_resource\n",
       "8   delete_project_spendings\n",
       "9      view_project_contract\n",
       "10     view_project_resource\n",
       "11    view_project_spendings"
      ]
     },
     "execution_count": 21,
     "metadata": {},
     "output_type": "execute_result"
    }
   ],
   "source": [
    "# demonstrate a list of permissions of stakeholder over a project after deleting project charter permissions\n",
    "print(\"Permissions after deleting project charter permissions:\")\n",
    "get_all_permissions_of_stakeholder_over_project(pm, project)"
   ]
  },
  {
   "cell_type": "code",
   "execution_count": 22,
   "id": "6e30d88e",
   "metadata": {},
   "outputs": [
    {
     "name": "stdout",
     "output_type": "stream",
     "text": [
      "Result: Project resources permissions deleted successfully\n",
      "HTTP status code:  204\n"
     ]
    }
   ],
   "source": [
    "# As 'an author of the project'\n",
    "# delete project resources permissions of a stakeholder\n",
    "content = {\n",
    "    \"user_id\": pm,\n",
    "    \"project_id\": project,\n",
    "    \"permissions\": [\"add_project_resource\", \"delete_project_resource\", \"change_project_resource\", \"view_project_resource\"]\n",
    "}\n",
    "route = project_resources_view.DeleteProjectResourcePermissionsOfUserAPI.name\n",
    "response = post_request(data=content, route=route, auth_token=token_pmo, type_json=True)\n",
    "if response.status_code == 204:\n",
    "    print(\"Result: Project resources permissions deleted successfully\")\n",
    "    print(\"HTTP status code: \", response.status_code)\n",
    "else: \n",
    "    print(\"Result: Delete permissions request failed\")\n",
    "    print(\"HTTP status code: \", response.status_code)"
   ]
  },
  {
   "cell_type": "code",
   "execution_count": 23,
   "id": "bec348b5",
   "metadata": {},
   "outputs": [
    {
     "name": "stdout",
     "output_type": "stream",
     "text": [
      "Permissions after deleting project resources permissions:\n"
     ]
    },
    {
     "data": {
      "text/html": [
       "<div>\n",
       "<style scoped>\n",
       "    .dataframe tbody tr th:only-of-type {\n",
       "        vertical-align: middle;\n",
       "    }\n",
       "\n",
       "    .dataframe tbody tr th {\n",
       "        vertical-align: top;\n",
       "    }\n",
       "\n",
       "    .dataframe thead th {\n",
       "        text-align: right;\n",
       "    }\n",
       "</style>\n",
       "<table border=\"1\" class=\"dataframe\">\n",
       "  <thead>\n",
       "    <tr style=\"text-align: right;\">\n",
       "      <th></th>\n",
       "      <th>permissions</th>\n",
       "    </tr>\n",
       "  </thead>\n",
       "  <tbody>\n",
       "    <tr>\n",
       "      <th>0</th>\n",
       "      <td>add_project_contract</td>\n",
       "    </tr>\n",
       "    <tr>\n",
       "      <th>1</th>\n",
       "      <td>add_project_spendings</td>\n",
       "    </tr>\n",
       "    <tr>\n",
       "      <th>2</th>\n",
       "      <td>change_project_contract</td>\n",
       "    </tr>\n",
       "    <tr>\n",
       "      <th>3</th>\n",
       "      <td>change_project_spendings</td>\n",
       "    </tr>\n",
       "    <tr>\n",
       "      <th>4</th>\n",
       "      <td>delete_project_contract</td>\n",
       "    </tr>\n",
       "    <tr>\n",
       "      <th>5</th>\n",
       "      <td>delete_project_spendings</td>\n",
       "    </tr>\n",
       "    <tr>\n",
       "      <th>6</th>\n",
       "      <td>view_project_contract</td>\n",
       "    </tr>\n",
       "    <tr>\n",
       "      <th>7</th>\n",
       "      <td>view_project_spendings</td>\n",
       "    </tr>\n",
       "  </tbody>\n",
       "</table>\n",
       "</div>"
      ],
      "text/plain": [
       "                permissions\n",
       "0      add_project_contract\n",
       "1     add_project_spendings\n",
       "2   change_project_contract\n",
       "3  change_project_spendings\n",
       "4   delete_project_contract\n",
       "5  delete_project_spendings\n",
       "6     view_project_contract\n",
       "7    view_project_spendings"
      ]
     },
     "execution_count": 23,
     "metadata": {},
     "output_type": "execute_result"
    }
   ],
   "source": [
    "# demonstrate a list of permissions of stakeholder over a project after deleting project resources permissions\n",
    "print(\"Permissions after deleting project resources permissions:\")\n",
    "get_all_permissions_of_stakeholder_over_project(pm, project)"
   ]
  },
  {
   "cell_type": "code",
   "execution_count": 24,
   "id": "2f0b2cb4",
   "metadata": {},
   "outputs": [
    {
     "name": "stdout",
     "output_type": "stream",
     "text": [
      "Result: Project procurements permissions deleted successfully\n",
      "HTTP status code:  204\n"
     ]
    }
   ],
   "source": [
    "# As 'an author of the project'\n",
    "# delete project contracts permissions of a stakeholder\n",
    "content = {\n",
    "    \"user_id\": pm,\n",
    "    \"project_id\": project,\n",
    "    \"permissions\": [\"add_project_contract\", \"delete_project_contract\", \"change_project_contract\", \"view_project_contract\"]\n",
    "}\n",
    "route = project_procurements_view.DeleteProjectContractPermissionsOfUserAPI.name\n",
    "response = post_request(data=content, route=route, auth_token=token_pmo, type_json=True)\n",
    "if response.status_code == 204:\n",
    "    print(\"Result: Project procurements permissions deleted successfully\")\n",
    "    print(\"HTTP status code: \", response.status_code)\n",
    "else: \n",
    "    print(\"Result: Delete permissions request failed\")\n",
    "    print(\"HTTP status code: \", response.status_code)"
   ]
  },
  {
   "cell_type": "code",
   "execution_count": 25,
   "id": "3597a23d",
   "metadata": {},
   "outputs": [
    {
     "name": "stdout",
     "output_type": "stream",
     "text": [
      "Permissions after deleting project contract permissions:\n"
     ]
    },
    {
     "data": {
      "text/html": [
       "<div>\n",
       "<style scoped>\n",
       "    .dataframe tbody tr th:only-of-type {\n",
       "        vertical-align: middle;\n",
       "    }\n",
       "\n",
       "    .dataframe tbody tr th {\n",
       "        vertical-align: top;\n",
       "    }\n",
       "\n",
       "    .dataframe thead th {\n",
       "        text-align: right;\n",
       "    }\n",
       "</style>\n",
       "<table border=\"1\" class=\"dataframe\">\n",
       "  <thead>\n",
       "    <tr style=\"text-align: right;\">\n",
       "      <th></th>\n",
       "      <th>permissions</th>\n",
       "    </tr>\n",
       "  </thead>\n",
       "  <tbody>\n",
       "    <tr>\n",
       "      <th>0</th>\n",
       "      <td>add_project_spendings</td>\n",
       "    </tr>\n",
       "    <tr>\n",
       "      <th>1</th>\n",
       "      <td>change_project_spendings</td>\n",
       "    </tr>\n",
       "    <tr>\n",
       "      <th>2</th>\n",
       "      <td>delete_project_spendings</td>\n",
       "    </tr>\n",
       "    <tr>\n",
       "      <th>3</th>\n",
       "      <td>view_project_spendings</td>\n",
       "    </tr>\n",
       "  </tbody>\n",
       "</table>\n",
       "</div>"
      ],
      "text/plain": [
       "                permissions\n",
       "0     add_project_spendings\n",
       "1  change_project_spendings\n",
       "2  delete_project_spendings\n",
       "3    view_project_spendings"
      ]
     },
     "execution_count": 25,
     "metadata": {},
     "output_type": "execute_result"
    }
   ],
   "source": [
    "# demonstrate a list of permissions of stakeholder over a project after deleting project contract permissions\n",
    "print(\"Permissions after deleting project contract permissions:\")\n",
    "get_all_permissions_of_stakeholder_over_project(pm, project)"
   ]
  },
  {
   "cell_type": "code",
   "execution_count": 26,
   "id": "1ad9d557",
   "metadata": {},
   "outputs": [
    {
     "name": "stdout",
     "output_type": "stream",
     "text": [
      "Result: Project spendings permissions deleted successfully\n",
      "HTTP status code:  204\n"
     ]
    }
   ],
   "source": [
    "# As 'an author of the project'\n",
    "# delete project spendings permissions of a stakeholder\n",
    "content = {\n",
    "    \"user_id\": pm,\n",
    "    \"project_id\": project,\n",
    "    \"permissions\": [\"add_project_spendings\", \"delete_project_spendings\", \"change_project_spendings\", \"view_project_spendings\"]\n",
    "}\n",
    "route = project_budget_view.DeleteProjectBudgetPermissionsOfUserAPI.name\n",
    "response = post_request(data=content, route=route, auth_token=token_pmo, type_json=True)\n",
    "if response.status_code == 204:\n",
    "    print(\"Result: Project spendings permissions deleted successfully\")\n",
    "    print(\"HTTP status code: \", response.status_code)\n",
    "else: \n",
    "    print(\"Result: Delete permissions request failed\")\n",
    "    print(\"HTTP status code: \", response.status_code)"
   ]
  },
  {
   "cell_type": "code",
   "execution_count": 27,
   "id": "aff934a2",
   "metadata": {},
   "outputs": [
    {
     "name": "stdout",
     "output_type": "stream",
     "text": [
      "Permissions after deleting project spendings permissions:\n",
      "There is not any assigned permission\n"
     ]
    }
   ],
   "source": [
    "# demonstrate a list of permissions of stakeholder over a project after deleting project spendings permissions\n",
    "print(\"Permissions after deleting project spendings permissions:\")\n",
    "get_all_permissions_of_stakeholder_over_project(pm, project)"
   ]
  },
  {
   "cell_type": "code",
   "execution_count": 28,
   "id": "a759b817",
   "metadata": {},
   "outputs": [
    {
     "name": "stdout",
     "output_type": "stream",
     "text": [
      "Result: Project charter permissions assigned\n",
      "HTTP status code:  201\n"
     ]
    }
   ],
   "source": [
    "# As 'an author of the project'\n",
    "# assign project charter permissions to PM\n",
    "content = {\n",
    "    \"user_id\": pm,\n",
    "    \"project_id\": project,\n",
    "    \"permissions\": [\"delete_project_charter\", \"change_project_charter\", \"add_project_charter\", \"view_project_charter\"]    \n",
    "}\n",
    "route = project_charter_view.AddProjectCharterPermissionsOfUserAPI.name\n",
    "response = post_request(data=content, route=route, auth_token=token_pmo, type_json=True)\n",
    "if response.status_code == 201:\n",
    "    print(\"Result: Project charter permissions assigned\")\n",
    "    print(\"HTTP status code: \", response.status_code)\n",
    "else: \n",
    "    print(\"Result: Permission assignment failed\")\n",
    "    print(\"HTTP status code: \", response.status_code)"
   ]
  },
  {
   "cell_type": "code",
   "execution_count": 29,
   "id": "28af26b6",
   "metadata": {},
   "outputs": [
    {
     "name": "stdout",
     "output_type": "stream",
     "text": [
      "Result:  Project charter created successfully.\n",
      "Project_Charter:\n"
     ]
    },
    {
     "data": {
      "text/html": [
       "<div>\n",
       "<style scoped>\n",
       "    .dataframe tbody tr th:only-of-type {\n",
       "        vertical-align: middle;\n",
       "    }\n",
       "\n",
       "    .dataframe tbody tr th {\n",
       "        vertical-align: top;\n",
       "    }\n",
       "\n",
       "    .dataframe thead th {\n",
       "        text-align: right;\n",
       "    }\n",
       "</style>\n",
       "<table border=\"1\" class=\"dataframe\">\n",
       "  <thead>\n",
       "    <tr style=\"text-align: right;\">\n",
       "      <th></th>\n",
       "      <th>id</th>\n",
       "      <th>project</th>\n",
       "      <th>author</th>\n",
       "      <th>created</th>\n",
       "      <th>last_updated</th>\n",
       "      <th>sow</th>\n",
       "      <th>contract</th>\n",
       "      <th>business_case</th>\n",
       "    </tr>\n",
       "  </thead>\n",
       "  <tbody>\n",
       "    <tr>\n",
       "      <th>0</th>\n",
       "      <td>33</td>\n",
       "      <td>52</td>\n",
       "      <td>37</td>\n",
       "      <td>2022-06-05 14:50:13</td>\n",
       "      <td>2022-06-05 14:50:13</td>\n",
       "      <td>thesis outline</td>\n",
       "      <td>Guida Studente DIGEP per la tesi</td>\n",
       "      <td>Digital PM</td>\n",
       "    </tr>\n",
       "  </tbody>\n",
       "</table>\n",
       "</div>"
      ],
      "text/plain": [
       "   id  project  author             created        last_updated  \\\n",
       "0  33       52      37 2022-06-05 14:50:13 2022-06-05 14:50:13   \n",
       "\n",
       "              sow                          contract business_case  \n",
       "0  thesis outline  Guida Studente DIGEP per la tesi    Digital PM  "
      ]
     },
     "execution_count": 29,
     "metadata": {},
     "output_type": "execute_result"
    }
   ],
   "source": [
    "# As 'project manager'\n",
    "# prepare project charter\n",
    "project = result_project.get('id')\n",
    "author = stakeholder_pm.get('id')\n",
    "project_charter = {\n",
    "    \"project\": project,\n",
    "    \"author\": author,\n",
    "    \"sow\": \"thesis outline\",\n",
    "    \"contract\": \"Guida Studente DIGEP per la tesi\",\n",
    "    \"business_case\": \"Digital PM\"\n",
    "}\n",
    "\n",
    "route = project_charter_view.ProjectCharterAPI.name\n",
    "response = post_request(data=project_charter, route=route, auth_token=token_pm, type_json=True).json()\n",
    "result = response.get('detail')\n",
    "result_project_charter = response.get('project_charter')\n",
    "\n",
    "print(\"Result: \", result)\n",
    "print(\"Project_Charter:\")\n",
    "result_project_charter.pop('bus_case_swot')\n",
    "result_project_charter.pop('project_budget')\n",
    "result_project_charter[\"created\"] = datetime.strptime(result_project_charter.get(\"created\"), \n",
    "                                                      '%Y-%m-%dT%H:%M:%S.%fZ').replace(microsecond=0)\n",
    "result_project_charter[\"last_updated\"] = datetime.strptime(result_project_charter.get(\"last_updated\"), \n",
    "                                                           '%Y-%m-%dT%H:%M:%S.%fZ').replace(microsecond=0)\n",
    "\n",
    "df = pd.json_normalize(result_project_charter)\n",
    "df"
   ]
  },
  {
   "cell_type": "code",
   "execution_count": 30,
   "id": "8c0cec03",
   "metadata": {},
   "outputs": [
    {
     "name": "stdout",
     "output_type": "stream",
     "text": [
      "Result:  Project charter updated successfully\n"
     ]
    }
   ],
   "source": [
    "# As 'project manager'\n",
    "# edit a project charter\n",
    "project_charter_id = result_project_charter.get('id')\n",
    "# may have partial attributes\n",
    "project_charter = {    \n",
    "    \"sow\": \"standard thesis outline\",\n",
    "    \"contract\": \"Guida Studente DIGEP per la tesi\",\n",
    "    \"business_case\": \"Research Case Digital PM\"\n",
    "}\n",
    "route = project_charter_view.EditProjectCharterAPI.name\n",
    "response = patch_request(data=project_charter, route=route, auth_token=token_pm, \n",
    "                         path_param=[project_charter_id], type_json=True).json()\n",
    "result = response.get('detail')\n",
    "print(\"Result: \", result)"
   ]
  },
  {
   "cell_type": "code",
   "execution_count": 31,
   "id": "08c5f0bd",
   "metadata": {},
   "outputs": [
    {
     "name": "stdout",
     "output_type": "stream",
     "text": [
      "Project charter:\n"
     ]
    },
    {
     "data": {
      "text/html": [
       "<div>\n",
       "<style scoped>\n",
       "    .dataframe tbody tr th:only-of-type {\n",
       "        vertical-align: middle;\n",
       "    }\n",
       "\n",
       "    .dataframe tbody tr th {\n",
       "        vertical-align: top;\n",
       "    }\n",
       "\n",
       "    .dataframe thead th {\n",
       "        text-align: right;\n",
       "    }\n",
       "</style>\n",
       "<table border=\"1\" class=\"dataframe\">\n",
       "  <thead>\n",
       "    <tr style=\"text-align: right;\">\n",
       "      <th></th>\n",
       "      <th>id</th>\n",
       "      <th>project</th>\n",
       "      <th>author</th>\n",
       "      <th>created</th>\n",
       "      <th>last_updated</th>\n",
       "      <th>sow</th>\n",
       "      <th>contract</th>\n",
       "      <th>business_case</th>\n",
       "    </tr>\n",
       "  </thead>\n",
       "  <tbody>\n",
       "    <tr>\n",
       "      <th>0</th>\n",
       "      <td>33</td>\n",
       "      <td>52</td>\n",
       "      <td>37</td>\n",
       "      <td>2022-06-05 14:50:13</td>\n",
       "      <td>2022-06-05 14:50:15</td>\n",
       "      <td>standard thesis outline</td>\n",
       "      <td>Guida Studente DIGEP per la tesi</td>\n",
       "      <td>Research Case Digital PM</td>\n",
       "    </tr>\n",
       "  </tbody>\n",
       "</table>\n",
       "</div>"
      ],
      "text/plain": [
       "   id  project  author             created        last_updated  \\\n",
       "0  33       52      37 2022-06-05 14:50:13 2022-06-05 14:50:15   \n",
       "\n",
       "                       sow                          contract  \\\n",
       "0  standard thesis outline  Guida Studente DIGEP per la tesi   \n",
       "\n",
       "              business_case  \n",
       "0  Research Case Digital PM  "
      ]
     },
     "execution_count": 31,
     "metadata": {},
     "output_type": "execute_result"
    }
   ],
   "source": [
    "# As 'project manager'\n",
    "# get a project charter of a project\n",
    "route = project_charter_view.ProjectCharterDetailsAPI.name\n",
    "response = get_request(route=route, auth_token=token_pm, path_param=[project_charter_id]).json()\n",
    "print(\"Project charter:\")\n",
    "response.pop('bus_case_swot')\n",
    "response.pop('project_budget')\n",
    "response[\"created\"] = datetime.strptime(response.get(\"created\"), '%Y-%m-%dT%H:%M:%S.%fZ').replace(microsecond=0)\n",
    "response[\"last_updated\"] = datetime.strptime(response.get(\"last_updated\"), '%Y-%m-%dT%H:%M:%S.%fZ').replace(microsecond=0)\n",
    "\n",
    "df = pd.json_normalize(response)\n",
    "df"
   ]
  },
  {
   "cell_type": "code",
   "execution_count": 32,
   "id": "24a69703",
   "metadata": {},
   "outputs": [
    {
     "name": "stdout",
     "output_type": "stream",
     "text": [
      "Result:  Business case swot added successfully.\n"
     ]
    },
    {
     "data": {
      "text/html": [
       "<div>\n",
       "<style scoped>\n",
       "    .dataframe tbody tr th:only-of-type {\n",
       "        vertical-align: middle;\n",
       "    }\n",
       "\n",
       "    .dataframe tbody tr th {\n",
       "        vertical-align: top;\n",
       "    }\n",
       "\n",
       "    .dataframe thead th {\n",
       "        text-align: right;\n",
       "    }\n",
       "</style>\n",
       "<table border=\"1\" class=\"dataframe\">\n",
       "  <thead>\n",
       "    <tr style=\"text-align: right;\">\n",
       "      <th></th>\n",
       "      <th>id</th>\n",
       "      <th>project_charter</th>\n",
       "      <th>swot_type</th>\n",
       "      <th>content</th>\n",
       "    </tr>\n",
       "  </thead>\n",
       "  <tbody>\n",
       "    <tr>\n",
       "      <th>0</th>\n",
       "      <td>107</td>\n",
       "      <td>33</td>\n",
       "      <td>opportunity</td>\n",
       "      <td>Very small legacy in PIMS</td>\n",
       "    </tr>\n",
       "    <tr>\n",
       "      <th>1</th>\n",
       "      <td>108</td>\n",
       "      <td>33</td>\n",
       "      <td>opportunity</td>\n",
       "      <td>A standard for PM exists</td>\n",
       "    </tr>\n",
       "    <tr>\n",
       "      <th>2</th>\n",
       "      <td>109</td>\n",
       "      <td>33</td>\n",
       "      <td>weakness</td>\n",
       "      <td>Front ends must be custom built according to c...</td>\n",
       "    </tr>\n",
       "    <tr>\n",
       "      <th>3</th>\n",
       "      <td>110</td>\n",
       "      <td>33</td>\n",
       "      <td>strength</td>\n",
       "      <td>Access some services</td>\n",
       "    </tr>\n",
       "  </tbody>\n",
       "</table>\n",
       "</div>"
      ],
      "text/plain": [
       "    id  project_charter    swot_type  \\\n",
       "0  107               33  opportunity   \n",
       "1  108               33  opportunity   \n",
       "2  109               33     weakness   \n",
       "3  110               33     strength   \n",
       "\n",
       "                                             content  \n",
       "0                          Very small legacy in PIMS  \n",
       "1                           A standard for PM exists  \n",
       "2  Front ends must be custom built according to c...  \n",
       "3                               Access some services  "
      ]
     },
     "execution_count": 32,
     "metadata": {},
     "output_type": "execute_result"
    }
   ],
   "source": [
    "# As 'project manager'\n",
    "# Add BusCase SWOT\n",
    "project_charter = result_project_charter.get('id')\n",
    "\n",
    "# swot 1\n",
    "swot = {\n",
    "    \"project_charter\": project_charter,\n",
    "    \"swot_type\": \"opportunity\",\n",
    "    \"content\": \"Very small legacy in PIMS\"\n",
    "}\n",
    "\n",
    "route = project_charter_view.BusinessCaseSWOTAPI.name\n",
    "response = post_request(data=swot, route=route, auth_token=token_pm, type_json=True).json()\n",
    "result = response.get('detail')\n",
    "result_swot = response.get('swot')\n",
    "\n",
    "data = [result_swot]\n",
    "\n",
    "# swot2\n",
    "swot = {\n",
    "    \"project_charter\": project_charter,\n",
    "    \"swot_type\": \"opportunity\",\n",
    "    \"content\": \"A standard for PM exists\"\n",
    "}\n",
    "\n",
    "response = post_request(data=swot, route=route, auth_token=token_pm, type_json=True).json()\n",
    "result = response.get('detail')\n",
    "result_swot = response.get('swot')\n",
    "data.append(result_swot)\n",
    "\n",
    "# swot 3\n",
    "swot = {\n",
    "    \"project_charter\": project_charter,\n",
    "    \"swot_type\": \"weakness\",\n",
    "    \"content\": \"Front ends must be custom built according to corporate paractices and back end constraints\"\n",
    "}\n",
    "\n",
    "response = post_request(data=swot, route=route, auth_token=token_pm, type_json=True).json()\n",
    "result = response.get('detail')\n",
    "result_swot = response.get('swot')\n",
    "data.append(result_swot)\n",
    "\n",
    "# swot 4\n",
    "swot = {\n",
    "    \"project_charter\": project_charter,\n",
    "    \"swot_type\": \"strength\",\n",
    "    \"content\": \"Access some services\"\n",
    "}\n",
    "\n",
    "response = post_request(data=swot, route=route, auth_token=token_pm, type_json=True).json()\n",
    "result = response.get('detail')\n",
    "result_swot = response.get('swot')\n",
    "data.append(result_swot)\n",
    "\n",
    "print(\"Result: \", result)\n",
    "df = pd.json_normalize(data)\n",
    "df"
   ]
  },
  {
   "cell_type": "code",
   "execution_count": 33,
   "id": "3fc4415f",
   "metadata": {},
   "outputs": [
    {
     "name": "stdout",
     "output_type": "stream",
     "text": [
      "Result: SWOT deleted successfully\n",
      "HTTP status code:  204\n"
     ]
    }
   ],
   "source": [
    "# As 'project manager'\n",
    "# delete a swot\n",
    "swot_id = result_swot.get('id')\n",
    "route = project_charter_view.DeleteBusinessCaseSWOTAPI.name\n",
    "response = delete_request(route=route, auth_token=token_pm, path_param=[swot_id])\n",
    "if response.status_code == 204:\n",
    "    print(\"Result: SWOT deleted successfully\")\n",
    "    print(\"HTTP status code: \", response.status_code)\n",
    "else: \n",
    "    print(\"Result: Delete request failed\")\n",
    "    print(\"HTTP status code: \", response.status_code)\n",
    "    if \"detail\" in response.json():\n",
    "        print('detail: ', response.json().get('detail'))"
   ]
  },
  {
   "cell_type": "code",
   "execution_count": 34,
   "id": "6a16b0e0",
   "metadata": {},
   "outputs": [
    {
     "data": {
      "text/html": [
       "<div>\n",
       "<style scoped>\n",
       "    .dataframe tbody tr th:only-of-type {\n",
       "        vertical-align: middle;\n",
       "    }\n",
       "\n",
       "    .dataframe tbody tr th {\n",
       "        vertical-align: top;\n",
       "    }\n",
       "\n",
       "    .dataframe thead th {\n",
       "        text-align: right;\n",
       "    }\n",
       "</style>\n",
       "<table border=\"1\" class=\"dataframe\">\n",
       "  <thead>\n",
       "    <tr style=\"text-align: right;\">\n",
       "      <th></th>\n",
       "      <th>id</th>\n",
       "      <th>project_charter</th>\n",
       "      <th>swot_type</th>\n",
       "      <th>content</th>\n",
       "    </tr>\n",
       "  </thead>\n",
       "  <tbody>\n",
       "    <tr>\n",
       "      <th>0</th>\n",
       "      <td>107</td>\n",
       "      <td>33</td>\n",
       "      <td>opportunity</td>\n",
       "      <td>Very small legacy in PIMS</td>\n",
       "    </tr>\n",
       "    <tr>\n",
       "      <th>1</th>\n",
       "      <td>108</td>\n",
       "      <td>33</td>\n",
       "      <td>opportunity</td>\n",
       "      <td>A standard for PM exists</td>\n",
       "    </tr>\n",
       "    <tr>\n",
       "      <th>2</th>\n",
       "      <td>109</td>\n",
       "      <td>33</td>\n",
       "      <td>weakness</td>\n",
       "      <td>Front ends must be custom built according to c...</td>\n",
       "    </tr>\n",
       "  </tbody>\n",
       "</table>\n",
       "</div>"
      ],
      "text/plain": [
       "    id  project_charter    swot_type  \\\n",
       "0  107               33  opportunity   \n",
       "1  108               33  opportunity   \n",
       "2  109               33     weakness   \n",
       "\n",
       "                                             content  \n",
       "0                          Very small legacy in PIMS  \n",
       "1                           A standard for PM exists  \n",
       "2  Front ends must be custom built according to c...  "
      ]
     },
     "execution_count": 34,
     "metadata": {},
     "output_type": "execute_result"
    }
   ],
   "source": [
    "# As 'project manager'\n",
    "# get swot list of project charter\n",
    "route = project_charter_view.SWOTListOfProjectCharterAPI.name\n",
    "response = get_request(route=route, auth_token=token_pm, path_param=[project_charter]).json()\n",
    "\n",
    "df = pd.DataFrame (response['swot-list'], columns = ['id', 'project_charter', 'swot_type', 'content'])\n",
    "df"
   ]
  },
  {
   "cell_type": "code",
   "execution_count": 35,
   "id": "fe3705d6",
   "metadata": {},
   "outputs": [
    {
     "data": {
      "text/html": [
       "<div>\n",
       "<style scoped>\n",
       "    .dataframe tbody tr th:only-of-type {\n",
       "        vertical-align: middle;\n",
       "    }\n",
       "\n",
       "    .dataframe tbody tr th {\n",
       "        vertical-align: top;\n",
       "    }\n",
       "\n",
       "    .dataframe thead th {\n",
       "        text-align: right;\n",
       "    }\n",
       "</style>\n",
       "<table border=\"1\" class=\"dataframe\">\n",
       "  <thead>\n",
       "    <tr style=\"text-align: right;\">\n",
       "      <th></th>\n",
       "      <th>id</th>\n",
       "      <th>project_charter</th>\n",
       "      <th>swot_type</th>\n",
       "      <th>content</th>\n",
       "    </tr>\n",
       "  </thead>\n",
       "  <tbody>\n",
       "    <tr>\n",
       "      <th>0</th>\n",
       "      <td>107</td>\n",
       "      <td>33</td>\n",
       "      <td>opportunity</td>\n",
       "      <td>Very small legacy in PIMS</td>\n",
       "    </tr>\n",
       "  </tbody>\n",
       "</table>\n",
       "</div>"
      ],
      "text/plain": [
       "    id  project_charter    swot_type                    content\n",
       "0  107               33  opportunity  Very small legacy in PIMS"
      ]
     },
     "execution_count": 35,
     "metadata": {},
     "output_type": "execute_result"
    }
   ],
   "source": [
    "# As 'project manager'\n",
    "# get a single swot instance\n",
    "swot = response['swot-list'][0].get('id')\n",
    "route = project_charter_view.SWOTDetailsAPI.name\n",
    "response = get_request(route=route, auth_token=token_pm, path_param=[swot]).json()\n",
    "\n",
    "df = pd.json_normalize(response)\n",
    "df"
   ]
  },
  {
   "cell_type": "code",
   "execution_count": 36,
   "id": "effd39c6",
   "metadata": {},
   "outputs": [
    {
     "name": "stdout",
     "output_type": "stream",
     "text": [
      "Result: Project resources permissions assigned\n",
      "HTTP status code:  201\n"
     ]
    }
   ],
   "source": [
    "# As 'an author of the project'\n",
    "# assign project resources permissions to PM\n",
    "content = {\n",
    "    \"user_id\": pm,\n",
    "    \"project_id\": project,\n",
    "    \"permissions\": [\"add_project_resource\", \"delete_project_resource\", \"change_project_resource\", \"view_project_resource\"]    \n",
    "}\n",
    "route = project_resources_view.AddProjectResourcePermissionsOfUserAPI.name\n",
    "response = post_request(data=content, route=route, auth_token=token_pmo, type_json=True)\n",
    "if response.status_code == 201:\n",
    "    print(\"Result: Project resources permissions assigned\")\n",
    "    print(\"HTTP status code: \", response.status_code)\n",
    "else: \n",
    "    print(\"Result: Permission assignment failed\")\n",
    "    print(\"HTTP status code: \", response.status_code)"
   ]
  },
  {
   "cell_type": "code",
   "execution_count": 37,
   "id": "c843bd28",
   "metadata": {},
   "outputs": [
    {
     "name": "stdout",
     "output_type": "stream",
     "text": [
      "Result:  Resource added successfully.\n",
      "Project resources:\n"
     ]
    },
    {
     "data": {
      "text/html": [
       "<div>\n",
       "<style scoped>\n",
       "    .dataframe tbody tr th:only-of-type {\n",
       "        vertical-align: middle;\n",
       "    }\n",
       "\n",
       "    .dataframe tbody tr th {\n",
       "        vertical-align: top;\n",
       "    }\n",
       "\n",
       "    .dataframe thead th {\n",
       "        text-align: right;\n",
       "    }\n",
       "</style>\n",
       "<table border=\"1\" class=\"dataframe\">\n",
       "  <thead>\n",
       "    <tr style=\"text-align: right;\">\n",
       "      <th></th>\n",
       "      <th>id</th>\n",
       "      <th>project</th>\n",
       "      <th>name</th>\n",
       "      <th>description</th>\n",
       "      <th>cost</th>\n",
       "      <th>unit</th>\n",
       "      <th>category</th>\n",
       "    </tr>\n",
       "  </thead>\n",
       "  <tbody>\n",
       "    <tr>\n",
       "      <th>0</th>\n",
       "      <td>72</td>\n",
       "      <td>52</td>\n",
       "      <td>engineer</td>\n",
       "      <td>price in eur/hour</td>\n",
       "      <td>12.0</td>\n",
       "      <td>euro</td>\n",
       "      <td>human</td>\n",
       "    </tr>\n",
       "    <tr>\n",
       "      <th>1</th>\n",
       "      <td>73</td>\n",
       "      <td>52</td>\n",
       "      <td>technician</td>\n",
       "      <td>price in eur/hour</td>\n",
       "      <td>10.0</td>\n",
       "      <td>euro</td>\n",
       "      <td>human</td>\n",
       "    </tr>\n",
       "    <tr>\n",
       "      <th>2</th>\n",
       "      <td>74</td>\n",
       "      <td>52</td>\n",
       "      <td>purchase officer</td>\n",
       "      <td>price in eur/hour</td>\n",
       "      <td>8.0</td>\n",
       "      <td>euro</td>\n",
       "      <td>human</td>\n",
       "    </tr>\n",
       "  </tbody>\n",
       "</table>\n",
       "</div>"
      ],
      "text/plain": [
       "   id  project              name        description  cost  unit category\n",
       "0  72       52          engineer  price in eur/hour  12.0  euro    human\n",
       "1  73       52        technician  price in eur/hour  10.0  euro    human\n",
       "2  74       52  purchase officer  price in eur/hour   8.0  euro    human"
      ]
     },
     "execution_count": 37,
     "metadata": {},
     "output_type": "execute_result"
    }
   ],
   "source": [
    "# add new resources to the project\n",
    "# resource 1\n",
    "resource = {\n",
    "    \"project\": project,\n",
    "    \"name\": \"engineer\",\n",
    "    \"description\": \"price in eur/hour\",\n",
    "    \"cost\": 12.00,\n",
    "    \"category\": \"human\"\n",
    "}\n",
    "\n",
    "route = project_resources_view.AddResourceAPI.name\n",
    "response = post_request(data=resource, route=route, auth_token=token_pm, type_json=True).json()\n",
    "resources = [response.get('resource')]\n",
    "\n",
    "# resource 2\n",
    "resource = {\n",
    "    \"project\": project,\n",
    "    \"name\": \"technician\",\n",
    "    \"description\": \"price in eur/hour\",\n",
    "    \"cost\": 10.00,\n",
    "    \"category\": \"human\"\n",
    "}\n",
    "\n",
    "route = project_resources_view.AddResourceAPI.name\n",
    "response = post_request(data=resource, route=route, auth_token=token_pm, type_json=True).json()\n",
    "resources.append(response.get('resource'))\n",
    "\n",
    "# resource 3\n",
    "resource = {\n",
    "    \"project\": project,\n",
    "    \"name\": \"purchase officer\",\n",
    "    \"description\": \"price in eur/hour\",\n",
    "    \"cost\": 8.00,\n",
    "    \"category\": \"human\"\n",
    "}\n",
    "\n",
    "route = project_resources_view.AddResourceAPI.name\n",
    "response = post_request(data=resource, route=route, auth_token=token_pm, type_json=True).json()\n",
    "result = response.get('detail')\n",
    "resources.append(response.get('resource'))\n",
    "\n",
    "print(\"Result: \", result)\n",
    "print(\"Project resources:\")\n",
    "\n",
    "df = pd.json_normalize(resources)\n",
    "df"
   ]
  },
  {
   "cell_type": "code",
   "execution_count": 38,
   "id": "eb74d042",
   "metadata": {},
   "outputs": [
    {
     "name": "stdout",
     "output_type": "stream",
     "text": [
      "Result:  Resource updated successfully\n"
     ]
    }
   ],
   "source": [
    "# edit a project resource\n",
    "# may have partial attributes\n",
    "resource_id = response.get('resource').get('id')\n",
    "resource = {    \n",
    "    \"name\": \"purchase officer\",\n",
    "    \"description\": \"salary in eur\",\n",
    "    \"cost\": 15.00,\n",
    "    \"category\": \"human\"\n",
    "}\n",
    "route = project_resources_view.UpdateResourceAPI.name\n",
    "response = patch_request(data=resource, route=route, auth_token=token_pm, path_param=[resource_id], type_json=True).json()\n",
    "result = response.get('detail')\n",
    "print(\"Result: \", result)"
   ]
  },
  {
   "cell_type": "code",
   "execution_count": 39,
   "id": "99909cde",
   "metadata": {},
   "outputs": [
    {
     "name": "stdout",
     "output_type": "stream",
     "text": [
      "Project resource after editing:\n"
     ]
    },
    {
     "data": {
      "text/html": [
       "<div>\n",
       "<style scoped>\n",
       "    .dataframe tbody tr th:only-of-type {\n",
       "        vertical-align: middle;\n",
       "    }\n",
       "\n",
       "    .dataframe tbody tr th {\n",
       "        vertical-align: top;\n",
       "    }\n",
       "\n",
       "    .dataframe thead th {\n",
       "        text-align: right;\n",
       "    }\n",
       "</style>\n",
       "<table border=\"1\" class=\"dataframe\">\n",
       "  <thead>\n",
       "    <tr style=\"text-align: right;\">\n",
       "      <th></th>\n",
       "      <th>id</th>\n",
       "      <th>project</th>\n",
       "      <th>name</th>\n",
       "      <th>description</th>\n",
       "      <th>cost</th>\n",
       "      <th>unit</th>\n",
       "      <th>category</th>\n",
       "    </tr>\n",
       "  </thead>\n",
       "  <tbody>\n",
       "    <tr>\n",
       "      <th>0</th>\n",
       "      <td>74</td>\n",
       "      <td>52</td>\n",
       "      <td>purchase officer</td>\n",
       "      <td>salary in eur</td>\n",
       "      <td>15.0</td>\n",
       "      <td>euro</td>\n",
       "      <td>human</td>\n",
       "    </tr>\n",
       "  </tbody>\n",
       "</table>\n",
       "</div>"
      ],
      "text/plain": [
       "   id  project              name    description  cost  unit category\n",
       "0  74       52  purchase officer  salary in eur  15.0  euro    human"
      ]
     },
     "execution_count": 39,
     "metadata": {},
     "output_type": "execute_result"
    }
   ],
   "source": [
    "# get a single resource instance\n",
    "route = project_resources_view.GetResourceAPI.name\n",
    "response = get_request(route=route, auth_token=token_pm, path_param=[resource_id]).json()\n",
    "\n",
    "print('Project resource after editing:')\n",
    "df = pd.json_normalize(response)\n",
    "df"
   ]
  },
  {
   "cell_type": "code",
   "execution_count": 40,
   "id": "9f50b21b",
   "metadata": {},
   "outputs": [
    {
     "name": "stdout",
     "output_type": "stream",
     "text": [
      "Result: Project resource deleted successfully\n",
      "HTTP status code:  204\n"
     ]
    }
   ],
   "source": [
    "# delete a project resource\n",
    "route = project_resources_view.RemoveResourceAPI.name\n",
    "response = delete_request(route=route, auth_token=token_pm, path_param=[resource_id])\n",
    "if response.status_code == 204:\n",
    "    print(\"Result: Project resource deleted successfully\")\n",
    "    print(\"HTTP status code: \", response.status_code)\n",
    "else: \n",
    "    print(\"Result: Delete request failed\")\n",
    "    print(\"HTTP status code: \", response.status_code)\n",
    "    if \"detail\" in response.json():\n",
    "        print('detail: ', response.json().get('detail'))"
   ]
  },
  {
   "cell_type": "code",
   "execution_count": 41,
   "id": "7a3de41c",
   "metadata": {},
   "outputs": [
    {
     "name": "stdout",
     "output_type": "stream",
     "text": [
      "Project resources list after deleting one resource:\n"
     ]
    },
    {
     "data": {
      "text/html": [
       "<div>\n",
       "<style scoped>\n",
       "    .dataframe tbody tr th:only-of-type {\n",
       "        vertical-align: middle;\n",
       "    }\n",
       "\n",
       "    .dataframe tbody tr th {\n",
       "        vertical-align: top;\n",
       "    }\n",
       "\n",
       "    .dataframe thead th {\n",
       "        text-align: right;\n",
       "    }\n",
       "</style>\n",
       "<table border=\"1\" class=\"dataframe\">\n",
       "  <thead>\n",
       "    <tr style=\"text-align: right;\">\n",
       "      <th></th>\n",
       "      <th>id</th>\n",
       "      <th>project</th>\n",
       "      <th>name</th>\n",
       "      <th>description</th>\n",
       "      <th>cost</th>\n",
       "      <th>unit</th>\n",
       "      <th>category</th>\n",
       "    </tr>\n",
       "  </thead>\n",
       "  <tbody>\n",
       "    <tr>\n",
       "      <th>0</th>\n",
       "      <td>72</td>\n",
       "      <td>52</td>\n",
       "      <td>engineer</td>\n",
       "      <td>price in eur/hour</td>\n",
       "      <td>12.0</td>\n",
       "      <td>euro</td>\n",
       "      <td>human</td>\n",
       "    </tr>\n",
       "    <tr>\n",
       "      <th>1</th>\n",
       "      <td>73</td>\n",
       "      <td>52</td>\n",
       "      <td>technician</td>\n",
       "      <td>price in eur/hour</td>\n",
       "      <td>10.0</td>\n",
       "      <td>euro</td>\n",
       "      <td>human</td>\n",
       "    </tr>\n",
       "  </tbody>\n",
       "</table>\n",
       "</div>"
      ],
      "text/plain": [
       "   id  project        name        description  cost  unit category\n",
       "0  72       52    engineer  price in eur/hour  12.0  euro    human\n",
       "1  73       52  technician  price in eur/hour  10.0  euro    human"
      ]
     },
     "execution_count": 41,
     "metadata": {},
     "output_type": "execute_result"
    }
   ],
   "source": [
    "# get a list of resources\n",
    "route = project_resources_view.GetResourceListOfProjectAPI.name\n",
    "response = get_request(route=route, auth_token=token_pm, path_param=[project]).json()\n",
    "\n",
    "resource_list = response\n",
    "print('Project resources list after deleting one resource:')\n",
    "df = pd.json_normalize(response)\n",
    "df"
   ]
  },
  {
   "cell_type": "code",
   "execution_count": 42,
   "id": "5e48f9ff",
   "metadata": {},
   "outputs": [
    {
     "name": "stdout",
     "output_type": "stream",
     "text": [
      "Result: Project contracts permissions assigned\n",
      "HTTP status code:  201\n"
     ]
    }
   ],
   "source": [
    "# As 'an author of the project'\n",
    "# assign project procurement permissions to PM\n",
    "content = {\n",
    "    \"user_id\": pm,\n",
    "    \"project_id\": project,\n",
    "    \"permissions\": [\"add_project_contract\", \"delete_project_contract\", \"change_project_contract\", \"view_project_contract\"]    \n",
    "}\n",
    "route = project_procurements_view.AddProjectContractPermissionsOfUserAPI.name\n",
    "response = post_request(data=content, route=route, auth_token=token_pmo, type_json=True)\n",
    "if response.status_code == 201:\n",
    "    print(\"Result: Project contracts permissions assigned\")\n",
    "    print(\"HTTP status code: \", response.status_code)\n",
    "else: \n",
    "    print(\"Result: Permission assignment failed\")\n",
    "    print(\"HTTP status code: \", response.status_code)"
   ]
  },
  {
   "cell_type": "code",
   "execution_count": 43,
   "id": "242389f5",
   "metadata": {},
   "outputs": [
    {
     "name": "stdout",
     "output_type": "stream",
     "text": [
      "Result:  Contract added successfully.\n",
      "Project procurement contracts:\n"
     ]
    },
    {
     "data": {
      "text/html": [
       "<div>\n",
       "<style scoped>\n",
       "    .dataframe tbody tr th:only-of-type {\n",
       "        vertical-align: middle;\n",
       "    }\n",
       "\n",
       "    .dataframe tbody tr th {\n",
       "        vertical-align: top;\n",
       "    }\n",
       "\n",
       "    .dataframe thead th {\n",
       "        text-align: right;\n",
       "    }\n",
       "</style>\n",
       "<table border=\"1\" class=\"dataframe\">\n",
       "  <thead>\n",
       "    <tr style=\"text-align: right;\">\n",
       "      <th></th>\n",
       "      <th>id</th>\n",
       "      <th>project</th>\n",
       "      <th>product</th>\n",
       "      <th>description</th>\n",
       "      <th>unit_price</th>\n",
       "      <th>unit</th>\n",
       "      <th>assignment</th>\n",
       "      <th>supplier</th>\n",
       "      <th>date</th>\n",
       "    </tr>\n",
       "  </thead>\n",
       "  <tbody>\n",
       "    <tr>\n",
       "      <th>0</th>\n",
       "      <td>49</td>\n",
       "      <td>52</td>\n",
       "      <td>wood</td>\n",
       "      <td>wood in m^3</td>\n",
       "      <td>2.5</td>\n",
       "      <td>euro</td>\n",
       "      <td>100</td>\n",
       "      <td>New Wood MMC</td>\n",
       "      <td>2011-12-09</td>\n",
       "    </tr>\n",
       "    <tr>\n",
       "      <th>1</th>\n",
       "      <td>50</td>\n",
       "      <td>52</td>\n",
       "      <td>iron</td>\n",
       "      <td>iron materials</td>\n",
       "      <td>3.5</td>\n",
       "      <td>euro</td>\n",
       "      <td>220</td>\n",
       "      <td>Supplier company</td>\n",
       "      <td>2012-11-18</td>\n",
       "    </tr>\n",
       "  </tbody>\n",
       "</table>\n",
       "</div>"
      ],
      "text/plain": [
       "   id  project product     description  unit_price  unit  assignment  \\\n",
       "0  49       52    wood     wood in m^3         2.5  euro         100   \n",
       "1  50       52    iron  iron materials         3.5  euro         220   \n",
       "\n",
       "           supplier        date  \n",
       "0      New Wood MMC  2011-12-09  \n",
       "1  Supplier company  2012-11-18  "
      ]
     },
     "execution_count": 43,
     "metadata": {},
     "output_type": "execute_result"
    }
   ],
   "source": [
    "# Add new contracts to the project\n",
    "# contract 1\n",
    "contract = {\n",
    "    \"project\": project,\n",
    "    \"product\": \"wood\",\n",
    "    \"description\": \"wood in m^3\",\n",
    "    \"unit_price\": 2.50,\n",
    "    \"assignment\": 100,\n",
    "    \"supplier\": \"New Wood MMC\",\n",
    "    \"date\": \"2011-12-09\"\n",
    "}\n",
    "\n",
    "route = project_procurements_view.AddContractAPI.name\n",
    "response = post_request(data=contract, route=route, auth_token=token_pm, type_json=True).json()\n",
    "contracts = [response.get('contract')]\n",
    "\n",
    "# contract 2\n",
    "contract = {\n",
    "    \"project\": project,\n",
    "    \"product\": \"iron\",\n",
    "    \"description\": \"iron materials\",\n",
    "    \"unit_price\": 3.50,\n",
    "    \"assignment\": 220,\n",
    "    \"supplier\": \"Supplier company\",\n",
    "    \"date\": \"2012-11-18\"\n",
    "}\n",
    "\n",
    "route = project_procurements_view.AddContractAPI.name\n",
    "response = post_request(data=contract, route=route, auth_token=token_pm, type_json=True).json()\n",
    "result = response.get('detail')\n",
    "contracts.append(response.get('contract'))\n",
    "\n",
    "print(\"Result: \", result)\n",
    "print(\"Project procurement contracts:\")\n",
    "\n",
    "df = pd.json_normalize(contracts)\n",
    "df"
   ]
  },
  {
   "cell_type": "code",
   "execution_count": 44,
   "id": "fcc5e4d3",
   "metadata": {},
   "outputs": [
    {
     "name": "stdout",
     "output_type": "stream",
     "text": [
      "Result: Procurement Contract edited successfully\n",
      "HTTP status code:  200\n"
     ]
    }
   ],
   "source": [
    "# edit a project procurement contract\n",
    "# may have partial attributes\n",
    "contract_id = response.get('contract').get('id')\n",
    "contract = {    \n",
    "    \"product\": \"iron\",\n",
    "    \"description\": \"iron boards\",\n",
    "    \"unit_price\": 1.50,\n",
    "    \"assignment\": 310,\n",
    "    \"supplier\": \"Supplier company\",\n",
    "    \"date\": \"2012-12-09\"\n",
    "}\n",
    "route = project_procurements_view.UpdateContractAPI.name\n",
    "response = patch_request(data=contract, route=route, auth_token=token_pm, path_param=[contract_id], type_json=True)\n",
    "if response.status_code == 200:\n",
    "    print(\"Result: Procurement Contract edited successfully\")\n",
    "    print(\"HTTP status code: \", response.status_code)\n",
    "else: \n",
    "    print(\"Result: Update request failed\")\n",
    "    print(\"HTTP status code: \", response.status_code)\n",
    "    if \"detail\" in response.json():\n",
    "        print('detail: ', response.json().get('detail'))"
   ]
  },
  {
   "cell_type": "code",
   "execution_count": 45,
   "id": "ae41e280",
   "metadata": {},
   "outputs": [
    {
     "name": "stdout",
     "output_type": "stream",
     "text": [
      "Procurement contract after editing:\n"
     ]
    },
    {
     "data": {
      "text/html": [
       "<div>\n",
       "<style scoped>\n",
       "    .dataframe tbody tr th:only-of-type {\n",
       "        vertical-align: middle;\n",
       "    }\n",
       "\n",
       "    .dataframe tbody tr th {\n",
       "        vertical-align: top;\n",
       "    }\n",
       "\n",
       "    .dataframe thead th {\n",
       "        text-align: right;\n",
       "    }\n",
       "</style>\n",
       "<table border=\"1\" class=\"dataframe\">\n",
       "  <thead>\n",
       "    <tr style=\"text-align: right;\">\n",
       "      <th></th>\n",
       "      <th>id</th>\n",
       "      <th>project</th>\n",
       "      <th>product</th>\n",
       "      <th>description</th>\n",
       "      <th>unit_price</th>\n",
       "      <th>unit</th>\n",
       "      <th>assignment</th>\n",
       "      <th>supplier</th>\n",
       "      <th>date</th>\n",
       "    </tr>\n",
       "  </thead>\n",
       "  <tbody>\n",
       "    <tr>\n",
       "      <th>0</th>\n",
       "      <td>50</td>\n",
       "      <td>52</td>\n",
       "      <td>iron</td>\n",
       "      <td>iron boards</td>\n",
       "      <td>1.5</td>\n",
       "      <td>euro</td>\n",
       "      <td>310</td>\n",
       "      <td>Supplier company</td>\n",
       "      <td>2012-12-09</td>\n",
       "    </tr>\n",
       "  </tbody>\n",
       "</table>\n",
       "</div>"
      ],
      "text/plain": [
       "   id  project product  description  unit_price  unit  assignment  \\\n",
       "0  50       52    iron  iron boards         1.5  euro         310   \n",
       "\n",
       "           supplier        date  \n",
       "0  Supplier company  2012-12-09  "
      ]
     },
     "execution_count": 45,
     "metadata": {},
     "output_type": "execute_result"
    }
   ],
   "source": [
    "# get a single contract instance\n",
    "route = project_procurements_view.GetContractDetailsAPI.name\n",
    "response = get_request(route=route, auth_token=token_pm, path_param=[contract_id]).json()\n",
    "\n",
    "print('Procurement contract after editing:')\n",
    "df = pd.json_normalize(response)\n",
    "df"
   ]
  },
  {
   "cell_type": "code",
   "execution_count": 46,
   "id": "6aea3a0b",
   "metadata": {},
   "outputs": [
    {
     "name": "stdout",
     "output_type": "stream",
     "text": [
      "Result: Procurement contract deleted successfully\n",
      "HTTP status code:  204\n"
     ]
    }
   ],
   "source": [
    "# delete a project contract\n",
    "route = project_procurements_view.DeleteContractAPI.name\n",
    "response = delete_request(route=route, auth_token=token_pm, path_param=[contract_id])\n",
    "if response.status_code == 204:\n",
    "    print(\"Result: Procurement contract deleted successfully\")\n",
    "    print(\"HTTP status code: \", response.status_code)\n",
    "else: \n",
    "    print(\"Result: Delete request failed\")\n",
    "    print(\"HTTP status code: \", response.status_code)\n",
    "    if \"detail\" in response.json():\n",
    "        print('detail: ', response.json().get('detail'))"
   ]
  },
  {
   "cell_type": "code",
   "execution_count": 47,
   "id": "ac48d68e",
   "metadata": {},
   "outputs": [
    {
     "name": "stdout",
     "output_type": "stream",
     "text": [
      "Project procurement contracts list after deleting one contract:\n"
     ]
    },
    {
     "data": {
      "text/html": [
       "<div>\n",
       "<style scoped>\n",
       "    .dataframe tbody tr th:only-of-type {\n",
       "        vertical-align: middle;\n",
       "    }\n",
       "\n",
       "    .dataframe tbody tr th {\n",
       "        vertical-align: top;\n",
       "    }\n",
       "\n",
       "    .dataframe thead th {\n",
       "        text-align: right;\n",
       "    }\n",
       "</style>\n",
       "<table border=\"1\" class=\"dataframe\">\n",
       "  <thead>\n",
       "    <tr style=\"text-align: right;\">\n",
       "      <th></th>\n",
       "      <th>id</th>\n",
       "      <th>project</th>\n",
       "      <th>product</th>\n",
       "      <th>description</th>\n",
       "      <th>unit_price</th>\n",
       "      <th>unit</th>\n",
       "      <th>assignment</th>\n",
       "      <th>supplier</th>\n",
       "      <th>date</th>\n",
       "    </tr>\n",
       "  </thead>\n",
       "  <tbody>\n",
       "    <tr>\n",
       "      <th>0</th>\n",
       "      <td>49</td>\n",
       "      <td>52</td>\n",
       "      <td>wood</td>\n",
       "      <td>wood in m^3</td>\n",
       "      <td>2.5</td>\n",
       "      <td>euro</td>\n",
       "      <td>100</td>\n",
       "      <td>New Wood MMC</td>\n",
       "      <td>2011-12-09</td>\n",
       "    </tr>\n",
       "  </tbody>\n",
       "</table>\n",
       "</div>"
      ],
      "text/plain": [
       "   id  project product  description  unit_price  unit  assignment  \\\n",
       "0  49       52    wood  wood in m^3         2.5  euro         100   \n",
       "\n",
       "       supplier        date  \n",
       "0  New Wood MMC  2011-12-09  "
      ]
     },
     "execution_count": 47,
     "metadata": {},
     "output_type": "execute_result"
    }
   ],
   "source": [
    "# get a list of procurement contracts\n",
    "route = project_procurements_view.GetContractsOfProjectAPI.name\n",
    "response = get_request(route=route, auth_token=token_pm, path_param=[project]).json()\n",
    "\n",
    "contract_list = response\n",
    "print('Project procurement contracts list after deleting one contract:')\n",
    "df = pd.json_normalize(response)\n",
    "df"
   ]
  },
  {
   "cell_type": "code",
   "execution_count": 48,
   "id": "03be8b19",
   "metadata": {},
   "outputs": [
    {
     "data": {
      "text/html": [
       "<div>\n",
       "<style scoped>\n",
       "    .dataframe tbody tr th:only-of-type {\n",
       "        vertical-align: middle;\n",
       "    }\n",
       "\n",
       "    .dataframe tbody tr th {\n",
       "        vertical-align: top;\n",
       "    }\n",
       "\n",
       "    .dataframe thead th {\n",
       "        text-align: right;\n",
       "    }\n",
       "</style>\n",
       "<table border=\"1\" class=\"dataframe\">\n",
       "  <thead>\n",
       "    <tr style=\"text-align: right;\">\n",
       "      <th></th>\n",
       "      <th>id</th>\n",
       "      <th>project_charter</th>\n",
       "      <th>year</th>\n",
       "      <th>budget</th>\n",
       "    </tr>\n",
       "  </thead>\n",
       "  <tbody>\n",
       "    <tr>\n",
       "      <th>0</th>\n",
       "      <td>127</td>\n",
       "      <td>33</td>\n",
       "      <td>2021</td>\n",
       "      <td>25000.0</td>\n",
       "    </tr>\n",
       "    <tr>\n",
       "      <th>1</th>\n",
       "      <td>128</td>\n",
       "      <td>33</td>\n",
       "      <td>2022</td>\n",
       "      <td>125000.0</td>\n",
       "    </tr>\n",
       "    <tr>\n",
       "      <th>2</th>\n",
       "      <td>129</td>\n",
       "      <td>33</td>\n",
       "      <td>2023</td>\n",
       "      <td>325000.0</td>\n",
       "    </tr>\n",
       "  </tbody>\n",
       "</table>\n",
       "</div>"
      ],
      "text/plain": [
       "    id  project_charter  year    budget\n",
       "0  127               33  2021   25000.0\n",
       "1  128               33  2022  125000.0\n",
       "2  129               33  2023  325000.0"
      ]
     },
     "execution_count": 48,
     "metadata": {},
     "output_type": "execute_result"
    }
   ],
   "source": [
    "# Allocate project budget\n",
    "budget = [{\"year\": 2021, \"budget\": 25000}, {\"year\": 2022, \"budget\": 125000}, {\"year\": 2023, \"budget\": 325000}]\n",
    "\n",
    "route = project_budget_view.ProjectBudgetAPI.name\n",
    "response = post_request(data=budget, route=route, auth_token=token_pm, path_param=[project_charter], type_json=True).json()\n",
    "\n",
    "budget_list = response\n",
    "df = pd.DataFrame(budget_list)\n",
    "df"
   ]
  },
  {
   "cell_type": "code",
   "execution_count": 49,
   "id": "8c470acc",
   "metadata": {},
   "outputs": [
    {
     "name": "stdout",
     "output_type": "stream",
     "text": [
      "Result: Project budget edited successfully\n",
      "HTTP status code:  200\n"
     ]
    }
   ],
   "source": [
    "# edit a project budget\n",
    "# may have partial attributes\n",
    "budget_id = budget_list[0].get('id')\n",
    "budget = {    \n",
    "    \"year\": \"2017\",\n",
    "    \"budget\": 21000\n",
    "}\n",
    "route = project_budget_view.EditProjectBudgetAPI.name\n",
    "response = patch_request(data=budget, route=route, auth_token=token_pm, path_param=[budget_id], type_json=True)\n",
    "if response.status_code == 200:\n",
    "    print(\"Result: Project budget edited successfully\")\n",
    "    print(\"HTTP status code: \", response.status_code)\n",
    "else: \n",
    "    print(\"Result: Update request failed\")\n",
    "    print(\"HTTP status code: \", response.status_code)\n",
    "    if \"detail\" in response.json():\n",
    "        print('detail: ', response.json().get('detail'))"
   ]
  },
  {
   "cell_type": "code",
   "execution_count": 50,
   "id": "86ffc3f4",
   "metadata": {},
   "outputs": [
    {
     "name": "stdout",
     "output_type": "stream",
     "text": [
      "Project budget after editing:\n"
     ]
    },
    {
     "data": {
      "text/html": [
       "<div>\n",
       "<style scoped>\n",
       "    .dataframe tbody tr th:only-of-type {\n",
       "        vertical-align: middle;\n",
       "    }\n",
       "\n",
       "    .dataframe tbody tr th {\n",
       "        vertical-align: top;\n",
       "    }\n",
       "\n",
       "    .dataframe thead th {\n",
       "        text-align: right;\n",
       "    }\n",
       "</style>\n",
       "<table border=\"1\" class=\"dataframe\">\n",
       "  <thead>\n",
       "    <tr style=\"text-align: right;\">\n",
       "      <th></th>\n",
       "      <th>id</th>\n",
       "      <th>project_charter</th>\n",
       "      <th>year</th>\n",
       "      <th>budget</th>\n",
       "    </tr>\n",
       "  </thead>\n",
       "  <tbody>\n",
       "    <tr>\n",
       "      <th>0</th>\n",
       "      <td>127</td>\n",
       "      <td>33</td>\n",
       "      <td>2017</td>\n",
       "      <td>21000.0</td>\n",
       "    </tr>\n",
       "  </tbody>\n",
       "</table>\n",
       "</div>"
      ],
      "text/plain": [
       "    id  project_charter  year   budget\n",
       "0  127               33  2017  21000.0"
      ]
     },
     "execution_count": 50,
     "metadata": {},
     "output_type": "execute_result"
    }
   ],
   "source": [
    "# get details of a single budget instance\n",
    "route = project_budget_view.ProjectBudgetDetailsAPI.name\n",
    "response = get_request(route=route, auth_token=token_pm, path_param=[budget_id]).json()\n",
    "\n",
    "print('Project budget after editing:')\n",
    "df = pd.json_normalize(response)\n",
    "df"
   ]
  },
  {
   "cell_type": "code",
   "execution_count": 51,
   "id": "b9263913",
   "metadata": {},
   "outputs": [
    {
     "name": "stdout",
     "output_type": "stream",
     "text": [
      "Result: Project budget deleted successfully\n",
      "HTTP status code:  204\n"
     ]
    }
   ],
   "source": [
    "# delete a single budget instance\n",
    "route = project_budget_view.DeleteProjectBudgetAPI.name\n",
    "response = delete_request(route=route, auth_token=token_pm, path_param=[budget_id])\n",
    "if response.status_code == 204:\n",
    "    print(\"Result: Project budget deleted successfully\")\n",
    "    print(\"HTTP status code: \", response.status_code)\n",
    "else: \n",
    "    print(\"Result: Delete request failed\")\n",
    "    print(\"HTTP status code: \", response.status_code)\n",
    "    if \"detail\" in response.json():\n",
    "        print('detail: ', response.json().get('detail'))"
   ]
  },
  {
   "cell_type": "code",
   "execution_count": 52,
   "id": "187d6bda",
   "metadata": {},
   "outputs": [
    {
     "name": "stdout",
     "output_type": "stream",
     "text": [
      "Total Project budget:\n"
     ]
    },
    {
     "data": {
      "text/html": [
       "<div>\n",
       "<style scoped>\n",
       "    .dataframe tbody tr th:only-of-type {\n",
       "        vertical-align: middle;\n",
       "    }\n",
       "\n",
       "    .dataframe tbody tr th {\n",
       "        vertical-align: top;\n",
       "    }\n",
       "\n",
       "    .dataframe thead th {\n",
       "        text-align: right;\n",
       "    }\n",
       "</style>\n",
       "<table border=\"1\" class=\"dataframe\">\n",
       "  <thead>\n",
       "    <tr style=\"text-align: right;\">\n",
       "      <th></th>\n",
       "      <th>id</th>\n",
       "      <th>project_charter</th>\n",
       "      <th>year</th>\n",
       "      <th>budget</th>\n",
       "    </tr>\n",
       "  </thead>\n",
       "  <tbody>\n",
       "    <tr>\n",
       "      <th>0</th>\n",
       "      <td>128</td>\n",
       "      <td>33</td>\n",
       "      <td>2022</td>\n",
       "      <td>125000.0</td>\n",
       "    </tr>\n",
       "    <tr>\n",
       "      <th>1</th>\n",
       "      <td>129</td>\n",
       "      <td>33</td>\n",
       "      <td>2023</td>\n",
       "      <td>325000.0</td>\n",
       "    </tr>\n",
       "  </tbody>\n",
       "</table>\n",
       "</div>"
      ],
      "text/plain": [
       "    id  project_charter  year    budget\n",
       "0  128               33  2022  125000.0\n",
       "1  129               33  2023  325000.0"
      ]
     },
     "execution_count": 52,
     "metadata": {},
     "output_type": "execute_result"
    }
   ],
   "source": [
    "# get total project budget\n",
    "project_charter = budget_list[0].get('project_charter')\n",
    "route = project_budget_view.TotalProjectBudgetAPI.name\n",
    "response = get_request(route=route, auth_token=token_pm, path_param=[project_charter]).json()\n",
    "\n",
    "print('Total Project budget:')\n",
    "df = pd.json_normalize(response)\n",
    "df"
   ]
  },
  {
   "cell_type": "code",
   "execution_count": 53,
   "id": "8e6a1e61",
   "metadata": {},
   "outputs": [
    {
     "name": "stdout",
     "output_type": "stream",
     "text": [
      "Result: Total Project budget deleted successfully\n",
      "HTTP status code:  204\n"
     ]
    }
   ],
   "source": [
    "# delete total project budget\n",
    "project_charter = budget_list[0].get('project_charter')\n",
    "route = project_budget_view.DeleteTotalProjectBudgetAPI.name\n",
    "response = delete_request(route=route, auth_token=token_pm, path_param=[project_charter])\n",
    "if response.status_code == 204:\n",
    "    print(\"Result: Total Project budget deleted successfully\")\n",
    "    print(\"HTTP status code: \", response.status_code)\n",
    "else: \n",
    "    print(\"Result: Delete request failed\")\n",
    "    print(\"HTTP status code: \", response.status_code)\n",
    "    if \"detail\" in response.json():\n",
    "        print('detail: ', response.json().get('detail'))"
   ]
  },
  {
   "cell_type": "code",
   "execution_count": 54,
   "id": "cecc97dc",
   "metadata": {},
   "outputs": [
    {
     "data": {
      "image/png": "[encoded data removed]",
      "text/plain": [
       "<Figure size 432x288 with 1 Axes>"
      ]
     },
     "metadata": {
      "needs_background": "light"
     },
     "output_type": "display_data"
    }
   ],
   "source": [
    "# Allocate project budget\n",
    "budget = [{\"year\": 2021, \"budget\": 25000}, {\"year\": 2022, \"budget\": 125000}, {\"year\": 2023, \"budget\": 325000}]\n",
    "\n",
    "route = project_budget_view.ProjectBudgetAPI.name\n",
    "response = post_request(data=budget, route=route, auth_token=token_pm, path_param=[project_charter], type_json=True).json()\n",
    "\n",
    "budget_list = response\n",
    "years = []\n",
    "budgets = []\n",
    "for elem in response:\n",
    "    years.append(elem.get('year')) \n",
    "    budgets.append(elem.get('budget'))\n",
    "\n",
    "df = pd.DataFrame({'year': years, 'budget': budgets})\n",
    "ax = df.plot.bar(x='year', y='budget', rot=0)"
   ]
  },
  {
   "cell_type": "code",
   "execution_count": 55,
   "id": "d512e02e",
   "metadata": {},
   "outputs": [
    {
     "data": {
      "image/png": "[encoded data removed]",
      "text/plain": [
       "<Figure size 432x288 with 1 Axes>"
      ]
     },
     "metadata": {
      "needs_background": "light"
     },
     "output_type": "display_data"
    }
   ],
   "source": [
    "# Allocated budget\n",
    "route = project_view.ProjectDetailsAPI.name\n",
    "response = get_request(route=route, auth_token=token_pmo, path_param=[project]).json()\n",
    "budget = response.get('project_charter').get('project_budget')\n",
    "\n",
    "years = []\n",
    "budgets = []\n",
    "for elem in budget:\n",
    "    years.append(elem.get('year')) \n",
    "    budgets.append(elem.get('budget'))\n",
    "\n",
    "df = pd.DataFrame({'year': years, 'budget': budgets})\n",
    "ax = df.plot.bar(x='year', y='budget', rot=0)"
   ]
  },
  {
   "cell_type": "code",
   "execution_count": 56,
   "id": "10bace93",
   "metadata": {},
   "outputs": [
    {
     "name": "stdout",
     "output_type": "stream",
     "text": [
      "Result: Project spending operations permissions assigned\n",
      "HTTP status code:  201\n"
     ]
    }
   ],
   "source": [
    "# as an author of the project\n",
    "# assign project spending operations permissions to 'project manager'\n",
    "content = {\n",
    "    \"user_id\": pm,\n",
    "    \"project_id\": project,\n",
    "    \"permissions\": [\"add_project_spendings\", \"delete_project_spendings\", \"change_project_spendings\", \"view_project_spendings\"]  \n",
    "}\n",
    "route = project_budget_view.AddProjectBudgetPermissionsOfUserAPI.name\n",
    "response = post_request(data=content, route=route, auth_token=token_pmo, type_json=True)\n",
    "if response.status_code == 201:\n",
    "    print(\"Result: Project spending operations permissions assigned\")\n",
    "    print(\"HTTP status code: \", response.status_code)\n",
    "else: \n",
    "    print(\"Result: Permission assignment failed\")\n",
    "    print(\"HTTP status code: \", response.status_code)"
   ]
  },
  {
   "cell_type": "code",
   "execution_count": 57,
   "id": "6ddb47c1",
   "metadata": {},
   "outputs": [
    {
     "name": "stdout",
     "output_type": "stream",
     "text": [
      "Result: Project spending operations permissions assigned\n",
      "HTTP status code:  201\n"
     ]
    }
   ],
   "source": [
    "# As 'an author of the project'\n",
    "# assign project spending operations permissions to 'project controller'\n",
    "content = {\n",
    "    \"user_id\": pc,\n",
    "    \"project_id\": project,\n",
    "    \"permissions\": [\"add_project_spendings\", \"delete_project_spendings\", \"change_project_spendings\", \"view_project_spendings\"]  \n",
    "}\n",
    "route = project_budget_view.AddProjectBudgetPermissionsOfUserAPI.name\n",
    "response = post_request(data=content, route=route, auth_token=token_pmo, type_json=True)\n",
    "if response.status_code == 201:\n",
    "    print(\"Result: Project spending operations permissions assigned\")\n",
    "    print(\"HTTP status code: \", response.status_code)\n",
    "else: \n",
    "    print(\"Result: Permission assignment failed\")\n",
    "    print(\"HTTP status code: \", response.status_code)"
   ]
  },
  {
   "cell_type": "code",
   "execution_count": 58,
   "id": "3b82c000",
   "metadata": {},
   "outputs": [
    {
     "name": "stdout",
     "output_type": "stream",
     "text": [
      "Result:  Project resource added successfully.\n",
      "Resource spendings:\n"
     ]
    },
    {
     "data": {
      "text/html": [
       "<div>\n",
       "<style scoped>\n",
       "    .dataframe tbody tr th:only-of-type {\n",
       "        vertical-align: middle;\n",
       "    }\n",
       "\n",
       "    .dataframe tbody tr th {\n",
       "        vertical-align: top;\n",
       "    }\n",
       "\n",
       "    .dataframe thead th {\n",
       "        text-align: right;\n",
       "    }\n",
       "</style>\n",
       "<table border=\"1\" class=\"dataframe\">\n",
       "  <thead>\n",
       "    <tr style=\"text-align: right;\">\n",
       "      <th></th>\n",
       "      <th>id</th>\n",
       "      <th>project</th>\n",
       "      <th>resource</th>\n",
       "      <th>budget</th>\n",
       "      <th>assignment</th>\n",
       "      <th>amount</th>\n",
       "      <th>description</th>\n",
       "      <th>date</th>\n",
       "      <th>approval_status</th>\n",
       "    </tr>\n",
       "  </thead>\n",
       "  <tbody>\n",
       "    <tr>\n",
       "      <th>0</th>\n",
       "      <td>63</td>\n",
       "      <td>52</td>\n",
       "      <td>72</td>\n",
       "      <td>130</td>\n",
       "      <td>15</td>\n",
       "      <td>180.0</td>\n",
       "      <td>salary payment</td>\n",
       "      <td>2021-08-12</td>\n",
       "      <td>approved</td>\n",
       "    </tr>\n",
       "    <tr>\n",
       "      <th>1</th>\n",
       "      <td>64</td>\n",
       "      <td>52</td>\n",
       "      <td>73</td>\n",
       "      <td>130</td>\n",
       "      <td>24</td>\n",
       "      <td>240.0</td>\n",
       "      <td>salary payment</td>\n",
       "      <td>2021-07-13</td>\n",
       "      <td>approved</td>\n",
       "    </tr>\n",
       "    <tr>\n",
       "      <th>2</th>\n",
       "      <td>65</td>\n",
       "      <td>52</td>\n",
       "      <td>73</td>\n",
       "      <td>130</td>\n",
       "      <td>19</td>\n",
       "      <td>190.0</td>\n",
       "      <td>salary payment</td>\n",
       "      <td>2021-09-10</td>\n",
       "      <td>approved</td>\n",
       "    </tr>\n",
       "  </tbody>\n",
       "</table>\n",
       "</div>"
      ],
      "text/plain": [
       "   id  project  resource  budget  assignment  amount     description  \\\n",
       "0  63       52        72     130          15   180.0  salary payment   \n",
       "1  64       52        73     130          24   240.0  salary payment   \n",
       "2  65       52        73     130          19   190.0  salary payment   \n",
       "\n",
       "         date approval_status  \n",
       "0  2021-08-12        approved  \n",
       "1  2021-07-13        approved  \n",
       "2  2021-09-10        approved  "
      ]
     },
     "execution_count": 58,
     "metadata": {},
     "output_type": "execute_result"
    }
   ],
   "source": [
    "# As 'project controller'\n",
    "# add new resource spendings to the project\n",
    "# Spendings status is 'denied' when total spending is over budget \n",
    "#\n",
    "# resource spending 1\n",
    "resource_id = resource_list[0].get('id')\n",
    "budget_id = budget_list[0].get('id')\n",
    "spending = {\n",
    "    \"project\": project,\n",
    "    \"resource\": resource_id,\n",
    "    \"budget\": budget_id,\n",
    "    \"assignment\": 15,\n",
    "    \"description\": \"salary payment\",\n",
    "    \"date\": \"2021-08-12\"\n",
    "}\n",
    "route = project_budget_view.AddResourceSpendingAPI.name\n",
    "response = post_request(data=spending, route=route, auth_token=token_pc, type_json=True).json()\n",
    "resource_spendings = [response.get('resource-spending')]\n",
    "\n",
    "# resource spending 2\n",
    "resource_id = resource_list[1].get('id')\n",
    "budget_id = budget_list[0].get('id')\n",
    "spending = {\n",
    "    \"project\": project,\n",
    "    \"resource\": resource_id,\n",
    "    \"budget\": budget_id,\n",
    "    \"assignment\": 24,\n",
    "    \"description\": \"salary payment\",\n",
    "    \"date\": \"2021-07-13\"\n",
    "}\n",
    "route = project_budget_view.AddResourceSpendingAPI.name\n",
    "response = post_request(data=spending, route=route, auth_token=token_pc, type_json=True).json()\n",
    "resource_spendings.append(response.get('resource-spending'))\n",
    "\n",
    "# resource spending 3\n",
    "resource_id = resource_list[1].get('id')\n",
    "budget_id = budget_list[0].get('id')\n",
    "spending = {\n",
    "    \"project\": project,\n",
    "    \"resource\": resource_id,\n",
    "    \"budget\": budget_id,\n",
    "    \"assignment\": 19,\n",
    "    \"description\": \"salary payment\",\n",
    "    \"date\": \"2021-09-10\"\n",
    "}\n",
    "route = project_budget_view.AddResourceSpendingAPI.name\n",
    "response = post_request(data=spending, route=route, auth_token=token_pc, type_json=True).json()\n",
    "resource_spendings.append(response.get('resource-spending'))\n",
    "result = response.get('detail')\n",
    "\n",
    "print(\"Result: \", result)\n",
    "print(\"Resource spendings:\")\n",
    "\n",
    "\n",
    "df = pd.json_normalize(resource_spendings)\n",
    "df"
   ]
  },
  {
   "cell_type": "code",
   "execution_count": 59,
   "id": "96e54d6d",
   "metadata": {},
   "outputs": [
    {
     "name": "stdout",
     "output_type": "stream",
     "text": [
      "Result: Project resource spending edited successfully\n",
      "HTTP status code:  200\n"
     ]
    }
   ],
   "source": [
    "# As 'project controller'\n",
    "# edit a resource spending\n",
    "# may have partial attributes\n",
    "spending_id = resource_spendings[2].get('id')\n",
    "spending = {    \n",
    "    \"assignment\": 3,\n",
    "    \"description\": \"payment of september\",\n",
    "    \"date\": \"2021-09-12\"\n",
    "}\n",
    "route = project_budget_view.UpdateResourceSpendingAPI.name\n",
    "response = patch_request(data=spending, route=route, auth_token=token_pc, path_param=[spending_id], type_json=True)\n",
    "if response.status_code == 200:\n",
    "    print(\"Result: Project resource spending edited successfully\")\n",
    "    print(\"HTTP status code: \", response.status_code)\n",
    "else: \n",
    "    print(\"Result: Update request failed\")\n",
    "    print(\"HTTP status code: \", response.status_code)\n",
    "    if \"detail\" in response.json():\n",
    "        print('detail: ', response.json().get('detail'))"
   ]
  },
  {
   "cell_type": "code",
   "execution_count": 60,
   "id": "e2161385",
   "metadata": {},
   "outputs": [
    {
     "name": "stdout",
     "output_type": "stream",
     "text": [
      "Project resource spending after editing:\n"
     ]
    },
    {
     "data": {
      "text/html": [
       "<div>\n",
       "<style scoped>\n",
       "    .dataframe tbody tr th:only-of-type {\n",
       "        vertical-align: middle;\n",
       "    }\n",
       "\n",
       "    .dataframe tbody tr th {\n",
       "        vertical-align: top;\n",
       "    }\n",
       "\n",
       "    .dataframe thead th {\n",
       "        text-align: right;\n",
       "    }\n",
       "</style>\n",
       "<table border=\"1\" class=\"dataframe\">\n",
       "  <thead>\n",
       "    <tr style=\"text-align: right;\">\n",
       "      <th></th>\n",
       "      <th>id</th>\n",
       "      <th>project</th>\n",
       "      <th>resource</th>\n",
       "      <th>budget</th>\n",
       "      <th>assignment</th>\n",
       "      <th>amount</th>\n",
       "      <th>description</th>\n",
       "      <th>date</th>\n",
       "      <th>approval_status</th>\n",
       "    </tr>\n",
       "  </thead>\n",
       "  <tbody>\n",
       "    <tr>\n",
       "      <th>0</th>\n",
       "      <td>65</td>\n",
       "      <td>52</td>\n",
       "      <td>73</td>\n",
       "      <td>130</td>\n",
       "      <td>3</td>\n",
       "      <td>30.0</td>\n",
       "      <td>payment of september</td>\n",
       "      <td>2021-09-12</td>\n",
       "      <td>approved</td>\n",
       "    </tr>\n",
       "  </tbody>\n",
       "</table>\n",
       "</div>"
      ],
      "text/plain": [
       "   id  project  resource  budget  assignment  amount           description  \\\n",
       "0  65       52        73     130           3    30.0  payment of september   \n",
       "\n",
       "         date approval_status  \n",
       "0  2021-09-12        approved  "
      ]
     },
     "execution_count": 60,
     "metadata": {},
     "output_type": "execute_result"
    }
   ],
   "source": [
    "# As 'project conroller'\n",
    "# get details of a single resource spendings instance\n",
    "spending_id = resource_spendings[2].get('id')\n",
    "route = project_budget_view.GetResourceSpendingDetailsAPI.name\n",
    "response = get_request(route=route, auth_token=token_pc, path_param=[spending_id]).json()\n",
    "\n",
    "print('Project resource spending after editing:')\n",
    "df = pd.json_normalize(response)\n",
    "df"
   ]
  },
  {
   "cell_type": "code",
   "execution_count": 61,
   "id": "98462a00",
   "metadata": {},
   "outputs": [
    {
     "name": "stdout",
     "output_type": "stream",
     "text": [
      "Result: Resource spending deleted successfully\n",
      "HTTP status code:  204\n"
     ]
    }
   ],
   "source": [
    "# As 'project controller'\n",
    "# delete a single resource spendings instance\n",
    "spending_id = resource_spendings[2].get('id')\n",
    "route = project_budget_view.DeleteResourceSpendingAPI.name\n",
    "response = delete_request(route=route, auth_token=token_pc, path_param=[spending_id])\n",
    "if response.status_code == 204:\n",
    "    print(\"Result: Resource spending deleted successfully\")\n",
    "    print(\"HTTP status code: \", response.status_code)\n",
    "else: \n",
    "    print(\"Result: Delete request failed\")\n",
    "    print(\"HTTP status code: \", response.status_code)\n",
    "    if \"detail\" in response.json():\n",
    "        print('detail: ', response.json().get('detail'))"
   ]
  },
  {
   "cell_type": "code",
   "execution_count": 62,
   "id": "60d1d085",
   "metadata": {},
   "outputs": [
    {
     "name": "stdout",
     "output_type": "stream",
     "text": [
      "Project resource spendings by budget:\n"
     ]
    },
    {
     "data": {
      "text/html": [
       "<div>\n",
       "<style scoped>\n",
       "    .dataframe tbody tr th:only-of-type {\n",
       "        vertical-align: middle;\n",
       "    }\n",
       "\n",
       "    .dataframe tbody tr th {\n",
       "        vertical-align: top;\n",
       "    }\n",
       "\n",
       "    .dataframe thead th {\n",
       "        text-align: right;\n",
       "    }\n",
       "</style>\n",
       "<table border=\"1\" class=\"dataframe\">\n",
       "  <thead>\n",
       "    <tr style=\"text-align: right;\">\n",
       "      <th></th>\n",
       "      <th>id</th>\n",
       "      <th>project</th>\n",
       "      <th>resource</th>\n",
       "      <th>budget</th>\n",
       "      <th>assignment</th>\n",
       "      <th>amount</th>\n",
       "      <th>description</th>\n",
       "      <th>date</th>\n",
       "      <th>approval_status</th>\n",
       "    </tr>\n",
       "  </thead>\n",
       "  <tbody>\n",
       "    <tr>\n",
       "      <th>0</th>\n",
       "      <td>63</td>\n",
       "      <td>52</td>\n",
       "      <td>72</td>\n",
       "      <td>130</td>\n",
       "      <td>15</td>\n",
       "      <td>180.0</td>\n",
       "      <td>salary payment</td>\n",
       "      <td>2021-08-12</td>\n",
       "      <td>approved</td>\n",
       "    </tr>\n",
       "    <tr>\n",
       "      <th>1</th>\n",
       "      <td>64</td>\n",
       "      <td>52</td>\n",
       "      <td>73</td>\n",
       "      <td>130</td>\n",
       "      <td>24</td>\n",
       "      <td>240.0</td>\n",
       "      <td>salary payment</td>\n",
       "      <td>2021-07-13</td>\n",
       "      <td>approved</td>\n",
       "    </tr>\n",
       "  </tbody>\n",
       "</table>\n",
       "</div>"
      ],
      "text/plain": [
       "   id  project  resource  budget  assignment  amount     description  \\\n",
       "0  63       52        72     130          15   180.0  salary payment   \n",
       "1  64       52        73     130          24   240.0  salary payment   \n",
       "\n",
       "         date approval_status  \n",
       "0  2021-08-12        approved  \n",
       "1  2021-07-13        approved  "
      ]
     },
     "execution_count": 62,
     "metadata": {},
     "output_type": "execute_result"
    }
   ],
   "source": [
    "# As 'project controller'\n",
    "# get project resource spendings by budget\n",
    "budget_id = budget_list[0].get('id')\n",
    "route = project_budget_view.GetResourceSpendingsByBudgetAPI.name\n",
    "response = get_request(route=route, auth_token=token_pc, path_param=[budget_id]).json()\n",
    "\n",
    "print('Project resource spendings by budget:')\n",
    "df = pd.json_normalize(response)\n",
    "df"
   ]
  },
  {
   "cell_type": "code",
   "execution_count": 63,
   "id": "b3fff71a",
   "metadata": {},
   "outputs": [
    {
     "name": "stdout",
     "output_type": "stream",
     "text": [
      "Result:  Procurement contract added successfully.\n",
      "Contract spendings:\n"
     ]
    },
    {
     "data": {
      "text/html": [
       "<div>\n",
       "<style scoped>\n",
       "    .dataframe tbody tr th:only-of-type {\n",
       "        vertical-align: middle;\n",
       "    }\n",
       "\n",
       "    .dataframe tbody tr th {\n",
       "        vertical-align: top;\n",
       "    }\n",
       "\n",
       "    .dataframe thead th {\n",
       "        text-align: right;\n",
       "    }\n",
       "</style>\n",
       "<table border=\"1\" class=\"dataframe\">\n",
       "  <thead>\n",
       "    <tr style=\"text-align: right;\">\n",
       "      <th></th>\n",
       "      <th>id</th>\n",
       "      <th>project</th>\n",
       "      <th>contract</th>\n",
       "      <th>budget</th>\n",
       "      <th>amount</th>\n",
       "      <th>description</th>\n",
       "      <th>date</th>\n",
       "      <th>approval_status</th>\n",
       "    </tr>\n",
       "  </thead>\n",
       "  <tbody>\n",
       "    <tr>\n",
       "      <th>0</th>\n",
       "      <td>38</td>\n",
       "      <td>52</td>\n",
       "      <td>49</td>\n",
       "      <td>131</td>\n",
       "      <td>250.0</td>\n",
       "      <td>payment of procurement</td>\n",
       "      <td>2022-05-11</td>\n",
       "      <td>approved</td>\n",
       "    </tr>\n",
       "    <tr>\n",
       "      <th>1</th>\n",
       "      <td>39</td>\n",
       "      <td>52</td>\n",
       "      <td>49</td>\n",
       "      <td>131</td>\n",
       "      <td>250.0</td>\n",
       "      <td>payment of procurement</td>\n",
       "      <td>2022-03-14</td>\n",
       "      <td>approved</td>\n",
       "    </tr>\n",
       "    <tr>\n",
       "      <th>2</th>\n",
       "      <td>40</td>\n",
       "      <td>52</td>\n",
       "      <td>49</td>\n",
       "      <td>131</td>\n",
       "      <td>250.0</td>\n",
       "      <td>payment of procurement</td>\n",
       "      <td>2022-07-13</td>\n",
       "      <td>approved</td>\n",
       "    </tr>\n",
       "  </tbody>\n",
       "</table>\n",
       "</div>"
      ],
      "text/plain": [
       "   id  project  contract  budget  amount             description        date  \\\n",
       "0  38       52        49     131   250.0  payment of procurement  2022-05-11   \n",
       "1  39       52        49     131   250.0  payment of procurement  2022-03-14   \n",
       "2  40       52        49     131   250.0  payment of procurement  2022-07-13   \n",
       "\n",
       "  approval_status  \n",
       "0        approved  \n",
       "1        approved  \n",
       "2        approved  "
      ]
     },
     "execution_count": 63,
     "metadata": {},
     "output_type": "execute_result"
    }
   ],
   "source": [
    "# As 'project controller'\n",
    "# add new procurement spendings to the project\n",
    "# Spendings status is 'denied' when total spending is over budget \n",
    "#\n",
    "# add to a budget different from resource spending \n",
    "budget_id = budget_list[1].get('id')\n",
    "# procurement spending 1\n",
    "spending = {\n",
    "    \"project\": project,\n",
    "    \"contract\": contract_list[0].get('id'),\n",
    "    \"budget\": budget_id,\n",
    "    \"description\": \"payment of procurement\",\n",
    "    \"date\": \"2022-05-11\"\n",
    "}\n",
    "route = project_budget_view.AddContractSpendingAPI.name\n",
    "response = post_request(data=spending, route=route, auth_token=token_pc, type_json=True).json()\n",
    "contract_spendings = [response.get('contract-spending')]\n",
    "\n",
    "# procurement spending 2\n",
    "spending = {\n",
    "    \"project\": project,\n",
    "    \"contract\": contract_list[0].get('id'),\n",
    "    \"budget\": budget_id,\n",
    "    \"description\": \"payment of procurement\",\n",
    "    \"date\": \"2022-03-14\"\n",
    "}\n",
    "route = project_budget_view.AddContractSpendingAPI.name\n",
    "response = post_request(data=spending, route=route, auth_token=token_pc, type_json=True).json()\n",
    "contract_spendings.append(response.get('contract-spending'))\n",
    "\n",
    "# procurement spending 3\n",
    "spending = {\n",
    "    \"project\": project,\n",
    "    \"contract\": contract_list[0].get('id'),\n",
    "    \"budget\": budget_id,\n",
    "    \"description\": \"payment of procurement\",\n",
    "    \"date\": \"2022-07-13\"\n",
    "}\n",
    "route = project_budget_view.AddContractSpendingAPI.name\n",
    "response = post_request(data=spending, route=route, auth_token=token_pc, type_json=True).json()\n",
    "contract_spendings.append(response.get('contract-spending'))\n",
    "result = response.get('detail')\n",
    "\n",
    "print(\"Result: \", result)\n",
    "print(\"Contract spendings:\")\n",
    "\n",
    "\n",
    "df = pd.json_normalize(contract_spendings)\n",
    "df"
   ]
  },
  {
   "cell_type": "code",
   "execution_count": 64,
   "id": "4b143c33",
   "metadata": {},
   "outputs": [
    {
     "name": "stdout",
     "output_type": "stream",
     "text": [
      "Result: Project procurement spending edited successfully\n",
      "HTTP status code:  200\n"
     ]
    }
   ],
   "source": [
    "# As 'project controller'\n",
    "# edit a procurement spending\n",
    "# may have partial attributes\n",
    "spending_id = contract_spendings[2].get('id')\n",
    "spending = {    \n",
    "    \"description\": \"some information here\",\n",
    "    \"date\": \"2022-08-12\"\n",
    "}\n",
    "route = project_budget_view.UpdateContractSpendingAPI.name\n",
    "response = patch_request(data=spending, route=route, auth_token=token_pc, path_param=[spending_id], type_json=True)\n",
    "if response.status_code == 200:\n",
    "    print(\"Result: Project procurement spending edited successfully\")\n",
    "    print(\"HTTP status code: \", response.status_code)\n",
    "else: \n",
    "    print(\"Result: Update request failed\")\n",
    "    print(\"HTTP status code: \", response.status_code)\n",
    "    if \"detail\" in response.json():\n",
    "        print('detail: ', response.json().get('detail'))"
   ]
  },
  {
   "cell_type": "code",
   "execution_count": 65,
   "id": "9bc25ade",
   "metadata": {},
   "outputs": [
    {
     "name": "stdout",
     "output_type": "stream",
     "text": [
      "Project procurement spending after editing:\n"
     ]
    },
    {
     "data": {
      "text/html": [
       "<div>\n",
       "<style scoped>\n",
       "    .dataframe tbody tr th:only-of-type {\n",
       "        vertical-align: middle;\n",
       "    }\n",
       "\n",
       "    .dataframe tbody tr th {\n",
       "        vertical-align: top;\n",
       "    }\n",
       "\n",
       "    .dataframe thead th {\n",
       "        text-align: right;\n",
       "    }\n",
       "</style>\n",
       "<table border=\"1\" class=\"dataframe\">\n",
       "  <thead>\n",
       "    <tr style=\"text-align: right;\">\n",
       "      <th></th>\n",
       "      <th>id</th>\n",
       "      <th>project</th>\n",
       "      <th>contract</th>\n",
       "      <th>budget</th>\n",
       "      <th>amount</th>\n",
       "      <th>description</th>\n",
       "      <th>date</th>\n",
       "      <th>approval_status</th>\n",
       "    </tr>\n",
       "  </thead>\n",
       "  <tbody>\n",
       "    <tr>\n",
       "      <th>0</th>\n",
       "      <td>40</td>\n",
       "      <td>52</td>\n",
       "      <td>49</td>\n",
       "      <td>131</td>\n",
       "      <td>250.0</td>\n",
       "      <td>some information here</td>\n",
       "      <td>2022-08-12</td>\n",
       "      <td>approved</td>\n",
       "    </tr>\n",
       "  </tbody>\n",
       "</table>\n",
       "</div>"
      ],
      "text/plain": [
       "   id  project  contract  budget  amount            description        date  \\\n",
       "0  40       52        49     131   250.0  some information here  2022-08-12   \n",
       "\n",
       "  approval_status  \n",
       "0        approved  "
      ]
     },
     "execution_count": 65,
     "metadata": {},
     "output_type": "execute_result"
    }
   ],
   "source": [
    "# As 'project controller'\n",
    "# get details of a single procurement spendings instance\n",
    "spending_id = contract_spendings[2].get('id')\n",
    "route = project_budget_view.GetContractSpendingDetailsAPI.name\n",
    "response = get_request(route=route, auth_token=token_pc, path_param=[spending_id]).json()\n",
    "\n",
    "print('Project procurement spending after editing:')\n",
    "df = pd.json_normalize(response)\n",
    "df"
   ]
  },
  {
   "cell_type": "code",
   "execution_count": 66,
   "id": "f8a46fef",
   "metadata": {},
   "outputs": [
    {
     "name": "stdout",
     "output_type": "stream",
     "text": [
      "Result: Procurement spending deleted successfully\n",
      "HTTP status code:  204\n"
     ]
    }
   ],
   "source": [
    "# As 'project controller'\n",
    "# delete a single procurement spendings instance\n",
    "spending_id = contract_spendings[2].get('id')\n",
    "route = project_budget_view.DeleteContractSpendingAPI.name\n",
    "response = delete_request(route=route, auth_token=token_pc, path_param=[spending_id])\n",
    "if response.status_code == 204:\n",
    "    print(\"Result: Procurement spending deleted successfully\")\n",
    "    print(\"HTTP status code: \", response.status_code)\n",
    "else: \n",
    "    print(\"Result: Delete request failed\")\n",
    "    print(\"HTTP status code: \", response.status_code)\n",
    "    if \"detail\" in response.json():\n",
    "        print('detail: ', response.json().get('detail'))"
   ]
  },
  {
   "cell_type": "code",
   "execution_count": 67,
   "id": "fc1b7212",
   "metadata": {},
   "outputs": [
    {
     "name": "stdout",
     "output_type": "stream",
     "text": [
      "Project procurement spendings by budget:\n"
     ]
    },
    {
     "data": {
      "text/html": [
       "<div>\n",
       "<style scoped>\n",
       "    .dataframe tbody tr th:only-of-type {\n",
       "        vertical-align: middle;\n",
       "    }\n",
       "\n",
       "    .dataframe tbody tr th {\n",
       "        vertical-align: top;\n",
       "    }\n",
       "\n",
       "    .dataframe thead th {\n",
       "        text-align: right;\n",
       "    }\n",
       "</style>\n",
       "<table border=\"1\" class=\"dataframe\">\n",
       "  <thead>\n",
       "    <tr style=\"text-align: right;\">\n",
       "      <th></th>\n",
       "      <th>id</th>\n",
       "      <th>project</th>\n",
       "      <th>contract</th>\n",
       "      <th>budget</th>\n",
       "      <th>amount</th>\n",
       "      <th>description</th>\n",
       "      <th>date</th>\n",
       "      <th>approval_status</th>\n",
       "    </tr>\n",
       "  </thead>\n",
       "  <tbody>\n",
       "    <tr>\n",
       "      <th>0</th>\n",
       "      <td>38</td>\n",
       "      <td>52</td>\n",
       "      <td>49</td>\n",
       "      <td>131</td>\n",
       "      <td>250.0</td>\n",
       "      <td>payment of procurement</td>\n",
       "      <td>2022-05-11</td>\n",
       "      <td>approved</td>\n",
       "    </tr>\n",
       "    <tr>\n",
       "      <th>1</th>\n",
       "      <td>39</td>\n",
       "      <td>52</td>\n",
       "      <td>49</td>\n",
       "      <td>131</td>\n",
       "      <td>250.0</td>\n",
       "      <td>payment of procurement</td>\n",
       "      <td>2022-03-14</td>\n",
       "      <td>approved</td>\n",
       "    </tr>\n",
       "  </tbody>\n",
       "</table>\n",
       "</div>"
      ],
      "text/plain": [
       "   id  project  contract  budget  amount             description        date  \\\n",
       "0  38       52        49     131   250.0  payment of procurement  2022-05-11   \n",
       "1  39       52        49     131   250.0  payment of procurement  2022-03-14   \n",
       "\n",
       "  approval_status  \n",
       "0        approved  \n",
       "1        approved  "
      ]
     },
     "execution_count": 67,
     "metadata": {},
     "output_type": "execute_result"
    }
   ],
   "source": [
    "# As 'project controller'\n",
    "# get project procurement spendings by budget\n",
    "budget_id = budget_list[1].get('id')\n",
    "route = project_budget_view.GetContractSpendingsByBudgetAPI.name\n",
    "response = get_request(route=route, auth_token=token_pc, path_param=[budget_id]).json()\n",
    "\n",
    "print('Project procurement spendings by budget:')\n",
    "df = pd.json_normalize(response)\n",
    "df"
   ]
  },
  {
   "cell_type": "code",
   "execution_count": 68,
   "id": "84bef68b",
   "metadata": {},
   "outputs": [
    {
     "name": "stdout",
     "output_type": "stream",
     "text": [
      "Current spendings of a budget year:\n"
     ]
    },
    {
     "data": {
      "text/html": [
       "<div>\n",
       "<style scoped>\n",
       "    .dataframe tbody tr th:only-of-type {\n",
       "        vertical-align: middle;\n",
       "    }\n",
       "\n",
       "    .dataframe tbody tr th {\n",
       "        vertical-align: top;\n",
       "    }\n",
       "\n",
       "    .dataframe thead th {\n",
       "        text-align: right;\n",
       "    }\n",
       "</style>\n",
       "<table border=\"1\" class=\"dataframe\">\n",
       "  <thead>\n",
       "    <tr style=\"text-align: right;\">\n",
       "      <th></th>\n",
       "      <th>year</th>\n",
       "      <th>budget</th>\n",
       "      <th>actual_cost</th>\n",
       "      <th>resource_spendings</th>\n",
       "      <th>contract_spendings</th>\n",
       "    </tr>\n",
       "  </thead>\n",
       "  <tbody>\n",
       "    <tr>\n",
       "      <th>0</th>\n",
       "      <td>2021</td>\n",
       "      <td>25000.0</td>\n",
       "      <td>420.0</td>\n",
       "      <td>420.0</td>\n",
       "      <td>0.0</td>\n",
       "    </tr>\n",
       "  </tbody>\n",
       "</table>\n",
       "</div>"
      ],
      "text/plain": [
       "   year   budget  actual_cost  resource_spendings  contract_spendings\n",
       "0  2021  25000.0        420.0               420.0                 0.0"
      ]
     },
     "execution_count": 68,
     "metadata": {},
     "output_type": "execute_result"
    }
   ],
   "source": [
    "# As 'project management office'\n",
    "# get actual cost of a budget\n",
    "# all current spendings of a budget year\n",
    "budget_id = budget_list[0].get('id')\n",
    "route = project_budget_view.GetActualCostOfProjectByBudgetAPI.name\n",
    "response = get_request(route=route, auth_token=token_pmo, path_param=[budget_id]).json()\n",
    "\n",
    "print('Current spendings of a budget year:')\n",
    "df = pd.json_normalize(response)\n",
    "df"
   ]
  },
  {
   "cell_type": "code",
   "execution_count": 69,
   "id": "299e4c1a",
   "metadata": {},
   "outputs": [
    {
     "name": "stdout",
     "output_type": "stream",
     "text": [
      "Current spendings of whole project:\n"
     ]
    },
    {
     "data": {
      "text/html": [
       "<div>\n",
       "<style scoped>\n",
       "    .dataframe tbody tr th:only-of-type {\n",
       "        vertical-align: middle;\n",
       "    }\n",
       "\n",
       "    .dataframe tbody tr th {\n",
       "        vertical-align: top;\n",
       "    }\n",
       "\n",
       "    .dataframe thead th {\n",
       "        text-align: right;\n",
       "    }\n",
       "</style>\n",
       "<table border=\"1\" class=\"dataframe\">\n",
       "  <thead>\n",
       "    <tr style=\"text-align: right;\">\n",
       "      <th></th>\n",
       "      <th>actual_cost</th>\n",
       "      <th>resource_spendings</th>\n",
       "      <th>contract_spendings</th>\n",
       "    </tr>\n",
       "  </thead>\n",
       "  <tbody>\n",
       "    <tr>\n",
       "      <th>0</th>\n",
       "      <td>920.0</td>\n",
       "      <td>420.0</td>\n",
       "      <td>500.0</td>\n",
       "    </tr>\n",
       "  </tbody>\n",
       "</table>\n",
       "</div>"
      ],
      "text/plain": [
       "   actual_cost  resource_spendings  contract_spendings\n",
       "0        920.0               420.0               500.0"
      ]
     },
     "execution_count": 69,
     "metadata": {},
     "output_type": "execute_result"
    }
   ],
   "source": [
    "# As 'project management office'\n",
    "# get actual cost of entire project\n",
    "# all current spendings of whole project\n",
    "route = project_view.GetActualCostOfProjectAPI.name\n",
    "response = get_request(route=route, auth_token=token_pmo, path_param=[project]).json()\n",
    "\n",
    "print('Current spendings of whole project:')\n",
    "df = pd.json_normalize(response)\n",
    "df"
   ]
  },
  {
   "cell_type": "code",
   "execution_count": 70,
   "id": "e536a16f",
   "metadata": {},
   "outputs": [
    {
     "name": "stdout",
     "output_type": "stream",
     "text": [
      "Forecast Balance for 8 days:\n"
     ]
    },
    {
     "data": {
      "text/html": [
       "<div>\n",
       "<style scoped>\n",
       "    .dataframe tbody tr th:only-of-type {\n",
       "        vertical-align: middle;\n",
       "    }\n",
       "\n",
       "    .dataframe tbody tr th {\n",
       "        vertical-align: top;\n",
       "    }\n",
       "\n",
       "    .dataframe thead th {\n",
       "        text-align: right;\n",
       "    }\n",
       "</style>\n",
       "<table border=\"1\" class=\"dataframe\">\n",
       "  <thead>\n",
       "    <tr style=\"text-align: right;\">\n",
       "      <th></th>\n",
       "      <th>Parameters</th>\n",
       "      <th>Values</th>\n",
       "    </tr>\n",
       "  </thead>\n",
       "  <tbody>\n",
       "    <tr>\n",
       "      <th>0</th>\n",
       "      <td>estimate_to_complete</td>\n",
       "      <td>[800.0, 1244.4444444444443, 2400.0, 3200.0, 3619.047619047619, 3428.5714285714284, 3623.5294117647063, 4670.27027027027]</td>\n",
       "    </tr>\n",
       "    <tr>\n",
       "      <th>1</th>\n",
       "      <td>estimate_at_complete</td>\n",
       "      <td>[1600.0, 2844.4444444444443, 4800.0, 6400.0, 7619.047619047618, 8228.571428571428, 9223.529411764706, 11070.27027027027]</td>\n",
       "    </tr>\n",
       "  </tbody>\n",
       "</table>\n",
       "</div>"
      ],
      "text/plain": [
       "             Parameters  \\\n",
       "0  estimate_to_complete   \n",
       "1  estimate_at_complete   \n",
       "\n",
       "                                                                                                                     Values  \n",
       "0  [800.0, 1244.4444444444443, 2400.0, 3200.0, 3619.047619047619, 3428.5714285714284, 3623.5294117647063, 4670.27027027027]  \n",
       "1  [1600.0, 2844.4444444444443, 4800.0, 6400.0, 7619.047619047618, 8228.571428571428, 9223.529411764706, 11070.27027027027]  "
      ]
     },
     "execution_count": 70,
     "metadata": {},
     "output_type": "execute_result"
    }
   ],
   "source": [
    "# As 'project manager'\n",
    "# get forecast balance of a project budget\n",
    "budget_id = budget_list[0].get('id')\n",
    "data = {\n",
    "    \"total_scheduled_tasks\": 64,\n",
    "    \"task_duration\": 8,\n",
    "    \"employee_cost_day\": 800,\n",
    "    \"actual_activity\": [4, 5, 3, 4, 5, 7, 6, 3]\n",
    "}\n",
    "route = project_budget_view.ForecastBalanceAPI.name\n",
    "response = post_request(data=data, route=route, auth_token=token_pm, path_param=[budget_id], type_json=True).json()\n",
    "\n",
    "print(\"Forecast Balance for\", data.get(\"task_duration\"), \"days:\")\n",
    "df = pd.DataFrame.from_dict(response.items())\n",
    "df.columns = ['Parameters', 'Values']\n",
    "pd.options.display.max_colwidth = 130\n",
    "df"
   ]
  },
  {
   "cell_type": "code",
   "execution_count": 71,
   "id": "61542da3",
   "metadata": {},
   "outputs": [
    {
     "name": "stdout",
     "output_type": "stream",
     "text": [
      "Forecasting Results for 8 days:\n"
     ]
    },
    {
     "data": {
      "text/html": [
       "<div>\n",
       "<style scoped>\n",
       "    .dataframe tbody tr th:only-of-type {\n",
       "        vertical-align: middle;\n",
       "    }\n",
       "\n",
       "    .dataframe tbody tr th {\n",
       "        vertical-align: top;\n",
       "    }\n",
       "\n",
       "    .dataframe thead th {\n",
       "        text-align: right;\n",
       "    }\n",
       "</style>\n",
       "<table border=\"1\" class=\"dataframe\">\n",
       "  <thead>\n",
       "    <tr style=\"text-align: right;\">\n",
       "      <th></th>\n",
       "      <th>Parameters</th>\n",
       "      <th>Values</th>\n",
       "    </tr>\n",
       "  </thead>\n",
       "  <tbody>\n",
       "    <tr>\n",
       "      <th>0</th>\n",
       "      <td>planned_work_percentage</td>\n",
       "      <td>[0.125, 0.25, 0.375, 0.5, 0.625, 0.75, 0.875, 1.0]</td>\n",
       "    </tr>\n",
       "    <tr>\n",
       "      <th>1</th>\n",
       "      <td>budget_work</td>\n",
       "      <td>[8, 16, 24, 32, 40, 48, 56, 64]</td>\n",
       "    </tr>\n",
       "    <tr>\n",
       "      <th>2</th>\n",
       "      <td>actual_work_percentage</td>\n",
       "      <td>[0.0625, 0.140625, 0.1875, 0.25, 0.328125, 0.4375, 0.53125, 0.578125]</td>\n",
       "    </tr>\n",
       "    <tr>\n",
       "      <th>3</th>\n",
       "      <td>budgeted_cost_of_work_scheduled</td>\n",
       "      <td>[800.0, 1600.0, 2400.0, 3200.0, 4000.0, 4800.0, 5600.0, 6400.0]</td>\n",
       "    </tr>\n",
       "    <tr>\n",
       "      <th>4</th>\n",
       "      <td>actual_cost_of_work_performed</td>\n",
       "      <td>[800.0, 1600.0, 2400.0, 3200.0, 4000.0, 4800.0, 5600.0, 6400.0]</td>\n",
       "    </tr>\n",
       "    <tr>\n",
       "      <th>5</th>\n",
       "      <td>budgeted_cost_of_work_performed</td>\n",
       "      <td>[400.0, 900.0, 1200.0, 1600.0, 2100.0, 2800.0, 3400.0, 3700.0]</td>\n",
       "    </tr>\n",
       "    <tr>\n",
       "      <th>6</th>\n",
       "      <td>earned_value</td>\n",
       "      <td>[400.0, 900.0, 1200.0, 1600.0, 2100.0, 2800.0, 3400.0, 3700.0]</td>\n",
       "    </tr>\n",
       "    <tr>\n",
       "      <th>7</th>\n",
       "      <td>schedule_performance_index</td>\n",
       "      <td>[0.5, 0.5625, 0.5, 0.5, 0.525, 0.5833333333333334, 0.6071428571428571, 0.578125]</td>\n",
       "    </tr>\n",
       "    <tr>\n",
       "      <th>8</th>\n",
       "      <td>schedule_variance</td>\n",
       "      <td>[-400.0, -700.0, -1200.0, -1600.0, -1900.0, -2000.0, -2200.0, -2700.0]</td>\n",
       "    </tr>\n",
       "    <tr>\n",
       "      <th>9</th>\n",
       "      <td>schedule_variance_percentage</td>\n",
       "      <td>[-0.5, -0.4375, -0.5, -0.5, -0.475, -0.4166666666666667, -0.39285714285714285, -0.421875]</td>\n",
       "    </tr>\n",
       "    <tr>\n",
       "      <th>10</th>\n",
       "      <td>cost_variance</td>\n",
       "      <td>[-400.0, -700.0, -1200.0, -1600.0, -1900.0, -2000.0, -2200.0, -2700.0]</td>\n",
       "    </tr>\n",
       "    <tr>\n",
       "      <th>11</th>\n",
       "      <td>cost_performance_index</td>\n",
       "      <td>[0.5, 0.5625, 0.5, 0.5, 0.525, 0.5833333333333334, 0.6071428571428571, 0.578125]</td>\n",
       "    </tr>\n",
       "    <tr>\n",
       "      <th>12</th>\n",
       "      <td>cost_variance_percentage</td>\n",
       "      <td>[-1.0, -0.7777777777777778, -1.0, -1.0, -0.9047619047619048, -0.7142857142857143, -0.6470588235294118, -0.7297297297297297]</td>\n",
       "    </tr>\n",
       "    <tr>\n",
       "      <th>13</th>\n",
       "      <td>estimate_to_complete</td>\n",
       "      <td>[800.0, 1244.4444444444443, 2400.0, 3200.0, 3619.047619047619, 3428.5714285714284, 3623.5294117647063, 4670.27027027027]</td>\n",
       "    </tr>\n",
       "    <tr>\n",
       "      <th>14</th>\n",
       "      <td>estimate_at_complete</td>\n",
       "      <td>[1600.0, 2844.4444444444443, 4800.0, 6400.0, 7619.047619047618, 8228.571428571428, 9223.529411764706, 11070.27027027027]</td>\n",
       "    </tr>\n",
       "    <tr>\n",
       "      <th>15</th>\n",
       "      <td>cost_variance_at_completion</td>\n",
       "      <td>[-800.0, -1244.4444444444443, -2400.0, -3200.0, -3619.0476190476184, -3428.5714285714275, -3623.5294117647063, -4670.27027027027]</td>\n",
       "    </tr>\n",
       "    <tr>\n",
       "      <th>16</th>\n",
       "      <td>time_variance</td>\n",
       "      <td>[-4.0, -7.0, -12.0, -16.0, -19.0, -20.0, -22.0, -27.0]</td>\n",
       "    </tr>\n",
       "    <tr>\n",
       "      <th>17</th>\n",
       "      <td>time_variance_percentage</td>\n",
       "      <td>[-0.04, -0.07, -0.12, -0.16, -0.19, -0.2, -0.22, -0.27]</td>\n",
       "    </tr>\n",
       "    <tr>\n",
       "      <th>18</th>\n",
       "      <td>earned_schedule</td>\n",
       "      <td>[4.0, 9.0, 12.0, 16.0, 21.0, 28.0, 34.0, 37.0]</td>\n",
       "    </tr>\n",
       "    <tr>\n",
       "      <th>19</th>\n",
       "      <td>time_performance_index</td>\n",
       "      <td>[0.5, 0.5625, 0.5, 0.5, 0.525, 0.5833333333333334, 0.6071428571428571, 0.578125]</td>\n",
       "    </tr>\n",
       "    <tr>\n",
       "      <th>20</th>\n",
       "      <td>estimated_accomplishment_rate</td>\n",
       "      <td>[50.0, 56.25, 50.0, 50.0, 52.5, 58.333333333333336, 60.714285714285715, 57.8125]</td>\n",
       "    </tr>\n",
       "    <tr>\n",
       "      <th>21</th>\n",
       "      <td>time_estimate_at_completion</td>\n",
       "      <td>[16.0, 28.444444444444443, 48.0, 64.0, 76.19047619047619, 82.28571428571428, 92.23529411764706, 110.70270270270271]</td>\n",
       "    </tr>\n",
       "    <tr>\n",
       "      <th>22</th>\n",
       "      <td>time_variance_at_completion</td>\n",
       "      <td>[8.0, 12.444444444444443, 24.0, 32.0, 36.19047619047619, 34.28571428571428, 36.23529411764706, 46.70270270270271]</td>\n",
       "    </tr>\n",
       "  </tbody>\n",
       "</table>\n",
       "</div>"
      ],
      "text/plain": [
       "                         Parameters  \\\n",
       "0           planned_work_percentage   \n",
       "1                       budget_work   \n",
       "2            actual_work_percentage   \n",
       "3   budgeted_cost_of_work_scheduled   \n",
       "4     actual_cost_of_work_performed   \n",
       "5   budgeted_cost_of_work_performed   \n",
       "6                      earned_value   \n",
       "7        schedule_performance_index   \n",
       "8                 schedule_variance   \n",
       "9      schedule_variance_percentage   \n",
       "10                    cost_variance   \n",
       "11           cost_performance_index   \n",
       "12         cost_variance_percentage   \n",
       "13             estimate_to_complete   \n",
       "14             estimate_at_complete   \n",
       "15      cost_variance_at_completion   \n",
       "16                    time_variance   \n",
       "17         time_variance_percentage   \n",
       "18                  earned_schedule   \n",
       "19           time_performance_index   \n",
       "20    estimated_accomplishment_rate   \n",
       "21      time_estimate_at_completion   \n",
       "22      time_variance_at_completion   \n",
       "\n",
       "                                                                                                                               Values  \n",
       "0                                                                                  [0.125, 0.25, 0.375, 0.5, 0.625, 0.75, 0.875, 1.0]  \n",
       "1                                                                                                     [8, 16, 24, 32, 40, 48, 56, 64]  \n",
       "2                                                               [0.0625, 0.140625, 0.1875, 0.25, 0.328125, 0.4375, 0.53125, 0.578125]  \n",
       "3                                                                     [800.0, 1600.0, 2400.0, 3200.0, 4000.0, 4800.0, 5600.0, 6400.0]  \n",
       "4                                                                     [800.0, 1600.0, 2400.0, 3200.0, 4000.0, 4800.0, 5600.0, 6400.0]  \n",
       "5                                                                      [400.0, 900.0, 1200.0, 1600.0, 2100.0, 2800.0, 3400.0, 3700.0]  \n",
       "6                                                                      [400.0, 900.0, 1200.0, 1600.0, 2100.0, 2800.0, 3400.0, 3700.0]  \n",
       "7                                                    [0.5, 0.5625, 0.5, 0.5, 0.525, 0.5833333333333334, 0.6071428571428571, 0.578125]  \n",
       "8                                                              [-400.0, -700.0, -1200.0, -1600.0, -1900.0, -2000.0, -2200.0, -2700.0]  \n",
       "9                                           [-0.5, -0.4375, -0.5, -0.5, -0.475, -0.4166666666666667, -0.39285714285714285, -0.421875]  \n",
       "10                                                             [-400.0, -700.0, -1200.0, -1600.0, -1900.0, -2000.0, -2200.0, -2700.0]  \n",
       "11                                                   [0.5, 0.5625, 0.5, 0.5, 0.525, 0.5833333333333334, 0.6071428571428571, 0.578125]  \n",
       "12        [-1.0, -0.7777777777777778, -1.0, -1.0, -0.9047619047619048, -0.7142857142857143, -0.6470588235294118, -0.7297297297297297]  \n",
       "13           [800.0, 1244.4444444444443, 2400.0, 3200.0, 3619.047619047619, 3428.5714285714284, 3623.5294117647063, 4670.27027027027]  \n",
       "14           [1600.0, 2844.4444444444443, 4800.0, 6400.0, 7619.047619047618, 8228.571428571428, 9223.529411764706, 11070.27027027027]  \n",
       "15  [-800.0, -1244.4444444444443, -2400.0, -3200.0, -3619.0476190476184, -3428.5714285714275, -3623.5294117647063, -4670.27027027027]  \n",
       "16                                                                             [-4.0, -7.0, -12.0, -16.0, -19.0, -20.0, -22.0, -27.0]  \n",
       "17                                                                            [-0.04, -0.07, -0.12, -0.16, -0.19, -0.2, -0.22, -0.27]  \n",
       "18                                                                                     [4.0, 9.0, 12.0, 16.0, 21.0, 28.0, 34.0, 37.0]  \n",
       "19                                                   [0.5, 0.5625, 0.5, 0.5, 0.525, 0.5833333333333334, 0.6071428571428571, 0.578125]  \n",
       "20                                                   [50.0, 56.25, 50.0, 50.0, 52.5, 58.333333333333336, 60.714285714285715, 57.8125]  \n",
       "21                [16.0, 28.444444444444443, 48.0, 64.0, 76.19047619047619, 82.28571428571428, 92.23529411764706, 110.70270270270271]  \n",
       "22                  [8.0, 12.444444444444443, 24.0, 32.0, 36.19047619047619, 34.28571428571428, 36.23529411764706, 46.70270270270271]  "
      ]
     },
     "execution_count": 71,
     "metadata": {},
     "output_type": "execute_result"
    }
   ],
   "source": [
    "# As 'project manager'\n",
    "# forecast future spendings of a project due to budget\n",
    "budget_id = budget_list[0].get('id')\n",
    "data = {\n",
    "    \"total_scheduled_tasks\": 64,\n",
    "    \"task_duration\": 8,\n",
    "    \"employee_cost_day\": 800,\n",
    "    \"actual_activity\": [4, 5, 3, 4, 5, 7, 6, 3]\n",
    "}\n",
    "route = project_budget_view.ForecastFutureSpendingsAPI.name\n",
    "response = post_request(data=data, route=route, auth_token=token_pm, path_param=[budget_id], type_json=True).json()\n",
    "\n",
    "print(\"Forecasting Results for\", data.get(\"task_duration\"), \"days:\")\n",
    "df = pd.DataFrame.from_dict(response.items())\n",
    "df.columns = ['Parameters', 'Values']\n",
    "pd.options.display.max_colwidth = 130\n",
    "df"
   ]
  },
  {
   "cell_type": "code",
   "execution_count": 72,
   "id": "3192baa3",
   "metadata": {},
   "outputs": [
    {
     "name": "stdout",
     "output_type": "stream",
     "text": [
      "Project:\n"
     ]
    },
    {
     "data": {
      "text/html": [
       "<div>\n",
       "<style scoped>\n",
       "    .dataframe tbody tr th:only-of-type {\n",
       "        vertical-align: middle;\n",
       "    }\n",
       "\n",
       "    .dataframe tbody tr th {\n",
       "        vertical-align: top;\n",
       "    }\n",
       "\n",
       "    .dataframe thead th {\n",
       "        text-align: right;\n",
       "    }\n",
       "</style>\n",
       "<table border=\"1\" class=\"dataframe\">\n",
       "  <thead>\n",
       "    <tr style=\"text-align: right;\">\n",
       "      <th></th>\n",
       "      <th>id</th>\n",
       "      <th>project_name</th>\n",
       "      <th>created</th>\n",
       "    </tr>\n",
       "  </thead>\n",
       "  <tbody>\n",
       "    <tr>\n",
       "      <th>0</th>\n",
       "      <td>52</td>\n",
       "      <td>Thesis project</td>\n",
       "      <td>2022-06-05 14:49:19</td>\n",
       "    </tr>\n",
       "  </tbody>\n",
       "</table>\n",
       "</div>"
      ],
      "text/plain": [
       "   id    project_name             created\n",
       "0  52  Thesis project 2022-06-05 14:49:19"
      ]
     },
     "metadata": {},
     "output_type": "display_data"
    },
    {
     "name": "stdout",
     "output_type": "stream",
     "text": [
      "Author of project:\n"
     ]
    },
    {
     "data": {
      "text/html": [
       "<div>\n",
       "<style scoped>\n",
       "    .dataframe tbody tr th:only-of-type {\n",
       "        vertical-align: middle;\n",
       "    }\n",
       "\n",
       "    .dataframe tbody tr th {\n",
       "        vertical-align: top;\n",
       "    }\n",
       "\n",
       "    .dataframe thead th {\n",
       "        text-align: right;\n",
       "    }\n",
       "</style>\n",
       "<table border=\"1\" class=\"dataframe\">\n",
       "  <thead>\n",
       "    <tr style=\"text-align: right;\">\n",
       "      <th></th>\n",
       "      <th>id</th>\n",
       "      <th>first_name</th>\n",
       "      <th>last_name</th>\n",
       "      <th>email</th>\n",
       "      <th>user_role</th>\n",
       "    </tr>\n",
       "  </thead>\n",
       "  <tbody>\n",
       "    <tr>\n",
       "      <th>0</th>\n",
       "      <td>36</td>\n",
       "      <td>Luca</td>\n",
       "      <td>Verdi</td>\n",
       "      <td>pmo@email.com</td>\n",
       "      <td>PMO</td>\n",
       "    </tr>\n",
       "  </tbody>\n",
       "</table>\n",
       "</div>"
      ],
      "text/plain": [
       "   id first_name last_name          email user_role\n",
       "0  36       Luca     Verdi  pmo@email.com       PMO"
      ]
     },
     "metadata": {},
     "output_type": "display_data"
    },
    {
     "name": "stdout",
     "output_type": "stream",
     "text": [
      "Stakeholders of project:\n"
     ]
    },
    {
     "data": {
      "text/html": [
       "<div>\n",
       "<style scoped>\n",
       "    .dataframe tbody tr th:only-of-type {\n",
       "        vertical-align: middle;\n",
       "    }\n",
       "\n",
       "    .dataframe tbody tr th {\n",
       "        vertical-align: top;\n",
       "    }\n",
       "\n",
       "    .dataframe thead th {\n",
       "        text-align: right;\n",
       "    }\n",
       "</style>\n",
       "<table border=\"1\" class=\"dataframe\">\n",
       "  <thead>\n",
       "    <tr style=\"text-align: right;\">\n",
       "      <th></th>\n",
       "      <th>id</th>\n",
       "      <th>first_name</th>\n",
       "      <th>last_name</th>\n",
       "      <th>email</th>\n",
       "      <th>user_role</th>\n",
       "    </tr>\n",
       "  </thead>\n",
       "  <tbody>\n",
       "    <tr>\n",
       "      <th>0</th>\n",
       "      <td>36</td>\n",
       "      <td>Luca</td>\n",
       "      <td>Verdi</td>\n",
       "      <td>pmo@email.com</td>\n",
       "      <td>PMO</td>\n",
       "    </tr>\n",
       "    <tr>\n",
       "      <th>1</th>\n",
       "      <td>37</td>\n",
       "      <td>Lucas</td>\n",
       "      <td>Andos</td>\n",
       "      <td>pm@email.com</td>\n",
       "      <td>PM</td>\n",
       "    </tr>\n",
       "    <tr>\n",
       "      <th>2</th>\n",
       "      <td>39</td>\n",
       "      <td>Maria</td>\n",
       "      <td>Lilla</td>\n",
       "      <td>pc@email.com</td>\n",
       "      <td>PC</td>\n",
       "    </tr>\n",
       "  </tbody>\n",
       "</table>\n",
       "</div>"
      ],
      "text/plain": [
       "   id first_name last_name          email user_role\n",
       "0  36       Luca     Verdi  pmo@email.com       PMO\n",
       "1  37      Lucas     Andos   pm@email.com        PM\n",
       "2  39      Maria     Lilla   pc@email.com        PC"
      ]
     },
     "metadata": {},
     "output_type": "display_data"
    },
    {
     "name": "stdout",
     "output_type": "stream",
     "text": [
      "Project charter:\n"
     ]
    },
    {
     "data": {
      "text/html": [
       "<div>\n",
       "<style scoped>\n",
       "    .dataframe tbody tr th:only-of-type {\n",
       "        vertical-align: middle;\n",
       "    }\n",
       "\n",
       "    .dataframe tbody tr th {\n",
       "        vertical-align: top;\n",
       "    }\n",
       "\n",
       "    .dataframe thead th {\n",
       "        text-align: right;\n",
       "    }\n",
       "</style>\n",
       "<table border=\"1\" class=\"dataframe\">\n",
       "  <thead>\n",
       "    <tr style=\"text-align: right;\">\n",
       "      <th></th>\n",
       "      <th>id</th>\n",
       "      <th>project</th>\n",
       "      <th>author</th>\n",
       "      <th>created</th>\n",
       "      <th>last_updated</th>\n",
       "      <th>sow</th>\n",
       "      <th>contract</th>\n",
       "      <th>business_case</th>\n",
       "    </tr>\n",
       "  </thead>\n",
       "  <tbody>\n",
       "    <tr>\n",
       "      <th>0</th>\n",
       "      <td>33</td>\n",
       "      <td>52</td>\n",
       "      <td>37</td>\n",
       "      <td>2022-06-05 14:50:13</td>\n",
       "      <td>2022-06-05 14:50:15</td>\n",
       "      <td>standard thesis outline</td>\n",
       "      <td>Guida Studente DIGEP per la tesi</td>\n",
       "      <td>Research Case Digital PM</td>\n",
       "    </tr>\n",
       "  </tbody>\n",
       "</table>\n",
       "</div>"
      ],
      "text/plain": [
       "   id  project  author             created        last_updated  \\\n",
       "0  33       52      37 2022-06-05 14:50:13 2022-06-05 14:50:15   \n",
       "\n",
       "                       sow                          contract  \\\n",
       "0  standard thesis outline  Guida Studente DIGEP per la tesi   \n",
       "\n",
       "              business_case  \n",
       "0  Research Case Digital PM  "
      ]
     },
     "metadata": {},
     "output_type": "display_data"
    },
    {
     "name": "stdout",
     "output_type": "stream",
     "text": [
      "Business case SWOT:\n"
     ]
    },
    {
     "data": {
      "text/html": [
       "<div>\n",
       "<style scoped>\n",
       "    .dataframe tbody tr th:only-of-type {\n",
       "        vertical-align: middle;\n",
       "    }\n",
       "\n",
       "    .dataframe tbody tr th {\n",
       "        vertical-align: top;\n",
       "    }\n",
       "\n",
       "    .dataframe thead th {\n",
       "        text-align: right;\n",
       "    }\n",
       "</style>\n",
       "<table border=\"1\" class=\"dataframe\">\n",
       "  <thead>\n",
       "    <tr style=\"text-align: right;\">\n",
       "      <th></th>\n",
       "      <th>id</th>\n",
       "      <th>project_charter</th>\n",
       "      <th>swot_type</th>\n",
       "      <th>content</th>\n",
       "    </tr>\n",
       "  </thead>\n",
       "  <tbody>\n",
       "    <tr>\n",
       "      <th>0</th>\n",
       "      <td>107</td>\n",
       "      <td>33</td>\n",
       "      <td>opportunity</td>\n",
       "      <td>Very small legacy in PIMS</td>\n",
       "    </tr>\n",
       "    <tr>\n",
       "      <th>1</th>\n",
       "      <td>108</td>\n",
       "      <td>33</td>\n",
       "      <td>opportunity</td>\n",
       "      <td>A standard for PM exists</td>\n",
       "    </tr>\n",
       "    <tr>\n",
       "      <th>2</th>\n",
       "      <td>109</td>\n",
       "      <td>33</td>\n",
       "      <td>weakness</td>\n",
       "      <td>Front ends must be custom built according to corporate paractices and back end constraints</td>\n",
       "    </tr>\n",
       "  </tbody>\n",
       "</table>\n",
       "</div>"
      ],
      "text/plain": [
       "    id  project_charter    swot_type  \\\n",
       "0  107               33  opportunity   \n",
       "1  108               33  opportunity   \n",
       "2  109               33     weakness   \n",
       "\n",
       "                                                                                      content  \n",
       "0                                                                   Very small legacy in PIMS  \n",
       "1                                                                    A standard for PM exists  \n",
       "2  Front ends must be custom built according to corporate paractices and back end constraints  "
      ]
     },
     "metadata": {},
     "output_type": "display_data"
    },
    {
     "name": "stdout",
     "output_type": "stream",
     "text": [
      "Project budget:\n"
     ]
    },
    {
     "data": {
      "text/html": [
       "<div>\n",
       "<style scoped>\n",
       "    .dataframe tbody tr th:only-of-type {\n",
       "        vertical-align: middle;\n",
       "    }\n",
       "\n",
       "    .dataframe tbody tr th {\n",
       "        vertical-align: top;\n",
       "    }\n",
       "\n",
       "    .dataframe thead th {\n",
       "        text-align: right;\n",
       "    }\n",
       "</style>\n",
       "<table border=\"1\" class=\"dataframe\">\n",
       "  <thead>\n",
       "    <tr style=\"text-align: right;\">\n",
       "      <th></th>\n",
       "      <th>id</th>\n",
       "      <th>project_charter</th>\n",
       "      <th>year</th>\n",
       "      <th>budget</th>\n",
       "    </tr>\n",
       "  </thead>\n",
       "  <tbody>\n",
       "    <tr>\n",
       "      <th>0</th>\n",
       "      <td>130</td>\n",
       "      <td>33</td>\n",
       "      <td>2021</td>\n",
       "      <td>25000.0</td>\n",
       "    </tr>\n",
       "    <tr>\n",
       "      <th>1</th>\n",
       "      <td>131</td>\n",
       "      <td>33</td>\n",
       "      <td>2022</td>\n",
       "      <td>125000.0</td>\n",
       "    </tr>\n",
       "    <tr>\n",
       "      <th>2</th>\n",
       "      <td>132</td>\n",
       "      <td>33</td>\n",
       "      <td>2023</td>\n",
       "      <td>325000.0</td>\n",
       "    </tr>\n",
       "  </tbody>\n",
       "</table>\n",
       "</div>"
      ],
      "text/plain": [
       "    id  project_charter  year    budget\n",
       "0  130               33  2021   25000.0\n",
       "1  131               33  2022  125000.0\n",
       "2  132               33  2023  325000.0"
      ]
     },
     "metadata": {},
     "output_type": "display_data"
    }
   ],
   "source": [
    "# As 'project management office'\n",
    "# get entire project\n",
    "route = project_view.ProjectDetailsAPI.name\n",
    "response = get_request(route=route, auth_token=token_pmo, path_param=[project_id]).json()\n",
    "author = response.get('author')\n",
    "stakeholders = response.get('stakeholders')\n",
    "project_charter = response.get('project_charter')\n",
    "bus_case_swot = project_charter.get('bus_case_swot')\n",
    "project_budget = project_charter.get('project_budget')\n",
    "project_charter.pop('bus_case_swot')\n",
    "project_charter.pop('project_budget')\n",
    "response.pop('author')\n",
    "response.pop('stakeholders')\n",
    "response.pop('project_charter')\n",
    "response[\"created\"] = datetime.strptime(response.get(\"created\"), '%Y-%m-%dT%H:%M:%S.%fZ').replace(microsecond=0)\n",
    "project_charter[\"created\"] = datetime.strptime(project_charter.get(\"created\"), '%Y-%m-%dT%H:%M:%S.%fZ').replace(microsecond=0)\n",
    "project_charter[\"last_updated\"] = datetime.strptime(project_charter.get(\"last_updated\"), \n",
    "                                                    '%Y-%m-%dT%H:%M:%S.%fZ').replace(microsecond=0)\n",
    "\n",
    "print(\"Project:\")\n",
    "display(pd.json_normalize(response))\n",
    "print(\"Author of project:\")\n",
    "display(pd.json_normalize(author))\n",
    "print(\"Stakeholders of project:\")\n",
    "display(pd.json_normalize(stakeholders))\n",
    "print(\"Project charter:\")\n",
    "display(pd.json_normalize(project_charter))\n",
    "print(\"Business case SWOT:\")\n",
    "display(pd.json_normalize(bus_case_swot))\n",
    "print(\"Project budget:\")\n",
    "display(pd.json_normalize(project_budget))"
   ]
  },
  {
   "cell_type": "code",
   "execution_count": 73,
   "id": "15ae67fc",
   "metadata": {},
   "outputs": [
    {
     "name": "stdout",
     "output_type": "stream",
     "text": [
      "Result: Project charter deleted successfully\n",
      "HTTP status code:  204\n"
     ]
    }
   ],
   "source": [
    "# As 'project manager'\n",
    "# delete a project charter\n",
    "route = project_charter_view.DeleteProjectCharterAPI.name\n",
    "response = delete_request(route=route, auth_token=token_pm, path_param=[project_charter_id])\n",
    "if response.status_code == 204:\n",
    "    print(\"Result: Project charter deleted successfully\")\n",
    "    print(\"HTTP status code: \", response.status_code)\n",
    "else: \n",
    "    print(\"Result: Delete request failed\")\n",
    "    print(\"HTTP status code: \", response.status_code)\n",
    "    if \"detail\" in response.json():\n",
    "        print('detail: ', response.json().get('detail'))"
   ]
  },
  {
   "cell_type": "code",
   "execution_count": 74,
   "id": "b369757e",
   "metadata": {},
   "outputs": [
    {
     "name": "stdout",
     "output_type": "stream",
     "text": [
      "Result: Project deleted successfully\n",
      "HTTP status code:  204\n"
     ]
    }
   ],
   "source": [
    "# As 'project management office' and 'author of a project'\n",
    "# delete an entire project\n",
    "route = project_view.DeleteProjectAPI.name\n",
    "response = delete_request(route=route, auth_token=token_pmo, path_param=[project])\n",
    "if response.status_code == 204:\n",
    "    print(\"Result: Project deleted successfully\")\n",
    "    print(\"HTTP status code: \", response.status_code)\n",
    "else: \n",
    "    print(\"Result: Delete request failed\")\n",
    "    print(\"HTTP status code: \", response.status_code)\n",
    "    if \"detail\" in response.json():\n",
    "        print('detail: ', response.json().get('detail'))"
   ]
  }
 ],
 "metadata": {
  "kernelspec": {
   "display_name": "Python 3 (ipykernel)",
   "language": "python",
   "name": "python3"
  },
  "language_info": {
   "codemirror_mode": {
    "name": "ipython",
    "version": 3
   },
   "file_extension": ".py",
   "mimetype": "text/x-python",
   "name": "python",
   "nbconvert_exporter": "python",
   "pygments_lexer": "ipython3",
   "version": "3.10.2"
  }
 },
 "nbformat": 4,
 "nbformat_minor": 5
}
