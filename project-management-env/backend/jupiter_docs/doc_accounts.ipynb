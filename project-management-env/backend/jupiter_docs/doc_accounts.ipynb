{
 "cells": [
  {
   "cell_type": "code",
   "execution_count": 1,
   "id": "4a9930b6",
   "metadata": {},
   "outputs": [],
   "source": [
    "# setup django project in jupiter\n",
    "from django_for_jupyter import init_django\n",
    "init_django(\"dpm_env\")"
   ]
  },
  {
   "cell_type": "code",
   "execution_count": 2,
   "id": "28435819",
   "metadata": {},
   "outputs": [],
   "source": [
    "# libraries\n",
    "import requests as req\n",
    "from django.urls import reverse\n",
    "import json\n",
    "from accounts.models import User\n",
    "from accounts import views as account_view\n",
    "import pandas as pd\n",
    "import matplotlib.pyplot as plt\n",
    "from IPython.display import display"
   ]
  },
  {
   "cell_type": "code",
   "execution_count": 3,
   "id": "8ae8804e",
   "metadata": {},
   "outputs": [],
   "source": [
    "# some methods for http requests\n",
    "base_url = \"http://localhost:8000\"\n",
    "\n",
    "def post_request(data, route, auth_token=None, path_param=None, type_json=False):\n",
    "    headers = {}\n",
    "    if path_param:\n",
    "        path = reverse(route, None, path_param)\n",
    "    else:\n",
    "        path = reverse(route)\n",
    "    if type_json:\n",
    "        headers = dict(headers, **{'Content-Type': 'application/json'})\n",
    "    if auth_token:\n",
    "        headers = dict(headers, **{'Authorization': f'token {auth_token}'})\n",
    "    data = json.dumps(data)\n",
    "    url = base_url + path\n",
    "    \n",
    "    return req.post(url, headers=headers, data=data)\n",
    "\n",
    "\n",
    "def patch_request(data, route, auth_token=None, path_param=None, type_json=False):\n",
    "    headers = {}\n",
    "    if path_param:\n",
    "        path = reverse(route, None, path_param)\n",
    "    else:\n",
    "        path = reverse(route)\n",
    "    if type_json:\n",
    "        headers = dict(headers, **{'Content-Type': 'application/json'})\n",
    "    if auth_token:\n",
    "        headers = dict(headers, **{'Authorization': f'token {auth_token}'})\n",
    "    data = json.dumps(data)\n",
    "    url = base_url + path\n",
    "    \n",
    "    return req.patch(url, data=data, headers=headers)\n",
    "\n",
    "\n",
    "def get_request(route, auth_token=None, path_param=None):\n",
    "    headers = {}\n",
    "    if path_param:\n",
    "        path = reverse(route, None, path_param)\n",
    "    else:\n",
    "        path = reverse(route)\n",
    "    if auth_token:\n",
    "        headers = {'Authorization': f'token {auth_token}'}\n",
    "    url = base_url + path\n",
    "    \n",
    "    return req.get(url, headers=headers)"
   ]
  },
  {
   "cell_type": "code",
   "execution_count": 4,
   "id": "eb4e842c",
   "metadata": {},
   "outputs": [
    {
     "name": "stdout",
     "output_type": "stream",
     "text": [
      "Result:  User resgistered succesfully!\n",
      "Authorization token:  10b4cc67f14ce6ca1334480cff9272dd95e4824f1a6abbe91d8520cefa0a5455\n",
      "User: \n"
     ]
    },
    {
     "data": {
      "text/html": [
       "<div>\n",
       "<style scoped>\n",
       "    .dataframe tbody tr th:only-of-type {\n",
       "        vertical-align: middle;\n",
       "    }\n",
       "\n",
       "    .dataframe tbody tr th {\n",
       "        vertical-align: top;\n",
       "    }\n",
       "\n",
       "    .dataframe thead th {\n",
       "        text-align: right;\n",
       "    }\n",
       "</style>\n",
       "<table border=\"1\" class=\"dataframe\">\n",
       "  <thead>\n",
       "    <tr style=\"text-align: right;\">\n",
       "      <th></th>\n",
       "      <th>id</th>\n",
       "      <th>first_name</th>\n",
       "      <th>last_name</th>\n",
       "      <th>email</th>\n",
       "      <th>user_role</th>\n",
       "      <th>is_active</th>\n",
       "    </tr>\n",
       "  </thead>\n",
       "  <tbody>\n",
       "    <tr>\n",
       "      <th>0</th>\n",
       "      <td>36</td>\n",
       "      <td>Luca</td>\n",
       "      <td>Verdi</td>\n",
       "      <td>pmo@email.com</td>\n",
       "      <td>U</td>\n",
       "      <td>True</td>\n",
       "    </tr>\n",
       "  </tbody>\n",
       "</table>\n",
       "</div>"
      ],
      "text/plain": [
       "   id first_name last_name          email user_role  is_active\n",
       "0  36       Luca     Verdi  pmo@email.com         U       True"
      ]
     },
     "execution_count": 4,
     "metadata": {},
     "output_type": "execute_result"
    }
   ],
   "source": [
    "# Register user 'project management office'\n",
    "user_pmo = {\n",
    "    \"first_name\": \"Luca\",\n",
    "    \"last_name\": \"Verdi\",\n",
    "    \"email\": \"pmo@email.com\",\n",
    "    \"password\": \"pmo12345\",\n",
    "    \"confirm_password\": \"pmo12345\"\n",
    "}\n",
    "route = account_view.RegisterAPI.name\n",
    "response = post_request(data=user_pmo, route=route, type_json=True)\n",
    "res_json = response.json()\n",
    "df = None\n",
    "\n",
    "if response.status_code == 201:\n",
    "    stakeholder_pmo = res_json.get('user')\n",
    "    token_pmo = res_json.get('token')\n",
    "    result = res_json.get('detail')\n",
    "    print(\"Result: \", result)\n",
    "    print(\"Authorization token: \", token_pmo)\n",
    "    print(\"User: \")\n",
    "    df = pd.json_normalize(stakeholder_pmo)\n",
    "else:\n",
    "    result = res_json.get('email')[0]\n",
    "    print(\"Result: \", result)\n",
    "    print(\"HTTP status code: \", response.status_code)\n",
    "df"
   ]
  },
  {
   "cell_type": "code",
   "execution_count": 5,
   "id": "b30e49e6",
   "metadata": {},
   "outputs": [],
   "source": [
    "info = '''\n",
    "    To proceed with following steps, System admin needs to navigate to administration panel and\n",
    "    to define user role of 'project management office' user account as 'PMO' after registration \n",
    "    of 'project management office' account. Because, default user role is 'U' stands for 'undefined'.\n",
    "    Then 'project management office' can manage all.\n",
    "    Administration panel:  'http://localhost:8000/admin'\n",
    "    If there is not system admin account, create new one using python command and follow steps.\n",
    "    Command: python manage.py createsuperuser\n",
    "'''\n",
    "# to proceed api calls on jupyter notebook\n",
    "# define user role of 'project management office' using django models\n",
    "db_user = User.objects.get(pk=stakeholder_pmo['id'])\n",
    "db_user.user_role = \"PMO\"\n",
    "db_user.save()"
   ]
  },
  {
   "cell_type": "code",
   "execution_count": 6,
   "id": "842ebcc8",
   "metadata": {},
   "outputs": [
    {
     "name": "stdout",
     "output_type": "stream",
     "text": [
      "Result:  User resgistered succesfully!\n",
      "Authorization token:  99a1f640c9d3af17baae232725a5072fe38a2970a3822717d540195169a63058\n",
      "User: \n"
     ]
    },
    {
     "data": {
      "text/html": [
       "<div>\n",
       "<style scoped>\n",
       "    .dataframe tbody tr th:only-of-type {\n",
       "        vertical-align: middle;\n",
       "    }\n",
       "\n",
       "    .dataframe tbody tr th {\n",
       "        vertical-align: top;\n",
       "    }\n",
       "\n",
       "    .dataframe thead th {\n",
       "        text-align: right;\n",
       "    }\n",
       "</style>\n",
       "<table border=\"1\" class=\"dataframe\">\n",
       "  <thead>\n",
       "    <tr style=\"text-align: right;\">\n",
       "      <th></th>\n",
       "      <th>id</th>\n",
       "      <th>first_name</th>\n",
       "      <th>last_name</th>\n",
       "      <th>email</th>\n",
       "      <th>user_role</th>\n",
       "      <th>is_active</th>\n",
       "    </tr>\n",
       "  </thead>\n",
       "  <tbody>\n",
       "    <tr>\n",
       "      <th>0</th>\n",
       "      <td>37</td>\n",
       "      <td>Lucas</td>\n",
       "      <td>Andos</td>\n",
       "      <td>pm@email.com</td>\n",
       "      <td>U</td>\n",
       "      <td>True</td>\n",
       "    </tr>\n",
       "  </tbody>\n",
       "</table>\n",
       "</div>"
      ],
      "text/plain": [
       "   id first_name last_name         email user_role  is_active\n",
       "0  37      Lucas     Andos  pm@email.com         U       True"
      ]
     },
     "execution_count": 6,
     "metadata": {},
     "output_type": "execute_result"
    }
   ],
   "source": [
    "# Register user 'project manager'\n",
    "user_pm = {\n",
    "    \"first_name\": \"Lucas\",\n",
    "    \"last_name\": \"Andos\",\n",
    "    \"email\": \"pm@email.com\",\n",
    "    \"password\": \"pm123456\",\n",
    "    \"confirm_password\": \"pm123456\"\n",
    "}\n",
    "route = account_view.RegisterAPI.name\n",
    "response = post_request(data=user_pm, route=route, type_json=True)\n",
    "res_json = response.json()\n",
    "df = None\n",
    "\n",
    "if response.status_code == 201:\n",
    "    stakeholder_pm = res_json.get('user')\n",
    "    token_pm = res_json.get('token')\n",
    "    result = res_json.get('detail')\n",
    "    print(\"Result: \", result)\n",
    "    print(\"Authorization token: \", token_pm)\n",
    "    print(\"User: \")\n",
    "    df = pd.json_normalize(stakeholder_pm)\n",
    "else:\n",
    "    result = res_json.get('email')[0]\n",
    "    print(\"Result: \", result)\n",
    "    print(\"HTTP status code: \", response.status_code)\n",
    "df"
   ]
  },
  {
   "cell_type": "code",
   "execution_count": 7,
   "id": "ce9cb577",
   "metadata": {},
   "outputs": [
    {
     "name": "stdout",
     "output_type": "stream",
     "text": [
      "Result:  User resgistered succesfully!\n",
      "Authorization token:  e27d30f50b7e46e01cc6fe101bef88bab9bec18062ab5ad7c2011b51d8ce2827\n",
      "User: \n"
     ]
    },
    {
     "data": {
      "text/html": [
       "<div>\n",
       "<style scoped>\n",
       "    .dataframe tbody tr th:only-of-type {\n",
       "        vertical-align: middle;\n",
       "    }\n",
       "\n",
       "    .dataframe tbody tr th {\n",
       "        vertical-align: top;\n",
       "    }\n",
       "\n",
       "    .dataframe thead th {\n",
       "        text-align: right;\n",
       "    }\n",
       "</style>\n",
       "<table border=\"1\" class=\"dataframe\">\n",
       "  <thead>\n",
       "    <tr style=\"text-align: right;\">\n",
       "      <th></th>\n",
       "      <th>id</th>\n",
       "      <th>first_name</th>\n",
       "      <th>last_name</th>\n",
       "      <th>email</th>\n",
       "      <th>user_role</th>\n",
       "      <th>is_active</th>\n",
       "    </tr>\n",
       "  </thead>\n",
       "  <tbody>\n",
       "    <tr>\n",
       "      <th>0</th>\n",
       "      <td>38</td>\n",
       "      <td>Giovanni</td>\n",
       "      <td>Valdieri</td>\n",
       "      <td>ps@email.com</td>\n",
       "      <td>U</td>\n",
       "      <td>True</td>\n",
       "    </tr>\n",
       "  </tbody>\n",
       "</table>\n",
       "</div>"
      ],
      "text/plain": [
       "   id first_name last_name         email user_role  is_active\n",
       "0  38   Giovanni  Valdieri  ps@email.com         U       True"
      ]
     },
     "execution_count": 7,
     "metadata": {},
     "output_type": "execute_result"
    }
   ],
   "source": [
    "# Register user 'project sponsor'\n",
    "user_ps = {\n",
    "    \"first_name\": \"Giovanni\",\n",
    "    \"last_name\": \"Valdieri\",\n",
    "    \"email\": \"ps@email.com\",\n",
    "    \"password\": \"ps123456\",\n",
    "    \"confirm_password\": \"ps123456\"\n",
    "}\n",
    "route = account_view.RegisterAPI.name\n",
    "response = post_request(data=user_ps, route=route, type_json=True)\n",
    "res_json = response.json()\n",
    "df = None\n",
    "\n",
    "if response.status_code == 201:    \n",
    "    stakeholder_ps = res_json.get('user')\n",
    "    token_ps = res_json.get('token')\n",
    "    result = res_json.get('detail')\n",
    "    print(\"Result: \", result)\n",
    "    print(\"Authorization token: \", token_ps)\n",
    "    print(\"User: \")\n",
    "    df = pd.json_normalize(stakeholder_ps)\n",
    "else:\n",
    "    result = res_json.get('email')[0]\n",
    "    print(\"Result: \", result)\n",
    "    print(\"HTTP status code: \", response.status_code)\n",
    "df"
   ]
  },
  {
   "cell_type": "code",
   "execution_count": 8,
   "id": "0268df65",
   "metadata": {},
   "outputs": [
    {
     "name": "stdout",
     "output_type": "stream",
     "text": [
      "Result:  User resgistered succesfully!\n",
      "Authorization token:  82767b03dd6bfcdc13099398b79971a6f42f8fd243d24d22436f770a1fdc5582\n",
      "User: \n"
     ]
    },
    {
     "data": {
      "text/html": [
       "<div>\n",
       "<style scoped>\n",
       "    .dataframe tbody tr th:only-of-type {\n",
       "        vertical-align: middle;\n",
       "    }\n",
       "\n",
       "    .dataframe tbody tr th {\n",
       "        vertical-align: top;\n",
       "    }\n",
       "\n",
       "    .dataframe thead th {\n",
       "        text-align: right;\n",
       "    }\n",
       "</style>\n",
       "<table border=\"1\" class=\"dataframe\">\n",
       "  <thead>\n",
       "    <tr style=\"text-align: right;\">\n",
       "      <th></th>\n",
       "      <th>id</th>\n",
       "      <th>first_name</th>\n",
       "      <th>last_name</th>\n",
       "      <th>email</th>\n",
       "      <th>user_role</th>\n",
       "      <th>is_active</th>\n",
       "    </tr>\n",
       "  </thead>\n",
       "  <tbody>\n",
       "    <tr>\n",
       "      <th>0</th>\n",
       "      <td>39</td>\n",
       "      <td>Maria</td>\n",
       "      <td>Lilla</td>\n",
       "      <td>pc@email.com</td>\n",
       "      <td>U</td>\n",
       "      <td>True</td>\n",
       "    </tr>\n",
       "  </tbody>\n",
       "</table>\n",
       "</div>"
      ],
      "text/plain": [
       "   id first_name last_name         email user_role  is_active\n",
       "0  39      Maria     Lilla  pc@email.com         U       True"
      ]
     },
     "execution_count": 8,
     "metadata": {},
     "output_type": "execute_result"
    }
   ],
   "source": [
    "# Register user 'project controller'\n",
    "user_pc = {\n",
    "    \"first_name\": \"Maria\",\n",
    "    \"last_name\": \"Lilla\",\n",
    "    \"email\": \"pc@email.com\",\n",
    "    \"password\": \"pc123456\",\n",
    "    \"confirm_password\": \"pc123456\"\n",
    "}\n",
    "route = account_view.RegisterAPI.name\n",
    "response = post_request(data=user_pc, route=route, type_json=True)\n",
    "res_json = response.json()\n",
    "df = None\n",
    "\n",
    "if response.status_code == 201:\n",
    "    stakeholder_pc = res_json.get('user')\n",
    "    token_pc = res_json.get('token')\n",
    "    result = res_json.get('detail')\n",
    "    print(\"Result: \", result)\n",
    "    print(\"Authorization token: \", token_pc)\n",
    "    print(\"User: \")\n",
    "    df = pd.json_normalize(stakeholder_pc)\n",
    "else:\n",
    "    result = res_json.get('email')[0]\n",
    "    print(\"Result: \", result)\n",
    "    print(\"HTTP status code: \", response.status_code)\n",
    "df"
   ]
  },
  {
   "cell_type": "code",
   "execution_count": 9,
   "id": "9b1c75c0",
   "metadata": {},
   "outputs": [
    {
     "name": "stdout",
     "output_type": "stream",
     "text": [
      "Authorization token:  46bf454e456e8cfdcbf3342801b55ea483dfb7629c3e43f63e60c3acf1a6931f\n",
      "User data: \n"
     ]
    },
    {
     "data": {
      "text/html": [
       "<div>\n",
       "<style scoped>\n",
       "    .dataframe tbody tr th:only-of-type {\n",
       "        vertical-align: middle;\n",
       "    }\n",
       "\n",
       "    .dataframe tbody tr th {\n",
       "        vertical-align: top;\n",
       "    }\n",
       "\n",
       "    .dataframe thead th {\n",
       "        text-align: right;\n",
       "    }\n",
       "</style>\n",
       "<table border=\"1\" class=\"dataframe\">\n",
       "  <thead>\n",
       "    <tr style=\"text-align: right;\">\n",
       "      <th></th>\n",
       "      <th>id</th>\n",
       "      <th>first_name</th>\n",
       "      <th>last_name</th>\n",
       "      <th>email</th>\n",
       "      <th>user_role</th>\n",
       "      <th>is_active</th>\n",
       "    </tr>\n",
       "  </thead>\n",
       "  <tbody>\n",
       "    <tr>\n",
       "      <th>0</th>\n",
       "      <td>36</td>\n",
       "      <td>Luca</td>\n",
       "      <td>Verdi</td>\n",
       "      <td>pmo@email.com</td>\n",
       "      <td>PMO</td>\n",
       "      <td>True</td>\n",
       "    </tr>\n",
       "  </tbody>\n",
       "</table>\n",
       "</div>"
      ],
      "text/plain": [
       "   id first_name last_name          email user_role  is_active\n",
       "0  36       Luca     Verdi  pmo@email.com       PMO       True"
      ]
     },
     "execution_count": 9,
     "metadata": {},
     "output_type": "execute_result"
    }
   ],
   "source": [
    "# login user 'project management office'\n",
    "user_pmo = {\n",
    "    \"email\": \"pmo@email.com\", \n",
    "    \"password\": \"pmo12345\"\n",
    "}\n",
    "route = account_view.LoginAPI.name\n",
    "response = post_request(data=user_pmo, route=route, type_json=True)\n",
    "res_json = response.json()\n",
    "df = None\n",
    "\n",
    "if response.status_code == 200:\n",
    "    stakeholder_pmo = res_json.get('user')\n",
    "    token_pmo = res_json.get('auth_token')\n",
    "    print(\"Authorization token: \", token_pmo)\n",
    "    print(\"User data: \")\n",
    "    df = pd.json_normalize(stakeholder_pmo)\n",
    "else:\n",
    "    result = res_json.get('detail')[0]\n",
    "    print(\"Result: \", result)\n",
    "    print(\"HTTP status code: \", response.status_code)\n",
    "df"
   ]
  },
  {
   "cell_type": "code",
   "execution_count": 10,
   "id": "76361fdf",
   "metadata": {},
   "outputs": [
    {
     "name": "stdout",
     "output_type": "stream",
     "text": [
      "Authorization token:  5f71c2802b51a49b619dab1885188a860b54b768d6f10894855ff84cb96e56f8\n",
      "User data: \n"
     ]
    },
    {
     "data": {
      "text/html": [
       "<div>\n",
       "<style scoped>\n",
       "    .dataframe tbody tr th:only-of-type {\n",
       "        vertical-align: middle;\n",
       "    }\n",
       "\n",
       "    .dataframe tbody tr th {\n",
       "        vertical-align: top;\n",
       "    }\n",
       "\n",
       "    .dataframe thead th {\n",
       "        text-align: right;\n",
       "    }\n",
       "</style>\n",
       "<table border=\"1\" class=\"dataframe\">\n",
       "  <thead>\n",
       "    <tr style=\"text-align: right;\">\n",
       "      <th></th>\n",
       "      <th>id</th>\n",
       "      <th>first_name</th>\n",
       "      <th>last_name</th>\n",
       "      <th>email</th>\n",
       "      <th>user_role</th>\n",
       "      <th>is_active</th>\n",
       "    </tr>\n",
       "  </thead>\n",
       "  <tbody>\n",
       "    <tr>\n",
       "      <th>0</th>\n",
       "      <td>37</td>\n",
       "      <td>Lucas</td>\n",
       "      <td>Andos</td>\n",
       "      <td>pm@email.com</td>\n",
       "      <td>U</td>\n",
       "      <td>True</td>\n",
       "    </tr>\n",
       "  </tbody>\n",
       "</table>\n",
       "</div>"
      ],
      "text/plain": [
       "   id first_name last_name         email user_role  is_active\n",
       "0  37      Lucas     Andos  pm@email.com         U       True"
      ]
     },
     "execution_count": 10,
     "metadata": {},
     "output_type": "execute_result"
    }
   ],
   "source": [
    "# login user 'project manager'\n",
    "user_pm = {\n",
    "    \"email\": \"pm@email.com\", \n",
    "    \"password\": \"pm123456\"\n",
    "}\n",
    "route = account_view.LoginAPI.name\n",
    "response = post_request(data=user_pm, route=route, type_json=True)\n",
    "res_json = response.json()\n",
    "df = None\n",
    "\n",
    "if response.status_code == 200:\n",
    "    stakeholder_pm = res_json.get('user')\n",
    "    token_pm = res_json.get('auth_token')\n",
    "    print(\"Authorization token: \", token_pm)\n",
    "    print(\"User data: \")\n",
    "    df = pd.json_normalize(stakeholder_pm)\n",
    "else:\n",
    "    result = res_json.get('detail')[0]\n",
    "    print(\"Result: \", result)\n",
    "    print(\"HTTP status code: \", response.status_code)\n",
    "df"
   ]
  },
  {
   "cell_type": "code",
   "execution_count": 11,
   "id": "40d37bcc",
   "metadata": {},
   "outputs": [
    {
     "name": "stdout",
     "output_type": "stream",
     "text": [
      "Authorization token:  96afdbea477b58637045bdcdef32d7e51d3441d9c078cfa01a48da5cd5091bcd\n",
      "User data: \n"
     ]
    },
    {
     "data": {
      "text/html": [
       "<div>\n",
       "<style scoped>\n",
       "    .dataframe tbody tr th:only-of-type {\n",
       "        vertical-align: middle;\n",
       "    }\n",
       "\n",
       "    .dataframe tbody tr th {\n",
       "        vertical-align: top;\n",
       "    }\n",
       "\n",
       "    .dataframe thead th {\n",
       "        text-align: right;\n",
       "    }\n",
       "</style>\n",
       "<table border=\"1\" class=\"dataframe\">\n",
       "  <thead>\n",
       "    <tr style=\"text-align: right;\">\n",
       "      <th></th>\n",
       "      <th>id</th>\n",
       "      <th>first_name</th>\n",
       "      <th>last_name</th>\n",
       "      <th>email</th>\n",
       "      <th>user_role</th>\n",
       "      <th>is_active</th>\n",
       "    </tr>\n",
       "  </thead>\n",
       "  <tbody>\n",
       "    <tr>\n",
       "      <th>0</th>\n",
       "      <td>38</td>\n",
       "      <td>Giovanni</td>\n",
       "      <td>Valdieri</td>\n",
       "      <td>ps@email.com</td>\n",
       "      <td>U</td>\n",
       "      <td>True</td>\n",
       "    </tr>\n",
       "  </tbody>\n",
       "</table>\n",
       "</div>"
      ],
      "text/plain": [
       "   id first_name last_name         email user_role  is_active\n",
       "0  38   Giovanni  Valdieri  ps@email.com         U       True"
      ]
     },
     "execution_count": 11,
     "metadata": {},
     "output_type": "execute_result"
    }
   ],
   "source": [
    "# login user 'project sponsor'\n",
    "user_ps = {\n",
    "    \"email\": \"ps@email.com\", \n",
    "    \"password\": \"ps123456\"\n",
    "}\n",
    "route = account_view.LoginAPI.name\n",
    "response = post_request(data=user_ps, route=route, type_json=True)\n",
    "res_json = response.json()\n",
    "df = None\n",
    "\n",
    "if response.status_code == 200:\n",
    "    stakeholder_ps = res_json.get('user')\n",
    "    token_ps = res_json.get('auth_token')\n",
    "    print(\"Authorization token: \", token_ps)\n",
    "    print(\"User data: \")\n",
    "    df = pd.json_normalize(stakeholder_ps)\n",
    "else:\n",
    "    result = res_json.get('detail')[0]\n",
    "    print(\"Result: \", result)\n",
    "    print(\"HTTP status code: \", response.status_code)\n",
    "df"
   ]
  },
  {
   "cell_type": "code",
   "execution_count": 12,
   "id": "2e90d462",
   "metadata": {},
   "outputs": [
    {
     "name": "stdout",
     "output_type": "stream",
     "text": [
      "Authorization token:  98c19b67ee5ee96f6f971bdb1ca0fa780ba92ab2ac6b555268018a058af59e86\n",
      "User data: \n"
     ]
    },
    {
     "data": {
      "text/html": [
       "<div>\n",
       "<style scoped>\n",
       "    .dataframe tbody tr th:only-of-type {\n",
       "        vertical-align: middle;\n",
       "    }\n",
       "\n",
       "    .dataframe tbody tr th {\n",
       "        vertical-align: top;\n",
       "    }\n",
       "\n",
       "    .dataframe thead th {\n",
       "        text-align: right;\n",
       "    }\n",
       "</style>\n",
       "<table border=\"1\" class=\"dataframe\">\n",
       "  <thead>\n",
       "    <tr style=\"text-align: right;\">\n",
       "      <th></th>\n",
       "      <th>id</th>\n",
       "      <th>first_name</th>\n",
       "      <th>last_name</th>\n",
       "      <th>email</th>\n",
       "      <th>user_role</th>\n",
       "      <th>is_active</th>\n",
       "    </tr>\n",
       "  </thead>\n",
       "  <tbody>\n",
       "    <tr>\n",
       "      <th>0</th>\n",
       "      <td>39</td>\n",
       "      <td>Maria</td>\n",
       "      <td>Lilla</td>\n",
       "      <td>pc@email.com</td>\n",
       "      <td>U</td>\n",
       "      <td>True</td>\n",
       "    </tr>\n",
       "  </tbody>\n",
       "</table>\n",
       "</div>"
      ],
      "text/plain": [
       "   id first_name last_name         email user_role  is_active\n",
       "0  39      Maria     Lilla  pc@email.com         U       True"
      ]
     },
     "execution_count": 12,
     "metadata": {},
     "output_type": "execute_result"
    }
   ],
   "source": [
    "# login user 'project controller'\n",
    "user_pc = {\n",
    "    \"email\": \"pc@email.com\", \n",
    "    \"password\": \"pc123456\"\n",
    "}\n",
    "route = account_view.LoginAPI.name\n",
    "response = post_request(data=user_pc, route=route, type_json=True)\n",
    "res_json = response.json()\n",
    "df = None\n",
    "\n",
    "if response.status_code == 200:\n",
    "    stakeholder_pc = res_json.get('user')\n",
    "    token_pc = res_json.get('auth_token')\n",
    "    print(\"Authorization token: \", token_pc)\n",
    "    print(\"User data: \")\n",
    "    df = pd.json_normalize(stakeholder_pc)\n",
    "else:\n",
    "    result = res_json.get('detail')[0]\n",
    "    print(\"Result: \", result)\n",
    "    print(\"HTTP status code: \", response.status_code)\n",
    "df"
   ]
  },
  {
   "cell_type": "code",
   "execution_count": 13,
   "id": "6cfcdc63",
   "metadata": {},
   "outputs": [
    {
     "name": "stdout",
     "output_type": "stream",
     "text": [
      "Result: User role defined successfully\n",
      "HTTP status code:  204\n"
     ]
    }
   ],
   "source": [
    "# As 'project management office', define user roles of stakeholders\n",
    "# user role of 'project manager'\n",
    "pm_id = stakeholder_pm.get(\"id\")\n",
    "user_role = {    \n",
    "    \"user_role\": \"PM\"\n",
    "}\n",
    "route = account_view.UpdateUserRoleAPI.name\n",
    "response = patch_request(data=user_role, route=route, auth_token=token_pmo, \n",
    "                         path_param=[pm_id], type_json=True)\n",
    "if response.status_code == 204:\n",
    "    print(\"Result: User role defined successfully\")\n",
    "    print(\"HTTP status code: \", response.status_code)\n",
    "else:\n",
    "    print(\"Result: \", response.json())\n",
    "    print(\"HTTP status code: \", response.status_code)"
   ]
  },
  {
   "cell_type": "code",
   "execution_count": 14,
   "id": "9f5e1817",
   "metadata": {},
   "outputs": [
    {
     "name": "stdout",
     "output_type": "stream",
     "text": [
      "Result: User role defined successfully\n",
      "HTTP status code:  204\n"
     ]
    }
   ],
   "source": [
    "# As 'project management office', define user roles of stakeholders\n",
    "# user role of 'project sponsor'\n",
    "ps_id = stakeholder_ps.get(\"id\")\n",
    "user_role = {    \n",
    "    \"user_role\": \"PS\"\n",
    "}\n",
    "route = account_view.UpdateUserRoleAPI.name\n",
    "response = patch_request(data=user_role, route=route, auth_token=token_pmo, \n",
    "                         path_param=[ps_id], type_json=True)\n",
    "if response.status_code == 204:\n",
    "    print(\"Result: User role defined successfully\")\n",
    "    print(\"HTTP status code: \", response.status_code)\n",
    "else:\n",
    "    print(\"Result: \", response.json())\n",
    "    print(\"HTTP status code: \", response.status_code)"
   ]
  },
  {
   "cell_type": "code",
   "execution_count": 15,
   "id": "3c85d619",
   "metadata": {},
   "outputs": [
    {
     "name": "stdout",
     "output_type": "stream",
     "text": [
      "Result: User role defined successfully\n",
      "HTTP status code:  204\n"
     ]
    }
   ],
   "source": [
    "# As 'project management office', define user roles of stakeholders\n",
    "# user role of 'project controller'\n",
    "pc_id = stakeholder_pc.get(\"id\")\n",
    "user_role = {    \n",
    "    \"user_role\": \"PC\"\n",
    "}\n",
    "route = account_view.UpdateUserRoleAPI.name\n",
    "response = patch_request(data=user_role, route=route, auth_token=token_pmo, \n",
    "                         path_param=[pc_id], type_json=True)\n",
    "if response.status_code == 204:\n",
    "    print(\"Result: User role defined successfully\")\n",
    "    print(\"HTTP status code: \", response.status_code)\n",
    "else:\n",
    "    print(\"Result: \", response.json())\n",
    "    print(\"HTTP status code: \", response.status_code)"
   ]
  },
  {
   "cell_type": "code",
   "execution_count": 16,
   "id": "7879d945",
   "metadata": {},
   "outputs": [
    {
     "name": "stdout",
     "output_type": "stream",
     "text": [
      "Users: \n"
     ]
    },
    {
     "data": {
      "text/html": [
       "<div>\n",
       "<style scoped>\n",
       "    .dataframe tbody tr th:only-of-type {\n",
       "        vertical-align: middle;\n",
       "    }\n",
       "\n",
       "    .dataframe tbody tr th {\n",
       "        vertical-align: top;\n",
       "    }\n",
       "\n",
       "    .dataframe thead th {\n",
       "        text-align: right;\n",
       "    }\n",
       "</style>\n",
       "<table border=\"1\" class=\"dataframe\">\n",
       "  <thead>\n",
       "    <tr style=\"text-align: right;\">\n",
       "      <th></th>\n",
       "      <th>id</th>\n",
       "      <th>first_name</th>\n",
       "      <th>last_name</th>\n",
       "      <th>email</th>\n",
       "      <th>user_role</th>\n",
       "      <th>is_active</th>\n",
       "    </tr>\n",
       "  </thead>\n",
       "  <tbody>\n",
       "    <tr>\n",
       "      <th>0</th>\n",
       "      <td>36</td>\n",
       "      <td>Luca</td>\n",
       "      <td>Verdi</td>\n",
       "      <td>pmo@email.com</td>\n",
       "      <td>PMO</td>\n",
       "      <td>True</td>\n",
       "    </tr>\n",
       "    <tr>\n",
       "      <th>1</th>\n",
       "      <td>37</td>\n",
       "      <td>Lucas</td>\n",
       "      <td>Andos</td>\n",
       "      <td>pm@email.com</td>\n",
       "      <td>PM</td>\n",
       "      <td>True</td>\n",
       "    </tr>\n",
       "    <tr>\n",
       "      <th>2</th>\n",
       "      <td>38</td>\n",
       "      <td>Giovanni</td>\n",
       "      <td>Valdieri</td>\n",
       "      <td>ps@email.com</td>\n",
       "      <td>PS</td>\n",
       "      <td>True</td>\n",
       "    </tr>\n",
       "    <tr>\n",
       "      <th>3</th>\n",
       "      <td>39</td>\n",
       "      <td>Maria</td>\n",
       "      <td>Lilla</td>\n",
       "      <td>pc@email.com</td>\n",
       "      <td>PC</td>\n",
       "      <td>True</td>\n",
       "    </tr>\n",
       "  </tbody>\n",
       "</table>\n",
       "</div>"
      ],
      "text/plain": [
       "   id first_name last_name          email user_role  is_active\n",
       "0  36       Luca     Verdi  pmo@email.com       PMO       True\n",
       "1  37      Lucas     Andos   pm@email.com        PM       True\n",
       "2  38   Giovanni  Valdieri   ps@email.com        PS       True\n",
       "3  39      Maria     Lilla   pc@email.com        PC       True"
      ]
     },
     "execution_count": 16,
     "metadata": {},
     "output_type": "execute_result"
    }
   ],
   "source": [
    "# As 'project management office'\n",
    "# Get All User list in the system\n",
    "route = account_view.UserListAPI.name\n",
    "response = get_request(route=route, auth_token=token_pmo)\n",
    "df = None\n",
    "\n",
    "if response.status_code == 200:\n",
    "    print(\"Users: \")\n",
    "    df = pd.json_normalize(response.json())\n",
    "else:\n",
    "    result = response.json().get('detail')\n",
    "    print(\"Result: \", result)\n",
    "    print(\"HTTP status code: \", response.status_code)\n",
    "df"
   ]
  },
  {
   "cell_type": "code",
   "execution_count": 17,
   "id": "0bf1182b",
   "metadata": {},
   "outputs": [
    {
     "name": "stdout",
     "output_type": "stream",
     "text": [
      "Result:  User deactivated successfully\n",
      "HTTP status code:  200\n"
     ]
    }
   ],
   "source": [
    "# As 'project management office', deactivate stakeholder account to prevent login\n",
    "# deactivate 'project controller'\n",
    "pc_id = stakeholder_pc.get(\"id\")\n",
    "route = account_view.DeactivateUserAPI.name\n",
    "response = patch_request(data=None, route=route, auth_token=token_pmo, path_param=[pc_id])\n",
    "if response.status_code == 200:\n",
    "    print(\"Result: \", response.json().get(\"detail\"))\n",
    "    print(\"HTTP status code: \", response.status_code)\n",
    "else:\n",
    "    print(\"Result: \", response.json().get(\"detail\"))\n",
    "    print(\"HTTP status code: \", response.status_code)"
   ]
  },
  {
   "cell_type": "code",
   "execution_count": 18,
   "id": "acbb63d2",
   "metadata": {},
   "outputs": [
    {
     "name": "stdout",
     "output_type": "stream",
     "text": [
      "User account is active:  False\n",
      "User data: \n"
     ]
    },
    {
     "data": {
      "text/html": [
       "<div>\n",
       "<style scoped>\n",
       "    .dataframe tbody tr th:only-of-type {\n",
       "        vertical-align: middle;\n",
       "    }\n",
       "\n",
       "    .dataframe tbody tr th {\n",
       "        vertical-align: top;\n",
       "    }\n",
       "\n",
       "    .dataframe thead th {\n",
       "        text-align: right;\n",
       "    }\n",
       "</style>\n",
       "<table border=\"1\" class=\"dataframe\">\n",
       "  <thead>\n",
       "    <tr style=\"text-align: right;\">\n",
       "      <th></th>\n",
       "      <th>id</th>\n",
       "      <th>first_name</th>\n",
       "      <th>last_name</th>\n",
       "      <th>email</th>\n",
       "      <th>user_role</th>\n",
       "      <th>is_active</th>\n",
       "    </tr>\n",
       "  </thead>\n",
       "  <tbody>\n",
       "    <tr>\n",
       "      <th>0</th>\n",
       "      <td>39</td>\n",
       "      <td>Maria</td>\n",
       "      <td>Lilla</td>\n",
       "      <td>pc@email.com</td>\n",
       "      <td>PC</td>\n",
       "      <td>False</td>\n",
       "    </tr>\n",
       "  </tbody>\n",
       "</table>\n",
       "</div>"
      ],
      "text/plain": [
       "   id first_name last_name         email user_role  is_active\n",
       "0  39      Maria     Lilla  pc@email.com        PC      False"
      ]
     },
     "execution_count": 18,
     "metadata": {},
     "output_type": "execute_result"
    }
   ],
   "source": [
    "# As 'project management office'\n",
    "# Get details of user account 'project controller'\n",
    "pc_id = stakeholder_pc.get(\"id\")\n",
    "route = account_view.UserDetailsAPI.name\n",
    "response = get_request(route=route, auth_token=token_pmo, path_param=[pc_id])\n",
    "df = None\n",
    "\n",
    "if response.status_code == 200:\n",
    "    print(\"User account is active: \", response.json().get(\"is_active\"))\n",
    "    print(\"User data: \")\n",
    "    df = pd.json_normalize(response.json())\n",
    "else:\n",
    "    result = response.json().get('detail')\n",
    "    print(\"Result: \", result)\n",
    "    print(\"HTTP status code: \", response.status_code)\n",
    "df"
   ]
  },
  {
   "cell_type": "code",
   "execution_count": 19,
   "id": "f1a8c5dc",
   "metadata": {},
   "outputs": [
    {
     "name": "stdout",
     "output_type": "stream",
     "text": [
      "Result:  The email or password is incorrect\n",
      "HTTP status code:  400\n"
     ]
    }
   ],
   "source": [
    "# login as deavtivated 'project controller'\n",
    "user_pc = {\n",
    "    \"email\": \"pc@email.com\", \n",
    "    \"password\": \"pc123456\"\n",
    "}\n",
    "route = account_view.LoginAPI.name\n",
    "response = post_request(data=user_pc, route=route, type_json=True)\n",
    "res_json = response.json()\n",
    "df = None\n",
    "\n",
    "if response.status_code == 200:\n",
    "    stakeholder_pc = res_json.get('user')\n",
    "    token_pc = res_json.get('auth_token')\n",
    "    print(\"Authorization token: \", token_pc)\n",
    "    print(\"User data: \")\n",
    "    df = pd.json_normalize(stakeholder_pc)\n",
    "else:\n",
    "    result = res_json.get('detail')[0]\n",
    "    print(\"Result: \", result)\n",
    "    print(\"HTTP status code: \", response.status_code)\n",
    "df"
   ]
  },
  {
   "cell_type": "code",
   "execution_count": 20,
   "id": "78866e27",
   "metadata": {},
   "outputs": [
    {
     "name": "stdout",
     "output_type": "stream",
     "text": [
      "Result:  User activated successfully\n",
      "HTTP status code:  200\n"
     ]
    }
   ],
   "source": [
    "# As 'project management office', activate stakeholder account to allow login\n",
    "# activate 'project controller'\n",
    "pc_id = stakeholder_pc.get(\"id\")\n",
    "route = account_view.ActivateUserAPI.name\n",
    "response = patch_request(data=None, route=route, auth_token=token_pmo, path_param=[pc_id])\n",
    "if response.status_code == 200:\n",
    "    print(\"Result: \", response.json().get(\"detail\"))\n",
    "    print(\"HTTP status code: \", response.status_code)\n",
    "else:\n",
    "    print(\"Result: \", response.json().get(\"detail\"))\n",
    "    print(\"HTTP status code: \", response.status_code)"
   ]
  },
  {
   "cell_type": "code",
   "execution_count": 21,
   "id": "47a78561",
   "metadata": {},
   "outputs": [
    {
     "name": "stdout",
     "output_type": "stream",
     "text": [
      "User account is active:  True\n",
      "User data: \n"
     ]
    },
    {
     "data": {
      "text/html": [
       "<div>\n",
       "<style scoped>\n",
       "    .dataframe tbody tr th:only-of-type {\n",
       "        vertical-align: middle;\n",
       "    }\n",
       "\n",
       "    .dataframe tbody tr th {\n",
       "        vertical-align: top;\n",
       "    }\n",
       "\n",
       "    .dataframe thead th {\n",
       "        text-align: right;\n",
       "    }\n",
       "</style>\n",
       "<table border=\"1\" class=\"dataframe\">\n",
       "  <thead>\n",
       "    <tr style=\"text-align: right;\">\n",
       "      <th></th>\n",
       "      <th>id</th>\n",
       "      <th>first_name</th>\n",
       "      <th>last_name</th>\n",
       "      <th>email</th>\n",
       "      <th>user_role</th>\n",
       "      <th>is_active</th>\n",
       "    </tr>\n",
       "  </thead>\n",
       "  <tbody>\n",
       "    <tr>\n",
       "      <th>0</th>\n",
       "      <td>39</td>\n",
       "      <td>Maria</td>\n",
       "      <td>Lilla</td>\n",
       "      <td>pc@email.com</td>\n",
       "      <td>PC</td>\n",
       "      <td>True</td>\n",
       "    </tr>\n",
       "  </tbody>\n",
       "</table>\n",
       "</div>"
      ],
      "text/plain": [
       "   id first_name last_name         email user_role  is_active\n",
       "0  39      Maria     Lilla  pc@email.com        PC       True"
      ]
     },
     "execution_count": 21,
     "metadata": {},
     "output_type": "execute_result"
    }
   ],
   "source": [
    "# As 'project management office'\n",
    "# Get details of user account 'project controller'\n",
    "pc_id = stakeholder_pc.get(\"id\")\n",
    "route = account_view.UserDetailsAPI.name\n",
    "response = get_request(route=route, auth_token=token_pmo, path_param=[pc_id])\n",
    "df = None\n",
    "\n",
    "if response.status_code == 200:\n",
    "    print(\"User account is active: \", response.json().get(\"is_active\"))\n",
    "    print(\"User data: \")\n",
    "    df = pd.json_normalize(response.json())\n",
    "else:\n",
    "    result = response.json().get('detail')\n",
    "    print(\"Result: \", result)\n",
    "    print(\"HTTP status code: \", response.status_code)\n",
    "df"
   ]
  }
 ],
 "metadata": {
  "kernelspec": {
   "display_name": "Python 3 (ipykernel)",
   "language": "python",
   "name": "python3"
  },
  "language_info": {
   "codemirror_mode": {
    "name": "ipython",
    "version": 3
   },
   "file_extension": ".py",
   "mimetype": "text/x-python",
   "name": "python",
   "nbconvert_exporter": "python",
   "pygments_lexer": "ipython3",
   "version": "3.10.2"
  }
 },
 "nbformat": 4,
 "nbformat_minor": 5
}
